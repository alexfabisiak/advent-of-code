{
 "cells": [
  {
   "cell_type": "code",
   "execution_count": 1,
   "id": "cca57e6d-5224-493a-a2a9-5e23bb5546c2",
   "metadata": {},
   "outputs": [],
   "source": [
    "from aocd import get_data, submit\n",
    "# from aocd.get import current_day\n",
    "\n",
    "from IPython.display import display\n",
    "from IPython.core.display import Markdown\n",
    "\n",
    "import math\n",
    "import numpy as np\n",
    "import re\n",
    "import sys"
   ]
  },
  {
   "cell_type": "code",
   "execution_count": 2,
   "id": "e4d6b8a4-25ef-4630-8aa6-6c95c7a8be09",
   "metadata": {},
   "outputs": [],
   "source": [
    "DAY = 12\n",
    "YEAR = 2023"
   ]
  },
  {
   "cell_type": "code",
   "execution_count": 3,
   "id": "388077b9-edd1-4ab9-9a3c-5e24b66346a8",
   "metadata": {},
   "outputs": [
    {
     "data": {
      "text/markdown": [
       "#### See [2023 Day 12](https://adventofcode.com/2023/day/12)."
      ],
      "text/plain": [
       "<IPython.core.display.Markdown object>"
      ]
     },
     "metadata": {},
     "output_type": "display_data"
    }
   ],
   "source": [
    "url = f\"https://adventofcode.com/{YEAR}/day/{DAY}\"\n",
    "display(Markdown(f\"#### See [{YEAR} Day {DAY}]({url}).\"))"
   ]
  },
  {
   "cell_type": "code",
   "execution_count": 248,
   "id": "ced1e284-733b-49e7-9154-18d54af53bdb",
   "metadata": {},
   "outputs": [],
   "source": [
    "data = get_data(year=YEAR, day=DAY)"
   ]
  },
  {
   "cell_type": "code",
   "execution_count": 249,
   "id": "97d3a4d3-b08a-4bff-bfb8-d37cc82a395d",
   "metadata": {},
   "outputs": [
    {
     "data": {
      "text/plain": [
       "['#?#???????#?.? 3,1,2,2',\n",
       " '.??.##.?#????.??#? 2,2,1,2,4',\n",
       " '.?.??#?##??#????.. 8,1',\n",
       " '??????????#.. 6,1',\n",
       " '.#.##????.??.? 1,6,1']"
      ]
     },
     "execution_count": 249,
     "metadata": {},
     "output_type": "execute_result"
    }
   ],
   "source": [
    "data.splitlines()[:5]"
   ]
  },
  {
   "cell_type": "code",
   "execution_count": 62,
   "id": "368e7a38-c4dd-4ea4-9e57-2edb820c6224",
   "metadata": {},
   "outputs": [
    {
     "data": {
      "text/plain": [
       "1000"
      ]
     },
     "execution_count": 62,
     "metadata": {},
     "output_type": "execute_result"
    }
   ],
   "source": [
    "len(data.splitlines())"
   ]
  },
  {
   "cell_type": "markdown",
   "id": "c644d7ff-3812-4bcf-b4a4-6feb40c40374",
   "metadata": {},
   "source": [
    "# Part A"
   ]
  },
  {
   "cell_type": "code",
   "execution_count": 77,
   "id": "b871c35c-b8cf-4b9f-84ce-456f133addd6",
   "metadata": {},
   "outputs": [],
   "source": [
    "data = \"\"\"???.### 1,1,3\n",
    ".??..??...?##. 1,1,3\n",
    "?#?#?#?#?#?#?#? 1,3,1,6\n",
    "????.#...#... 4,1,1\n",
    "????.######..#####. 1,6,5\n",
    "?###???????? 3,2,1\n",
    "\"\"\""
   ]
  },
  {
   "cell_type": "code",
   "execution_count": 266,
   "id": "8ef96fe6-9453-4850-a73b-dc785ddc7150",
   "metadata": {},
   "outputs": [],
   "source": [
    "possible = []\n",
    "\n",
    "def possible_arrangements(base, sizes, n):\n",
    "    if n == 0:\n",
    "        if len(sizes) == 0:\n",
    "            # print(f'return1: {base}')\n",
    "            possible.append(base)\n",
    "        else:\n",
    "            # print(f'nonreturn1: {base}')\n",
    "            pass\n",
    "        return\n",
    "    if n < 0:\n",
    "        # print(f'nonreturn1: {base}')\n",
    "        return\n",
    "    if len(sizes) == 0:\n",
    "        possible.append(base + '.' * n)\n",
    "        # print(f'return2: {base + '.' * n}')\n",
    "        return\n",
    "    if (len(sizes) == 1) and (sizes[0] == n):\n",
    "        possible.append(base + '#' * sizes[0])\n",
    "        # print(f'return3: {base + '#' * sizes[0]}')\n",
    "        return\n",
    "    possible_arrangements(base + '.', sizes, n-1)\n",
    "    possible_arrangements(base + '#' * sizes[0] + '.', sizes[1:], n - sizes[0] - 1)"
   ]
  },
  {
   "cell_type": "code",
   "execution_count": 267,
   "id": "a785237b-d48b-4944-994f-d19b00c4ac37",
   "metadata": {},
   "outputs": [],
   "source": [
    "def compatible(ref, cand):\n",
    "    for r, c in zip(ref, cand):\n",
    "        if r == '.' and c != '.':\n",
    "            return False\n",
    "        if r == '#' and c != '#':\n",
    "            return False\n",
    "    return True\n",
    "    "
   ]
  },
  {
   "cell_type": "code",
   "execution_count": 268,
   "id": "a20c0e48-aa6d-4ff9-be8f-eb1ff226f194",
   "metadata": {},
   "outputs": [],
   "source": [
    "arrangements = []\n",
    "for i, l in enumerate(data.splitlines()):\n",
    "    locations, sizes = l.split()\n",
    "    sizes = list(map(int, sizes.split(',')))\n",
    "    \n",
    "    n = len(locations)\n",
    "    possible = []\n",
    "    possible_arrangements('', sizes, n)\n",
    "    t = 0\n",
    "    for p in possible:\n",
    "        if compatible(locations, p):\n",
    "            t += 1\n",
    "    arrangements.append(t)"
   ]
  },
  {
   "cell_type": "code",
   "execution_count": 270,
   "id": "1da558f2-6581-46d3-8386-f57455721ea0",
   "metadata": {},
   "outputs": [
    {
     "data": {
      "text/plain": [
       "7007"
      ]
     },
     "execution_count": 270,
     "metadata": {},
     "output_type": "execute_result"
    }
   ],
   "source": [
    "total = sum(arrangements)\n",
    "total"
   ]
  },
  {
   "cell_type": "code",
   "execution_count": 67,
   "id": "50e12a9e-ffbc-485e-9724-79f97cd341f9",
   "metadata": {},
   "outputs": [
    {
     "name": "stderr",
     "output_type": "stream",
     "text": [
      "answer a: 7007\n",
      "submitting for part b (part a is already completed)\n"
     ]
    },
    {
     "ename": "AocdError",
     "evalue": "cowardly refusing to submit 7007 for part b, because that was the answer for part a",
     "output_type": "error",
     "traceback": [
      "\u001b[0;31m---------------------------------------------------------------------------\u001b[0m",
      "\u001b[0;31mAocdError\u001b[0m                                 Traceback (most recent call last)",
      "Cell \u001b[0;32mIn[67], line 1\u001b[0m\n\u001b[0;32m----> 1\u001b[0m \u001b[43msubmit\u001b[49m\u001b[43m(\u001b[49m\u001b[43mtotal\u001b[49m\u001b[43m,\u001b[49m\u001b[43m \u001b[49m\u001b[43myear\u001b[49m\u001b[38;5;241;43m=\u001b[39;49m\u001b[43mYEAR\u001b[49m\u001b[43m,\u001b[49m\u001b[43m \u001b[49m\u001b[43mday\u001b[49m\u001b[38;5;241;43m=\u001b[39;49m\u001b[43mDAY\u001b[49m\u001b[43m)\u001b[49m\n",
      "File \u001b[0;32m~/Library/Caches/pypoetry/virtualenvs/advent-of-code-DXdkk4dA-py3.12/lib/python3.12/site-packages/aocd/post.py:57\u001b[0m, in \u001b[0;36msubmit\u001b[0;34m(answer, part, day, year, session, reopen, quiet)\u001b[0m\n\u001b[1;32m     55\u001b[0m         log\u001b[38;5;241m.\u001b[39mwarning(\u001b[38;5;124m\"\u001b[39m\u001b[38;5;124msubmitting for part b (part a is already completed)\u001b[39m\u001b[38;5;124m\"\u001b[39m)\n\u001b[1;32m     56\u001b[0m         part \u001b[38;5;241m=\u001b[39m \u001b[38;5;124m\"\u001b[39m\u001b[38;5;124mb\u001b[39m\u001b[38;5;124m\"\u001b[39m\n\u001b[0;32m---> 57\u001b[0m response \u001b[38;5;241m=\u001b[39m \u001b[43mpuzzle\u001b[49m\u001b[38;5;241;43m.\u001b[39;49m\u001b[43m_submit\u001b[49m\u001b[43m(\u001b[49m\u001b[43mvalue\u001b[49m\u001b[38;5;241;43m=\u001b[39;49m\u001b[43manswer\u001b[49m\u001b[43m,\u001b[49m\u001b[43m \u001b[49m\u001b[43mpart\u001b[49m\u001b[38;5;241;43m=\u001b[39;49m\u001b[43mpart\u001b[49m\u001b[43m,\u001b[49m\u001b[43m \u001b[49m\u001b[43mreopen\u001b[49m\u001b[38;5;241;43m=\u001b[39;49m\u001b[43mreopen\u001b[49m\u001b[43m,\u001b[49m\u001b[43m \u001b[49m\u001b[43mquiet\u001b[49m\u001b[38;5;241;43m=\u001b[39;49m\u001b[43mquiet\u001b[49m\u001b[43m)\u001b[49m\n\u001b[1;32m     58\u001b[0m \u001b[38;5;28;01mreturn\u001b[39;00m response\n",
      "File \u001b[0;32m~/Library/Caches/pypoetry/virtualenvs/advent-of-code-DXdkk4dA-py3.12/lib/python3.12/site-packages/aocd/models.py:508\u001b[0m, in \u001b[0;36mPuzzle._submit\u001b[0;34m(self, value, part, reopen, quiet)\u001b[0m\n\u001b[1;32m    506\u001b[0m     \u001b[38;5;28;01mreturn\u001b[39;00m\n\u001b[1;32m    507\u001b[0m \u001b[38;5;28;01mif\u001b[39;00m part \u001b[38;5;241m==\u001b[39m \u001b[38;5;124m\"\u001b[39m\u001b[38;5;124mb\u001b[39m\u001b[38;5;124m\"\u001b[39m \u001b[38;5;129;01mand\u001b[39;00m value \u001b[38;5;241m==\u001b[39m \u001b[38;5;28mgetattr\u001b[39m(\u001b[38;5;28mself\u001b[39m, \u001b[38;5;124m\"\u001b[39m\u001b[38;5;124manswer_a\u001b[39m\u001b[38;5;124m\"\u001b[39m, \u001b[38;5;28;01mNone\u001b[39;00m):\n\u001b[0;32m--> 508\u001b[0m     \u001b[38;5;28;01mraise\u001b[39;00m AocdError(\n\u001b[1;32m    509\u001b[0m         \u001b[38;5;124mf\u001b[39m\u001b[38;5;124m\"\u001b[39m\u001b[38;5;124mcowardly refusing to submit \u001b[39m\u001b[38;5;132;01m{\u001b[39;00mvalue\u001b[38;5;132;01m}\u001b[39;00m\u001b[38;5;124m for part b, \u001b[39m\u001b[38;5;124m\"\u001b[39m\n\u001b[1;32m    510\u001b[0m         \u001b[38;5;124m\"\u001b[39m\u001b[38;5;124mbecause that was the answer for part a\u001b[39m\u001b[38;5;124m\"\u001b[39m\n\u001b[1;32m    511\u001b[0m     )\n\u001b[1;32m    512\u001b[0m url \u001b[38;5;241m=\u001b[39m \u001b[38;5;28mself\u001b[39m\u001b[38;5;241m.\u001b[39msubmit_url\n\u001b[1;32m    513\u001b[0m check_guess \u001b[38;5;241m=\u001b[39m \u001b[38;5;28mself\u001b[39m\u001b[38;5;241m.\u001b[39m_check_already_solved(value, part)\n",
      "\u001b[0;31mAocdError\u001b[0m: cowardly refusing to submit 7007 for part b, because that was the answer for part a"
     ]
    }
   ],
   "source": [
    "submit(total, year=YEAR, day=DAY)"
   ]
  },
  {
   "cell_type": "markdown",
   "id": "ba3abf71-91fd-4fa4-94d3-4cf7b59d923f",
   "metadata": {},
   "source": [
    "# Part B"
   ]
  },
  {
   "cell_type": "code",
   "execution_count": 250,
   "id": "7edfbf6c-fbfb-425c-bed9-e65f3b8d99ce",
   "metadata": {},
   "outputs": [],
   "source": [
    "from functools import cache"
   ]
  },
  {
   "cell_type": "code",
   "execution_count": 320,
   "id": "b56e5529-33bc-4a0b-9b8f-16e4372aafbe",
   "metadata": {},
   "outputs": [],
   "source": [
    "@cache\n",
    "def num_possible(locations, groups, i, gi, c):\n",
    "    if i == len(locations):\n",
    "        # print('end of locations')\n",
    "        if gi == len(groups) and c == 0:\n",
    "            # print(f'used all groups {i, gi, c}')\n",
    "            return 1\n",
    "        elif gi == len(groups) - 1 and groups[gi] == c:\n",
    "            # print(f'ended on last group {i, gi, c}')\n",
    "            return 1\n",
    "        else:\n",
    "            # print('groups not used')\n",
    "            return 0\n",
    "    ans = 0\n",
    "    if locations[i] == '.':\n",
    "        if c > 0:\n",
    "            if gi == len(groups):\n",
    "                # print('too many groups')\n",
    "                return 0\n",
    "            elif c == groups[gi]:\n",
    "                # print('group complete')\n",
    "                ans += num_possible(locations, groups, i+1, gi+1, 0)\n",
    "            else:\n",
    "                # print('group wrong length')\n",
    "                return 0\n",
    "        else:\n",
    "            # print('continue dots')\n",
    "            ans += num_possible(locations, groups, i+1, gi, 0)\n",
    "    if locations[i] == '#':\n",
    "        # print('add to group')\n",
    "        ans += num_possible(locations, groups, i+1, gi, c+1)\n",
    "    if locations[i] == '?':\n",
    "        # print('question branch')\n",
    "        # Pretend dot\n",
    "        if c > 0:\n",
    "            if gi == len(groups):\n",
    "                # print('too many groups')\n",
    "                pass\n",
    "            elif c == groups[gi]:\n",
    "                # print('group complete')\n",
    "                ans += num_possible(locations, groups, i+1, gi+1, 0)\n",
    "            else:\n",
    "                # print('group wrong length')\n",
    "                pass\n",
    "        else:\n",
    "            # print('continue dots')\n",
    "            ans += num_possible(locations, groups, i+1, gi, 0)\n",
    "        # Pretend pound\n",
    "        # print('add to group')\n",
    "        if gi < len(groups):\n",
    "            ans += num_possible(locations, groups, i+1, gi, c+1)\n",
    "    return ans"
   ]
  },
  {
   "cell_type": "code",
   "execution_count": 324,
   "id": "49d0987c-3711-4a4f-94da-26c952f48aad",
   "metadata": {},
   "outputs": [],
   "source": [
    "arrangements = []\n",
    "for i, l in enumerate(data.splitlines()):\n",
    "    locations, sizes = l.split()\n",
    "    sizes = list(map(int, sizes.split(',')))\n",
    "\n",
    "    sizes *= 5\n",
    "    locations = '?'.join([locations]*5)\n",
    "    \n",
    "    n = num_possible(locations, tuple(sizes), 0, 0, 0)\n",
    "    arrangements.append(n)"
   ]
  },
  {
   "cell_type": "code",
   "execution_count": 325,
   "id": "ff147172-3d77-44b7-8e79-6d96c1cc837e",
   "metadata": {},
   "outputs": [
    {
     "data": {
      "text/plain": [
       "3476169006222"
      ]
     },
     "execution_count": 325,
     "metadata": {},
     "output_type": "execute_result"
    }
   ],
   "source": [
    "total = sum(arrangements)\n",
    "total"
   ]
  },
  {
   "cell_type": "code",
   "execution_count": 326,
   "id": "41e9575d-c42d-4f85-8bf5-1693eb554028",
   "metadata": {},
   "outputs": [
    {
     "name": "stderr",
     "output_type": "stream",
     "text": [
      "answer a: 7007\n",
      "submitting for part b (part a is already completed)\n"
     ]
    },
    {
     "name": "stdout",
     "output_type": "stream",
     "text": [
      "\u001b[32mThat's the right answer!  You are one gold star closer to restoring snow operations.You have completed Day 12! You can [Shareon\n",
      "  Twitter\n",
      "Mastodon] this victory or [Return to Your Advent Calendar].\u001b[0m\n"
     ]
    },
    {
     "data": {
      "text/plain": [
       "<urllib3.response.HTTPResponse at 0x1182df9d0>"
      ]
     },
     "execution_count": 326,
     "metadata": {},
     "output_type": "execute_result"
    }
   ],
   "source": [
    "submit(total, year=YEAR, day=DAY)"
   ]
  },
  {
   "cell_type": "code",
   "execution_count": null,
   "id": "81616ec5-aac9-402d-ae50-febbbbcc9fc9",
   "metadata": {},
   "outputs": [],
   "source": []
  }
 ],
 "metadata": {
  "kernelspec": {
   "display_name": "Python 3 (ipykernel)",
   "language": "python",
   "name": "python3"
  },
  "language_info": {
   "codemirror_mode": {
    "name": "ipython",
    "version": 3
   },
   "file_extension": ".py",
   "mimetype": "text/x-python",
   "name": "python",
   "nbconvert_exporter": "python",
   "pygments_lexer": "ipython3",
   "version": "3.12.0"
  }
 },
 "nbformat": 4,
 "nbformat_minor": 5
}
