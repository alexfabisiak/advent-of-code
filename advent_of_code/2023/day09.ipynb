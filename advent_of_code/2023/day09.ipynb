{
 "cells": [
  {
   "cell_type": "code",
   "execution_count": 1,
   "id": "cca57e6d-5224-493a-a2a9-5e23bb5546c2",
   "metadata": {},
   "outputs": [],
   "source": [
    "from aocd import get_data, submit\n",
    "# from aocd.get import current_day\n",
    "\n",
    "from IPython.display import display\n",
    "from IPython.core.display import Markdown\n",
    "\n",
    "import math\n",
    "import re\n",
    "import numpy as np"
   ]
  },
  {
   "cell_type": "code",
   "execution_count": 2,
   "id": "e4d6b8a4-25ef-4630-8aa6-6c95c7a8be09",
   "metadata": {},
   "outputs": [],
   "source": [
    "DAY = 9\n",
    "YEAR = 2023"
   ]
  },
  {
   "cell_type": "code",
   "execution_count": 3,
   "id": "388077b9-edd1-4ab9-9a3c-5e24b66346a8",
   "metadata": {},
   "outputs": [
    {
     "data": {
      "text/markdown": [
       "#### See [2023 Day 9](https://adventofcode.com/2023/day/9)."
      ],
      "text/plain": [
       "<IPython.core.display.Markdown object>"
      ]
     },
     "metadata": {},
     "output_type": "display_data"
    }
   ],
   "source": [
    "url = f\"https://adventofcode.com/{YEAR}/day/{DAY}\"\n",
    "display(Markdown(f\"#### See [{YEAR} Day {DAY}]({url}).\"))"
   ]
  },
  {
   "cell_type": "code",
   "execution_count": 30,
   "id": "ced1e284-733b-49e7-9154-18d54af53bdb",
   "metadata": {},
   "outputs": [],
   "source": [
    "data = get_data(year=YEAR, day=DAY)"
   ]
  },
  {
   "cell_type": "code",
   "execution_count": 31,
   "id": "97d3a4d3-b08a-4bff-bfb8-d37cc82a395d",
   "metadata": {},
   "outputs": [
    {
     "data": {
      "text/plain": [
       "['23 34 50 94 210 482 1077 2327 4864 9829 19209 36438 67557 123497 224466 408029 743317 1354940 2461668 4436846 7899892',\n",
       " '7 9 15 26 43 67 99 140 191 253 327 414 515 631 763 912 1079 1265 1471 1698 1947',\n",
       " '12 32 74 154 291 503 814 1298 2210 4286 9343 21393 48633 106944 226041 460406 909128 1752848 3324280 6245160 11693791',\n",
       " '5 18 46 106 235 508 1066 2167 4287 8327 16052 31043 60763 120970 244922 502099 1035401 2133556 4369562 8861092 17752611',\n",
       " '27 50 81 131 223 400 743 1399 2619 4806 8573 14811 24767 40132 63139 96671 144379 210810 301545 423347 584319']"
      ]
     },
     "execution_count": 31,
     "metadata": {},
     "output_type": "execute_result"
    }
   ],
   "source": [
    "data.splitlines()[:5]"
   ]
  },
  {
   "cell_type": "markdown",
   "id": "c644d7ff-3812-4bcf-b4a4-6feb40c40374",
   "metadata": {},
   "source": [
    "# Part A"
   ]
  },
  {
   "cell_type": "code",
   "execution_count": 49,
   "id": "b871c35c-b8cf-4b9f-84ce-456f133addd6",
   "metadata": {},
   "outputs": [],
   "source": [
    "data = \"\"\"0 3 6 9 12 15\n",
    "1 3 6 10 15 21\n",
    "10 13 16 21 30 45\n",
    "\"\"\""
   ]
  },
  {
   "cell_type": "code",
   "execution_count": 13,
   "id": "93b8497e-39d3-40b6-80a2-ea12d734db72",
   "metadata": {},
   "outputs": [
    {
     "data": {
      "text/plain": [
       "array([False, False, False, False, False, False])"
      ]
     },
     "execution_count": 13,
     "metadata": {},
     "output_type": "execute_result"
    }
   ],
   "source": [
    "l == 0"
   ]
  },
  {
   "cell_type": "code",
   "execution_count": 38,
   "id": "a0c82494-3595-4f31-8eb3-e24be1de6972",
   "metadata": {},
   "outputs": [],
   "source": [
    "total = 0\n",
    "for i, l in enumerate(data.splitlines()):\n",
    "    l = np.array(list(map(int, l.split())))\n",
    "    pred = l[-1]\n",
    "    while not all(l == 0):\n",
    "        l = np.diff(l)\n",
    "        pred += l[-1]\n",
    "    total += pred"
   ]
  },
  {
   "cell_type": "code",
   "execution_count": 39,
   "id": "50e12a9e-ffbc-485e-9724-79f97cd341f9",
   "metadata": {},
   "outputs": [
    {
     "name": "stderr",
     "output_type": "stream",
     "text": [
      "answer a: 1992273652\n",
      "submitting for part b (part a is already completed)\n",
      "coerced int64 value 1992273652 for 2023/09\n"
     ]
    },
    {
     "name": "stdout",
     "output_type": "stream",
     "text": [
      "aocd will not submit that answer. At 2023-12-09 00:15:48.570138-05:00 you've previously submitted 1012 and the server responded with:\n",
      "\u001b[32mThat's the right answer!  You are one gold star closer to restoring snow operations.You have completed Day 9! You can [Shareon\n",
      "  Twitter\n",
      "Mastodon] this victory or [Return to Your Advent Calendar].\u001b[0m\n",
      "It is certain that '1992273652' is incorrect, because '1992273652' != '1012'.\n"
     ]
    }
   ],
   "source": [
    "submit(total, year=YEAR, day=DAY)"
   ]
  },
  {
   "cell_type": "markdown",
   "id": "ba3abf71-91fd-4fa4-94d3-4cf7b59d923f",
   "metadata": {},
   "source": [
    "# Part B"
   ]
  },
  {
   "cell_type": "code",
   "execution_count": 40,
   "id": "49d0987c-3711-4a4f-94da-26c952f48aad",
   "metadata": {},
   "outputs": [],
   "source": [
    "total = 0\n",
    "for i, l in enumerate(data.splitlines()):\n",
    "    l = np.array(list(map(int, l.split())))\n",
    "    pred = l[0]\n",
    "    sign = -1\n",
    "    while not all(l == 0):\n",
    "        l = np.diff(l)\n",
    "        pred += sign * l[0]\n",
    "        sign *= -1\n",
    "    total += pred"
   ]
  },
  {
   "cell_type": "code",
   "execution_count": 41,
   "id": "3334e511-3ed6-4081-950d-97a5b2a5a758",
   "metadata": {},
   "outputs": [
    {
     "data": {
      "text/plain": [
       "1012"
      ]
     },
     "execution_count": 41,
     "metadata": {},
     "output_type": "execute_result"
    }
   ],
   "source": [
    "total"
   ]
  },
  {
   "cell_type": "code",
   "execution_count": 34,
   "id": "41e9575d-c42d-4f85-8bf5-1693eb554028",
   "metadata": {},
   "outputs": [
    {
     "name": "stderr",
     "output_type": "stream",
     "text": [
      "answer a: 1992273652\n",
      "submitting for part b (part a is already completed)\n",
      "coerced int64 value 1012 for 2023/09\n"
     ]
    },
    {
     "name": "stdout",
     "output_type": "stream",
     "text": [
      "\u001b[32mThat's the right answer!  You are one gold star closer to restoring snow operations.You have completed Day 9! You can [Shareon\n",
      "  Twitter\n",
      "Mastodon] this victory or [Return to Your Advent Calendar].\u001b[0m\n"
     ]
    },
    {
     "data": {
      "text/plain": [
       "<urllib3.response.HTTPResponse at 0x1092fb640>"
      ]
     },
     "execution_count": 34,
     "metadata": {},
     "output_type": "execute_result"
    }
   ],
   "source": [
    "submit(total, year=YEAR, day=DAY)"
   ]
  }
 ],
 "metadata": {
  "kernelspec": {
   "display_name": "Python 3 (ipykernel)",
   "language": "python",
   "name": "python3"
  },
  "language_info": {
   "codemirror_mode": {
    "name": "ipython",
    "version": 3
   },
   "file_extension": ".py",
   "mimetype": "text/x-python",
   "name": "python",
   "nbconvert_exporter": "python",
   "pygments_lexer": "ipython3",
   "version": "3.12.0"
  }
 },
 "nbformat": 4,
 "nbformat_minor": 5
}
