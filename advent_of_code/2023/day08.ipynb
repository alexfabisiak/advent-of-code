{
 "cells": [
  {
   "cell_type": "code",
   "execution_count": 1,
   "id": "cca57e6d-5224-493a-a2a9-5e23bb5546c2",
   "metadata": {},
   "outputs": [],
   "source": [
    "from aocd import get_data, submit\n",
    "# from aocd.get import current_day\n",
    "\n",
    "from IPython.display import display\n",
    "from IPython.core.display import Markdown\n",
    "\n",
    "import re\n",
    "import numpy as np\n",
    "import math"
   ]
  },
  {
   "cell_type": "code",
   "execution_count": 2,
   "id": "e4d6b8a4-25ef-4630-8aa6-6c95c7a8be09",
   "metadata": {},
   "outputs": [],
   "source": [
    "DAY = 8\n",
    "YEAR = 2023"
   ]
  },
  {
   "cell_type": "code",
   "execution_count": 3,
   "id": "388077b9-edd1-4ab9-9a3c-5e24b66346a8",
   "metadata": {},
   "outputs": [
    {
     "data": {
      "text/markdown": [
       "#### See [2023 Day 8](https://adventofcode.com/2023/day/8)."
      ],
      "text/plain": [
       "<IPython.core.display.Markdown object>"
      ]
     },
     "metadata": {},
     "output_type": "display_data"
    }
   ],
   "source": [
    "url = f\"https://adventofcode.com/{YEAR}/day/{DAY}\"\n",
    "display(Markdown(f\"#### See [{YEAR} Day {DAY}]({url}).\"))"
   ]
  },
  {
   "cell_type": "code",
   "execution_count": 4,
   "id": "ced1e284-733b-49e7-9154-18d54af53bdb",
   "metadata": {},
   "outputs": [],
   "source": [
    "data = get_data(year=YEAR, day=DAY)"
   ]
  },
  {
   "cell_type": "code",
   "execution_count": 5,
   "id": "97d3a4d3-b08a-4bff-bfb8-d37cc82a395d",
   "metadata": {},
   "outputs": [
    {
     "data": {
      "text/plain": [
       "['LRRRLRRRLRRLRLRRLLRRLLRLRRRLRRLRRRLRRLLRLRLRRRLRLLRRRLLRLRRRLRLRRRLRRRLRRRLRRRLRLLLRRRLRRLRRLRRRLRLRLRRLRLRRRLRLRLRLRRRLRRLRLRRRLRRLRRRLRRLLRRRLLRLLRLRRRLRLLRRLLRRRLRLLRRLRLRRLRRRLRLRLRLLRLRRRLRRRLRLLLRRRLRLRRRLRRLRRLLLLRLRRRLRLRRRLLRRRLRRRLRRRLLLRLRLRLLLLRRRLRRLRRRLRLRLRLRRRLRLRRRR',\n",
       " '',\n",
       " 'VJN = (LNC, RRK)',\n",
       " 'MJD = (HFS, VBQ)',\n",
       " 'GHK = (BDH, QGD)']"
      ]
     },
     "execution_count": 5,
     "metadata": {},
     "output_type": "execute_result"
    }
   ],
   "source": [
    "data.splitlines()[:5]"
   ]
  },
  {
   "cell_type": "markdown",
   "id": "c644d7ff-3812-4bcf-b4a4-6feb40c40374",
   "metadata": {},
   "source": [
    "# Part A"
   ]
  },
  {
   "cell_type": "code",
   "execution_count": 37,
   "id": "fa0aa66e-19f4-47cb-907b-2b626f6f6f9b",
   "metadata": {},
   "outputs": [],
   "source": [
    "# data = \"\"\"LLR\n",
    "\n",
    "# AAA = (BBB, BBB)\n",
    "# BBB = (AAA, ZZZ)\n",
    "# ZZZ = (ZZZ, ZZZ)\n",
    "# \"\"\""
   ]
  },
  {
   "cell_type": "code",
   "execution_count": 45,
   "id": "b871c35c-b8cf-4b9f-84ce-456f133addd6",
   "metadata": {},
   "outputs": [],
   "source": [
    "steps = data.splitlines()[0]\n",
    "\n",
    "tree = {}\n",
    "for i, line in enumerate(data.splitlines()[2:]):\n",
    "    v,c = line.split(' = ')\n",
    "    l,r = c.split(', ')\n",
    "    l = l[1:]\n",
    "    r = r[:-1]\n",
    "    tree[v] = {'L':l, 'R':r}"
   ]
  },
  {
   "cell_type": "code",
   "execution_count": 46,
   "id": "e4b072d2-166e-48c0-a036-204b47b3e434",
   "metadata": {},
   "outputs": [
    {
     "data": {
      "text/plain": [
       "'LRRRLRRRLRRLRLRRLLRRLLRLRRRLRRLRRRLRRLLRLRLRRRLRLLRRRLLRLRRRLRLRRRLRRRLRRRLRRRLRLLLRRRLRRLRRLRRRLRLRLRRLRLRRRLRLRLRLRRRLRRLRLRRRLRRLRRRLRRLLRRRLLRLLRLRRRLRLLRRLLRRRLRLLRRLRLRRLRRRLRLRLRLLRLRRRLRRRLRLLLRRRLRLRRRLRRLRRLLLLRLRRRLRLRRRLLRRRLRRRLRRRLLLRLRLRLLLLRRRLRRLRRRLRLRLRLRRRLRLRRRR'"
      ]
     },
     "execution_count": 46,
     "metadata": {},
     "output_type": "execute_result"
    }
   ],
   "source": [
    "steps"
   ]
  },
  {
   "cell_type": "code",
   "execution_count": 47,
   "id": "28697427-6e4f-43e0-90ec-29ab11d95f76",
   "metadata": {},
   "outputs": [],
   "source": [
    "location = 'AAA'\n",
    "i = 0\n",
    "while location != 'ZZZ':\n",
    "    move = steps[i % len(steps)]\n",
    "    location = tree[location][move]\n",
    "    i += 1"
   ]
  },
  {
   "cell_type": "code",
   "execution_count": 48,
   "id": "3a31f4a3-f3e1-40b6-9492-798cbe8a344f",
   "metadata": {},
   "outputs": [
    {
     "data": {
      "text/plain": [
       "16697"
      ]
     },
     "execution_count": 48,
     "metadata": {},
     "output_type": "execute_result"
    }
   ],
   "source": [
    "i"
   ]
  },
  {
   "cell_type": "code",
   "execution_count": 49,
   "id": "50e12a9e-ffbc-485e-9724-79f97cd341f9",
   "metadata": {},
   "outputs": [
    {
     "name": "stderr",
     "output_type": "stream",
     "text": [
      "answer a: None\n",
      "submitting for part a\n"
     ]
    },
    {
     "name": "stdout",
     "output_type": "stream",
     "text": [
      "\u001b[32mThat's the right answer!  You are one gold star closer to restoring snow operations. [Continue to Part Two]\u001b[0m\n"
     ]
    },
    {
     "data": {
      "text/plain": [
       "<urllib3.response.HTTPResponse at 0x1065345e0>"
      ]
     },
     "execution_count": 49,
     "metadata": {},
     "output_type": "execute_result"
    }
   ],
   "source": [
    "submit(i, year=YEAR, day=DAY)"
   ]
  },
  {
   "cell_type": "markdown",
   "id": "ba3abf71-91fd-4fa4-94d3-4cf7b59d923f",
   "metadata": {},
   "source": [
    "# Part B"
   ]
  },
  {
   "cell_type": "code",
   "execution_count": 19,
   "id": "f993a118-57d2-423b-86a3-cb8beb673958",
   "metadata": {},
   "outputs": [],
   "source": [
    "# data = \"\"\"LR\n",
    "\n",
    "# 11A = (11B, XXX)\n",
    "# 11B = (XXX, 11Z)\n",
    "# 11Z = (11B, XXX)\n",
    "# 22A = (22B, XXX)\n",
    "# 22B = (22C, 22C)\n",
    "# 22C = (22Z, 22Z)\n",
    "# 22Z = (22B, 22B)\n",
    "# XXX = (XXX, XXX)\n",
    "# \"\"\""
   ]
  },
  {
   "cell_type": "code",
   "execution_count": 11,
   "id": "ec067f2d-e116-42d5-92fe-b9bdc708f96f",
   "metadata": {},
   "outputs": [],
   "source": [
    "steps = data.splitlines()[0]\n",
    "\n",
    "tree = {}\n",
    "for i, line in enumerate(data.splitlines()[2:]):\n",
    "    v,c = line.split(' = ')\n",
    "    l,r = c.split(', ')\n",
    "    l = l[1:]\n",
    "    r = r[:-1]\n",
    "    tree[v] = {'L':l, 'R':r}"
   ]
  },
  {
   "cell_type": "code",
   "execution_count": 12,
   "id": "31227bc0-3479-48be-8e80-7a4f3220c9f5",
   "metadata": {},
   "outputs": [
    {
     "data": {
      "text/plain": [
       "'LRRRLRRRLRRLRLRRLLRRLLRLRRRLRRLRRRLRRLLRLRLRRRLRLLRRRLLRLRRRLRLRRRLRRRLRRRLRRRLRLLLRRRLRRLRRLRRRLRLRLRRLRLRRRLRLRLRLRRRLRRLRLRRRLRRLRRRLRRLLRRRLLRLLRLRRRLRLLRRLLRRRLRLLRRLRLRRLRRRLRLRLRLLRLRRRLRRRLRLLLRRRLRLRRRLRRLRRLLLLRLRRRLRLRRRLLRRRLRRRLRRRLLLRLRLRLLLLRRRLRRLRRRLRLRLRLRRRLRLRRRR'"
      ]
     },
     "execution_count": 12,
     "metadata": {},
     "output_type": "execute_result"
    }
   ],
   "source": [
    "steps"
   ]
  },
  {
   "cell_type": "code",
   "execution_count": 26,
   "id": "58979e74-786f-4c9b-b40a-e5a130c7b407",
   "metadata": {},
   "outputs": [
    {
     "data": {
      "text/plain": [
       "['PBA', 'LSA', 'VSA', 'QVA', 'AAA', 'VKA']"
      ]
     },
     "execution_count": 26,
     "metadata": {},
     "output_type": "execute_result"
    }
   ],
   "source": [
    "locations = []\n",
    "for k in tree.keys():\n",
    "    if k[2] == 'A':\n",
    "        locations.append(k)\n",
    "locations"
   ]
  },
  {
   "cell_type": "code",
   "execution_count": 15,
   "id": "585a16d3-b87b-49d5-8604-bc3e287d8f2f",
   "metadata": {},
   "outputs": [
    {
     "name": "stdout",
     "output_type": "stream",
     "text": [
      "[20093, 12169, 13301, 20659, 16697, 17263]\n"
     ]
    }
   ],
   "source": [
    "numsteps = []\n",
    "for location in locations:\n",
    "    i = 0\n",
    "    while not location[2] == 'Z':\n",
    "        move = steps[i % len(steps)]\n",
    "        location = tree[location][move]\n",
    "        i += 1\n",
    "    numsteps.append(i)\n",
    "print(numsteps)"
   ]
  },
  {
   "cell_type": "code",
   "execution_count": 19,
   "id": "1ad575c4-1e25-4344-ac48-c7c08af6ceb8",
   "metadata": {},
   "outputs": [],
   "source": [
    "ans = math.lcm(*numsteps)"
   ]
  },
  {
   "cell_type": "code",
   "execution_count": 21,
   "id": "49d0987c-3711-4a4f-94da-26c952f48aad",
   "metadata": {},
   "outputs": [
    {
     "data": {
      "text/plain": [
       "10668805667831"
      ]
     },
     "execution_count": 21,
     "metadata": {},
     "output_type": "execute_result"
    }
   ],
   "source": [
    "ans"
   ]
  },
  {
   "cell_type": "code",
   "execution_count": 20,
   "id": "41e9575d-c42d-4f85-8bf5-1693eb554028",
   "metadata": {},
   "outputs": [
    {
     "name": "stderr",
     "output_type": "stream",
     "text": [
      "answer a: 16697\n",
      "submitting for part b (part a is already completed)\n"
     ]
    },
    {
     "name": "stdout",
     "output_type": "stream",
     "text": [
      "\u001b[32mThat's the right answer!  You are one gold star closer to restoring snow operations.You have completed Day 8! You can [Shareon\n",
      "  Twitter\n",
      "Mastodon] this victory or [Return to Your Advent Calendar].\u001b[0m\n"
     ]
    },
    {
     "data": {
      "text/plain": [
       "<urllib3.response.HTTPResponse at 0x125ed0610>"
      ]
     },
     "execution_count": 20,
     "metadata": {},
     "output_type": "execute_result"
    }
   ],
   "source": [
    "submit(ans, year=YEAR, day=DAY)"
   ]
  }
 ],
 "metadata": {
  "kernelspec": {
   "display_name": "Python 3 (ipykernel)",
   "language": "python",
   "name": "python3"
  },
  "language_info": {
   "codemirror_mode": {
    "name": "ipython",
    "version": 3
   },
   "file_extension": ".py",
   "mimetype": "text/x-python",
   "name": "python",
   "nbconvert_exporter": "python",
   "pygments_lexer": "ipython3",
   "version": "3.12.0"
  }
 },
 "nbformat": 4,
 "nbformat_minor": 5
}
