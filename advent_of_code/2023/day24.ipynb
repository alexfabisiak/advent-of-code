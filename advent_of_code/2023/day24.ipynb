{
 "cells": [
  {
   "cell_type": "code",
   "execution_count": 1,
   "id": "cca57e6d-5224-493a-a2a9-5e23bb5546c2",
   "metadata": {},
   "outputs": [],
   "source": [
    "from aocd import get_data, submit\n",
    "# from aocd.get import current_day\n",
    "\n",
    "from IPython.display import display\n",
    "from IPython.core.display import Markdown\n",
    "\n",
    "import math\n",
    "import numpy as np\n",
    "import re\n",
    "import sys"
   ]
  },
  {
   "cell_type": "code",
   "execution_count": 2,
   "id": "e4d6b8a4-25ef-4630-8aa6-6c95c7a8be09",
   "metadata": {},
   "outputs": [],
   "source": [
    "DAY = 24\n",
    "YEAR = 2023"
   ]
  },
  {
   "cell_type": "code",
   "execution_count": 3,
   "id": "388077b9-edd1-4ab9-9a3c-5e24b66346a8",
   "metadata": {},
   "outputs": [
    {
     "data": {
      "text/markdown": [
       "#### See [2023 Day 24](https://adventofcode.com/2023/day/24)."
      ],
      "text/plain": [
       "<IPython.core.display.Markdown object>"
      ]
     },
     "metadata": {},
     "output_type": "display_data"
    }
   ],
   "source": [
    "url = f\"https://adventofcode.com/{YEAR}/day/{DAY}\"\n",
    "display(Markdown(f\"#### See [{YEAR} Day {DAY}]({url}).\"))"
   ]
  },
  {
   "cell_type": "code",
   "execution_count": 106,
   "id": "ced1e284-733b-49e7-9154-18d54af53bdb",
   "metadata": {},
   "outputs": [],
   "source": [
    "data = get_data(year=YEAR, day=DAY)"
   ]
  },
  {
   "cell_type": "code",
   "execution_count": 107,
   "id": "97d3a4d3-b08a-4bff-bfb8-d37cc82a395d",
   "metadata": {},
   "outputs": [
    {
     "data": {
      "text/plain": [
       "['184964585341884, 113631924395348, 401845630841620 @ 61, 469, -390',\n",
       " '331877282121819, 365938348079363, 314507465806130 @ 46, -106, 24',\n",
       " '263775277465044, 418701236136888, 52607746821705 @ 105, -170, 307',\n",
       " '208356602267478, 274354112299498, 294235176347885 @ 46, 8, -49',\n",
       " '215069209934964, 263266623283188, 304961521854129 @ -28, 48, -120']"
      ]
     },
     "execution_count": 107,
     "metadata": {},
     "output_type": "execute_result"
    }
   ],
   "source": [
    "data.splitlines()[:5]"
   ]
  },
  {
   "cell_type": "markdown",
   "id": "c644d7ff-3812-4bcf-b4a4-6feb40c40374",
   "metadata": {},
   "source": [
    "# Part A"
   ]
  },
  {
   "cell_type": "code",
   "execution_count": 100,
   "id": "b871c35c-b8cf-4b9f-84ce-456f133addd6",
   "metadata": {},
   "outputs": [],
   "source": [
    "data = \"\"\"19, 13, 30 @ -2,  1, -2\n",
    "18, 19, 22 @ -1, -1, -2\n",
    "20, 25, 34 @ -2, -2, -4\n",
    "12, 31, 28 @ -1, -2, -1\n",
    "20, 19, 15 @  1, -5, -3\n",
    "\"\"\"\n",
    "xr = yr = (7,27)"
   ]
  },
  {
   "cell_type": "code",
   "execution_count": 108,
   "id": "a20c0e48-aa6d-4ff9-be8f-eb1ff226f194",
   "metadata": {},
   "outputs": [],
   "source": [
    "stones = []\n",
    "for i, l in enumerate(data.splitlines()):\n",
    "    p,v = l.split(' @ ')\n",
    "    p = p.split(', ')\n",
    "    v = v.split(', ')\n",
    "    stone = (tuple(map(float,p)), tuple(map(float,v)))\n",
    "    stones.append(stone)"
   ]
  },
  {
   "cell_type": "code",
   "execution_count": 109,
   "id": "de99475e-628c-4739-9914-f5dba12eafee",
   "metadata": {},
   "outputs": [
    {
     "data": {
      "text/plain": [
       "300"
      ]
     },
     "execution_count": 109,
     "metadata": {},
     "output_type": "execute_result"
    }
   ],
   "source": [
    "len(stones)"
   ]
  },
  {
   "cell_type": "code",
   "execution_count": 110,
   "id": "34877fcc-3994-4a1c-83e3-72f8d85f5b69",
   "metadata": {},
   "outputs": [],
   "source": [
    "xr = yr = (200000000000000,400000000000000)"
   ]
  },
  {
   "cell_type": "code",
   "execution_count": 111,
   "id": "a7e7a8da-7238-463a-9e1b-9248189f5a88",
   "metadata": {},
   "outputs": [
    {
     "data": {
      "text/plain": [
       "13910"
      ]
     },
     "execution_count": 111,
     "metadata": {},
     "output_type": "execute_result"
    }
   ],
   "source": [
    "total = 0\n",
    "\n",
    "for i,s1 in enumerate(stones):\n",
    "    for j,s2 in enumerate(stones[i+1:]):\n",
    "        (px1, py1, pz1), (vx1, vy1, vz1) = s1\n",
    "        (px2, py2, pz2), (vx2, vy2, vz2) = s2\n",
    "        b1 = vy1 / vx1\n",
    "        a1 = py1 - b1 * px1\n",
    "        \n",
    "        b2 = vy2 / vx2\n",
    "        a2 = py2 - b2 * px2\n",
    "\n",
    "        if b1 == b2: # parallel\n",
    "            continue\n",
    "\n",
    "        x = (a2-a1) / (b1-b2)\n",
    "        y = a1+x*b1\n",
    "\n",
    "        if (x-px1) / vx1 < 0: # A past\n",
    "            continue\n",
    "        if (x-px2) / vx2 < 0: # B past\n",
    "            continue\n",
    "        if not (xr[0]<=x<=xr[1] and yr[0]<=y<=yr[1]): # outside\n",
    "            continue\n",
    "\n",
    "        total += 1\n",
    "total    "
   ]
  },
  {
   "cell_type": "code",
   "execution_count": 112,
   "id": "483b5ee5-e3d5-4ce2-bc1c-2392246a330d",
   "metadata": {},
   "outputs": [
    {
     "name": "stderr",
     "output_type": "stream",
     "text": [
      "answer a: None\n",
      "submitting for part a\n"
     ]
    },
    {
     "name": "stdout",
     "output_type": "stream",
     "text": [
      "\u001b[32mThat's the right answer!  You are one gold star closer to restoring snow operations. [Continue to Part Two]\u001b[0m\n"
     ]
    },
    {
     "data": {
      "text/plain": [
       "<urllib3.response.HTTPResponse at 0x112fec5e0>"
      ]
     },
     "execution_count": 112,
     "metadata": {},
     "output_type": "execute_result"
    }
   ],
   "source": [
    "submit(total, year=YEAR, day=DAY)"
   ]
  },
  {
   "cell_type": "markdown",
   "id": "ba3abf71-91fd-4fa4-94d3-4cf7b59d923f",
   "metadata": {},
   "source": [
    "# Part B"
   ]
  },
  {
   "cell_type": "code",
   "execution_count": 114,
   "id": "dd52e167-e0c0-4304-a77a-043871e00496",
   "metadata": {},
   "outputs": [],
   "source": [
    "# rock a+b*t \n",
    "# p1+v1*t1 = a+b*t1\n",
    "# p2+v2*t2 = a+b*t2\n",
    "# p3+v3*t3 = a+b*t3\n"
   ]
  },
  {
   "cell_type": "code",
   "execution_count": 116,
   "id": "98e808ff-c7ec-4dad-9f99-1f3056fbb8aa",
   "metadata": {},
   "outputs": [],
   "source": [
    "from z3 import *"
   ]
  },
  {
   "cell_type": "code",
   "execution_count": 180,
   "id": "cb496b76-785d-4ff4-99fa-f110f189aafd",
   "metadata": {},
   "outputs": [
    {
     "data": {
      "text/plain": [
       "618534564836937"
      ]
     },
     "execution_count": 180,
     "metadata": {},
     "output_type": "execute_result"
    }
   ],
   "source": [
    "s = Solver()\n",
    "\n",
    "a = [Real(f\"a_{i}\") for i in range(3)]\n",
    "b = [Real(f\"b_{i}\") for i in range(3)]\n",
    "t = [Real(f\"t_{i}\") for i in range(3)]\n",
    "\n",
    "for j in range(3):\n",
    "    for i in range(3):\n",
    "        s.add(stones[j][0][i]+stones[j][1][i]*t[j] == a[i]+b[i]*t[j])\n",
    "\n",
    "s.check()\n",
    "m = s.model()\n",
    "\n",
    "aa = [m[a[i]].as_long() for i in range(3)]\n",
    "total = sum(aa)\n",
    "total"
   ]
  },
  {
   "cell_type": "code",
   "execution_count": 179,
   "id": "41e9575d-c42d-4f85-8bf5-1693eb554028",
   "metadata": {},
   "outputs": [
    {
     "name": "stderr",
     "output_type": "stream",
     "text": [
      "answer a: 13910\n",
      "submitting for part b (part a is already completed)\n"
     ]
    },
    {
     "name": "stdout",
     "output_type": "stream",
     "text": [
      "\u001b[32mThat's the right answer!  You are one gold star closer to restoring snow operations. You got rank 715 on this star's leaderboard.You have completed Day 24! You can [Shareon\n",
      "  Twitter\n",
      "Mastodon] this victory or [Return to Your Advent Calendar].\u001b[0m\n"
     ]
    },
    {
     "data": {
      "text/plain": [
       "<urllib3.response.HTTPResponse at 0x113a4b400>"
      ]
     },
     "execution_count": 179,
     "metadata": {},
     "output_type": "execute_result"
    }
   ],
   "source": [
    "submit(total, year=YEAR, day=DAY)"
   ]
  },
  {
   "cell_type": "code",
   "execution_count": null,
   "id": "bc341816-1163-4c5d-a585-04ab81b4d2d7",
   "metadata": {},
   "outputs": [],
   "source": []
  }
 ],
 "metadata": {
  "kernelspec": {
   "display_name": "Python 3 (ipykernel)",
   "language": "python",
   "name": "python3"
  },
  "language_info": {
   "codemirror_mode": {
    "name": "ipython",
    "version": 3
   },
   "file_extension": ".py",
   "mimetype": "text/x-python",
   "name": "python",
   "nbconvert_exporter": "python",
   "pygments_lexer": "ipython3",
   "version": "3.12.0"
  }
 },
 "nbformat": 4,
 "nbformat_minor": 5
}
