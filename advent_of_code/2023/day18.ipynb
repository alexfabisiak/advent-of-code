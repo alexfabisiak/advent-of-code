{
 "cells": [
  {
   "cell_type": "code",
   "execution_count": 1,
   "id": "cca57e6d-5224-493a-a2a9-5e23bb5546c2",
   "metadata": {},
   "outputs": [],
   "source": [
    "from aocd import get_data, submit\n",
    "# from aocd.get import current_day\n",
    "\n",
    "from IPython.display import display\n",
    "from IPython.core.display import Markdown\n",
    "\n",
    "import math\n",
    "import numpy as np\n",
    "import re\n",
    "import sys"
   ]
  },
  {
   "cell_type": "code",
   "execution_count": 2,
   "id": "e4d6b8a4-25ef-4630-8aa6-6c95c7a8be09",
   "metadata": {},
   "outputs": [],
   "source": [
    "DAY = 18\n",
    "YEAR = 2023"
   ]
  },
  {
   "cell_type": "code",
   "execution_count": 3,
   "id": "388077b9-edd1-4ab9-9a3c-5e24b66346a8",
   "metadata": {},
   "outputs": [
    {
     "data": {
      "text/markdown": [
       "#### See [2023 Day 18](https://adventofcode.com/2023/day/18)."
      ],
      "text/plain": [
       "<IPython.core.display.Markdown object>"
      ]
     },
     "metadata": {},
     "output_type": "display_data"
    }
   ],
   "source": [
    "url = f\"https://adventofcode.com/{YEAR}/day/{DAY}\"\n",
    "display(Markdown(f\"#### See [{YEAR} Day {DAY}]({url}).\"))"
   ]
  },
  {
   "cell_type": "code",
   "execution_count": 4,
   "id": "ced1e284-733b-49e7-9154-18d54af53bdb",
   "metadata": {},
   "outputs": [],
   "source": [
    "data = get_data(year=YEAR, day=DAY)"
   ]
  },
  {
   "cell_type": "code",
   "execution_count": 5,
   "id": "97d3a4d3-b08a-4bff-bfb8-d37cc82a395d",
   "metadata": {},
   "outputs": [
    {
     "data": {
      "text/plain": [
       "['R 7 (#43c232)',\n",
       " 'U 6 (#1f0fa3)',\n",
       " 'R 7 (#18f980)',\n",
       " 'D 3 (#1c5a83)',\n",
       " 'R 13 (#2a4010)']"
      ]
     },
     "execution_count": 5,
     "metadata": {},
     "output_type": "execute_result"
    }
   ],
   "source": [
    "data.splitlines()[:5]"
   ]
  },
  {
   "cell_type": "code",
   "execution_count": 6,
   "id": "9b1a7ea9-60c9-42bc-a905-e0caeec4b556",
   "metadata": {},
   "outputs": [
    {
     "data": {
      "text/plain": [
       "['U 7 (#566e43)',\n",
       " 'R 3 (#449342)',\n",
       " 'U 10 (#313cc3)',\n",
       " 'L 10 (#1e28f2)',\n",
       " 'U 9 (#09d973)']"
      ]
     },
     "execution_count": 6,
     "metadata": {},
     "output_type": "execute_result"
    }
   ],
   "source": [
    "data.splitlines()[-5:]"
   ]
  },
  {
   "cell_type": "markdown",
   "id": "c644d7ff-3812-4bcf-b4a4-6feb40c40374",
   "metadata": {},
   "source": [
    "# Part A"
   ]
  },
  {
   "cell_type": "code",
   "execution_count": 7,
   "id": "b871c35c-b8cf-4b9f-84ce-456f133addd6",
   "metadata": {},
   "outputs": [],
   "source": [
    "# data = \"\"\"R 6 (#70c710)\n",
    "# D 5 (#0dc571)\n",
    "# L 2 (#5713f0)\n",
    "# D 2 (#d2c081)\n",
    "# R 2 (#59c680)\n",
    "# D 2 (#411b91)\n",
    "# L 5 (#8ceee2)\n",
    "# U 2 (#caa173)\n",
    "# L 1 (#1b58a2)\n",
    "# U 2 (#caa171)\n",
    "# R 2 (#7807d2)\n",
    "# U 3 (#a77fa3)\n",
    "# L 2 (#015232)\n",
    "# U 2 (#7a21e3)\n",
    "# \"\"\""
   ]
  },
  {
   "cell_type": "code",
   "execution_count": 8,
   "id": "be199ee9-d88c-48f8-a81d-853bb6af0cd2",
   "metadata": {},
   "outputs": [],
   "source": [
    "rights = set([('U','R'),('R','D'),('D','L'),('L','U')])\n",
    "\n",
    "current = (0,0)\n",
    "vertices = [current]\n",
    "\n",
    "last_dir,_,_ = data.splitlines()[-1].split()\n",
    "\n",
    "perimeter = 0\n",
    "for i, l in enumerate(data.splitlines()):\n",
    "    dir, dist, color = l.split()\n",
    "    last_dir,_,_ = data.splitlines()[(i-1) % len(data.splitlines())].split()\n",
    "    next_dir,_,_ = data.splitlines()[(i+1) % len(data.splitlines())].split()\n",
    "    if (last_dir, dir) in rights and (dir, next_dir) in rights:  \n",
    "        dist = int(dist) + 1\n",
    "    elif (last_dir, dir) not in rights and (dir, next_dir) not in rights:  \n",
    "        dist = int(dist) - 1\n",
    "    else:\n",
    "        dist = int(dist)\n",
    "    perimeter += dist\n",
    "    match dir:\n",
    "        case 'U':\n",
    "            next = (current[0]-dist, current[1])\n",
    "        case 'D':\n",
    "            next = (current[0]+dist, current[1])\n",
    "        case 'L':\n",
    "            next = (current[0], current[1]-dist)\n",
    "        case 'R':\n",
    "            next = (current[0], current[1]+dist)\n",
    "    vertices.append(next)\n",
    "    current = next\n",
    "    last_dir = dir"
   ]
  },
  {
   "cell_type": "code",
   "execution_count": 9,
   "id": "8108921f-505d-47c7-8968-7e21699b5f83",
   "metadata": {},
   "outputs": [
    {
     "data": {
      "text/plain": [
       "108909.0"
      ]
     },
     "execution_count": 9,
     "metadata": {},
     "output_type": "execute_result"
    }
   ],
   "source": [
    "def PolyArea(x,y):\n",
    "    return 0.5*np.abs(np.dot(x,np.roll(y,1))-np.dot(y,np.roll(x,1)))\n",
    "x = [p[0] for p in vertices]\n",
    "y = [p[1] for p in vertices]\n",
    "\n",
    "ans = PolyArea(x,y)\n",
    "ans"
   ]
  },
  {
   "cell_type": "code",
   "execution_count": 11,
   "id": "50e12a9e-ffbc-485e-9724-79f97cd341f9",
   "metadata": {},
   "outputs": [],
   "source": [
    "# submit(ans, year=YEAR, day=DAY)"
   ]
  },
  {
   "cell_type": "code",
   "execution_count": 12,
   "id": "be1011b2-a802-466b-aed9-7e6760940ece",
   "metadata": {},
   "outputs": [
    {
     "data": {
      "text/plain": [
       "[<matplotlib.lines.Line2D at 0x117683f50>]"
      ]
     },
     "execution_count": 12,
     "metadata": {},
     "output_type": "execute_result"
    },
    {
     "data": {
      "image/png": "[encoded data removed]",
      "text/plain": [
       "<Figure size 640x480 with 1 Axes>"
      ]
     },
     "metadata": {},
     "output_type": "display_data"
    }
   ],
   "source": [
    "import matplotlib.pyplot as plt\n",
    "plt.plot([-i for i in x],y)"
   ]
  },
  {
   "cell_type": "markdown",
   "id": "ba3abf71-91fd-4fa4-94d3-4cf7b59d923f",
   "metadata": {},
   "source": [
    "# Part B"
   ]
  },
  {
   "cell_type": "code",
   "execution_count": 13,
   "id": "ac221068-2e5d-4ecb-99bc-67926b4ca21b",
   "metadata": {},
   "outputs": [],
   "source": [
    "def parse_line(l):\n",
    "    _,_,hex = l.split()\n",
    "    hex = re.findall(\"[a-zA-Z0-9]+\", hex)[0]\n",
    "    dir = dirmap[hex[-1]]\n",
    "    dist = int(hex[:5], 16)\n",
    "    return (dir,dist)"
   ]
  },
  {
   "cell_type": "code",
   "execution_count": 14,
   "id": "c599372e-6671-4b3d-b98c-22746a2d21ed",
   "metadata": {},
   "outputs": [],
   "source": [
    "rights = set([('U','R'),('R','D'),('D','L'),('L','U')])\n",
    "\n",
    "current = (0,0)\n",
    "vertices = [current]\n",
    "\n",
    "dirmap = {'0':'R','1':'D','2':'L','3':'U',}\n",
    "\n",
    "perimeter = 0\n",
    "for i, l in enumerate(data.splitlines()):\n",
    "    dir, dist = parse_line(l)\n",
    "    \n",
    "    last_dir,_ = parse_line(data.splitlines()[(i-1) % len(data.splitlines())])\n",
    "    next_dir,_ = parse_line(data.splitlines()[(i+1) % len(data.splitlines())])\n",
    "    if (last_dir, dir) in rights and (dir, next_dir) in rights:  \n",
    "        dist = int(dist) + 1\n",
    "    elif (last_dir, dir) not in rights and (dir, next_dir) not in rights:  \n",
    "        dist = int(dist) - 1\n",
    "    else:\n",
    "        dist = int(dist)\n",
    "    perimeter += dist\n",
    "    match dir:\n",
    "        case 'U':\n",
    "            next = (current[0]-dist, current[1])\n",
    "        case 'D':\n",
    "            next = (current[0]+dist, current[1])\n",
    "        case 'L':\n",
    "            next = (current[0], current[1]-dist)\n",
    "        case 'R':\n",
    "            next = (current[0], current[1]+dist)\n",
    "    vertices.append(next)\n",
    "    current = next\n",
    "    last_dir = dir"
   ]
  },
  {
   "cell_type": "code",
   "execution_count": 15,
   "id": "44117b7b-6443-4b5b-9bbf-c51cffcbde8e",
   "metadata": {},
   "outputs": [
    {
     "data": {
      "text/plain": [
       "133125706867777.0"
      ]
     },
     "execution_count": 15,
     "metadata": {},
     "output_type": "execute_result"
    }
   ],
   "source": [
    "def PolyArea(x,y):\n",
    "    return 0.5*np.abs(np.dot(x,np.roll(y,1))-np.dot(y,np.roll(x,1)))\n",
    "x = [p[0] for p in vertices]\n",
    "y = [p[1] for p in vertices]\n",
    "\n",
    "ans = PolyArea(x,y)\n",
    "ans"
   ]
  },
  {
   "cell_type": "code",
   "execution_count": 16,
   "id": "41e9575d-c42d-4f85-8bf5-1693eb554028",
   "metadata": {},
   "outputs": [],
   "source": [
    "# submit(ans, year=YEAR, day=DAY)"
   ]
  },
  {
   "cell_type": "code",
   "execution_count": 17,
   "id": "c1c11652-4fd2-4c8d-bc37-0e759f49cfb4",
   "metadata": {},
   "outputs": [
    {
     "data": {
      "text/plain": [
       "[<matplotlib.lines.Line2D at 0x11775e6f0>]"
      ]
     },
     "execution_count": 17,
     "metadata": {},
     "output_type": "execute_result"
    },
    {
     "data": {
      "image/png": "[encoded data removed]",
      "text/plain": [
       "<Figure size 640x480 with 1 Axes>"
      ]
     },
     "metadata": {},
     "output_type": "display_data"
    }
   ],
   "source": [
    "import matplotlib.pyplot as plt\n",
    "plt.plot([-i for i in x],y)"
   ]
  },
  {
   "cell_type": "code",
   "execution_count": null,
   "id": "64fd7271-a527-4cc1-9d78-68888e5de77a",
   "metadata": {},
   "outputs": [],
   "source": []
  }
 ],
 "metadata": {
  "kernelspec": {
   "display_name": "Python 3 (ipykernel)",
   "language": "python",
   "name": "python3"
  },
  "language_info": {
   "codemirror_mode": {
    "name": "ipython",
    "version": 3
   },
   "file_extension": ".py",
   "mimetype": "text/x-python",
   "name": "python",
   "nbconvert_exporter": "python",
   "pygments_lexer": "ipython3",
   "version": "3.12.0"
  }
 },
 "nbformat": 4,
 "nbformat_minor": 5
}
