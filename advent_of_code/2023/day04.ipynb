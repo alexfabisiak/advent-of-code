{
 "cells": [
  {
   "cell_type": "code",
   "execution_count": 1,
   "id": "cca57e6d-5224-493a-a2a9-5e23bb5546c2",
   "metadata": {},
   "outputs": [],
   "source": [
    "from aocd import get_data, submit\n",
    "# from aocd.get import current_day\n",
    "\n",
    "from IPython.display import display\n",
    "from IPython.core.display import Markdown"
   ]
  },
  {
   "cell_type": "code",
   "execution_count": 2,
   "id": "e4d6b8a4-25ef-4630-8aa6-6c95c7a8be09",
   "metadata": {},
   "outputs": [],
   "source": [
    "DAY = 4\n",
    "YEAR = 2023"
   ]
  },
  {
   "cell_type": "code",
   "execution_count": 3,
   "id": "388077b9-edd1-4ab9-9a3c-5e24b66346a8",
   "metadata": {},
   "outputs": [
    {
     "data": {
      "text/markdown": [
       "#### See [2023 Day 4](https://adventofcode.com/2023/day/4)."
      ],
      "text/plain": [
       "<IPython.core.display.Markdown object>"
      ]
     },
     "metadata": {},
     "output_type": "display_data"
    }
   ],
   "source": [
    "url = f\"https://adventofcode.com/{YEAR}/day/{DAY}\"\n",
    "display(Markdown(f\"#### See [{YEAR} Day {DAY}]({url}).\"))"
   ]
  },
  {
   "cell_type": "code",
   "execution_count": 83,
   "id": "ced1e284-733b-49e7-9154-18d54af53bdb",
   "metadata": {},
   "outputs": [],
   "source": [
    "data = get_data(year=YEAR, day=DAY)"
   ]
  },
  {
   "cell_type": "code",
   "execution_count": 84,
   "id": "97d3a4d3-b08a-4bff-bfb8-d37cc82a395d",
   "metadata": {},
   "outputs": [
    {
     "data": {
      "text/plain": [
       "['Card   1: 29 21 67 44  6 13 68 15 60 79 | 75 44 60 30 10 68 40 70 36 79  3 13 64 15  4 46 21 22 67 47 73 86 29 53  6',\n",
       " 'Card   2: 15 61  5 39 42 79  4 81 72 89 | 74 79 20 81 72 85 25 76 36 49 51 18 34 90 57 17 11 24 89 73 19 37 61 54  2',\n",
       " 'Card   3: 75 31 33 22 49 70 37 98 92 94 |  1 87 73 92 57 94 84 10  5 79 69 74 96 37 40 55 18 21 85 93 71 49 70 22 39',\n",
       " 'Card   4: 76 59 23 34 55 41 47 92 58  5 | 16 70 56 19 79 30 85 58 88 75 71  5  8 64 12 23  9 46 34  4 94 37 48 82 47',\n",
       " 'Card   5: 48 77 74 18 44 34 71 38 67  1 |  8 78 73 19 39 50 11 54 69 37 79 18 66 77 52 94 74 34 71  1 48 85 67 95 93']"
      ]
     },
     "execution_count": 84,
     "metadata": {},
     "output_type": "execute_result"
    }
   ],
   "source": [
    "data.splitlines()[:5]"
   ]
  },
  {
   "cell_type": "markdown",
   "id": "c644d7ff-3812-4bcf-b4a4-6feb40c40374",
   "metadata": {},
   "source": [
    "# Part A"
   ]
  },
  {
   "cell_type": "code",
   "execution_count": 85,
   "id": "b871c35c-b8cf-4b9f-84ce-456f133addd6",
   "metadata": {},
   "outputs": [],
   "source": [
    "# data = \"\"\"Card 1: 41 48 83 86 17 | 83 86  6 31 17  9 48 53\n",
    "# Card 2: 13 32 20 16 61 | 61 30 68 82 17 32 24 19\n",
    "# Card 3:  1 21 53 59 44 | 69 82 63 72 16 21 14  1\n",
    "# Card 4: 41 92 73 84 69 | 59 84 76 51 58  5 54 83\n",
    "# Card 5: 87 83 26 28 32 | 88 30 70 12 93 22 82 36\n",
    "# Card 6: 31 18 13 56 72 | 74 77 10 23 35 67 36 11\"\"\""
   ]
  },
  {
   "cell_type": "code",
   "execution_count": 95,
   "id": "c445b54b-70e5-48e7-8e6a-23b3f2c2c5bd",
   "metadata": {},
   "outputs": [],
   "source": [
    "score = 0\n",
    "matches = []\n",
    "scores = []\n",
    "for i, line in enumerate(data.splitlines()):\n",
    "    s=0\n",
    "    card, nums = line.split(':')\n",
    "    winning, mine = nums.split('|')\n",
    "    winning = winning.strip().split()\n",
    "    mine = mine.strip().split()\n",
    "    overlap = set(winning) & set(mine)\n",
    "\n",
    "    if overlap:\n",
    "        s = 2 ** (len(overlap) - 1)\n",
    "        score += s\n",
    "    scores.append(s)\n",
    "    matches.append(len(overlap))"
   ]
  },
  {
   "cell_type": "code",
   "execution_count": 96,
   "id": "1482101b-c2e4-474b-a119-dd7c2aaa832e",
   "metadata": {},
   "outputs": [
    {
     "data": {
      "text/plain": [
       "23750"
      ]
     },
     "execution_count": 96,
     "metadata": {},
     "output_type": "execute_result"
    }
   ],
   "source": [
    "total = sum(scores)\n",
    "total"
   ]
  },
  {
   "cell_type": "code",
   "execution_count": 97,
   "id": "50e12a9e-ffbc-485e-9724-79f97cd341f9",
   "metadata": {},
   "outputs": [
    {
     "name": "stderr",
     "output_type": "stream",
     "text": [
      "answer a: 23750\n",
      "submitting for part b (part a is already completed)\n"
     ]
    },
    {
     "name": "stdout",
     "output_type": "stream",
     "text": [
      "aocd will not submit that answer. At 2023-12-04 00:16:17.681873-05:00 you've previously submitted 13261850 and the server responded with:\n",
      "\u001b[32mThat's the right answer!  You are one gold star closer to restoring snow operations.You have completed Day 4! You can [Shareon\n",
      "  Twitter\n",
      "Mastodon] this victory or [Return to Your Advent Calendar].\u001b[0m\n",
      "It is certain that '23750' is incorrect, because '23750' != '13261850'.\n"
     ]
    }
   ],
   "source": [
    "submit(total, year=YEAR, day=DAY)"
   ]
  },
  {
   "cell_type": "markdown",
   "id": "ba3abf71-91fd-4fa4-94d3-4cf7b59d923f",
   "metadata": {},
   "source": [
    "# Part B"
   ]
  },
  {
   "cell_type": "code",
   "execution_count": 98,
   "id": "c95b9115-6e1c-46a1-91d2-86c044a5f654",
   "metadata": {},
   "outputs": [],
   "source": [
    "copies = [1] * len(matches)\n",
    "\n",
    "for i in range(len(matches)):\n",
    "    for k in range(matches[i]):\n",
    "        try:\n",
    "            copies[i+k+1] += copies[i]\n",
    "        except:\n",
    "            pass"
   ]
  },
  {
   "cell_type": "code",
   "execution_count": 99,
   "id": "12a96c72-240e-47bc-bda9-ad758fe158a8",
   "metadata": {},
   "outputs": [],
   "source": [
    "ans = sum(copies)"
   ]
  },
  {
   "cell_type": "code",
   "execution_count": 100,
   "id": "cdc227f1-e453-4de1-8431-2c1d154928d9",
   "metadata": {},
   "outputs": [
    {
     "data": {
      "text/plain": [
       "13261850"
      ]
     },
     "execution_count": 100,
     "metadata": {},
     "output_type": "execute_result"
    }
   ],
   "source": [
    "ans"
   ]
  },
  {
   "cell_type": "code",
   "execution_count": null,
   "id": "41e9575d-c42d-4f85-8bf5-1693eb554028",
   "metadata": {},
   "outputs": [],
   "source": [
    "submit(ans, year=YEAR, day=DAY)"
   ]
  },
  {
   "cell_type": "code",
   "execution_count": null,
   "id": "bc341816-1163-4c5d-a585-04ab81b4d2d7",
   "metadata": {},
   "outputs": [],
   "source": []
  }
 ],
 "metadata": {
  "kernelspec": {
   "display_name": "Python 3 (ipykernel)",
   "language": "python",
   "name": "python3"
  },
  "language_info": {
   "codemirror_mode": {
    "name": "ipython",
    "version": 3
   },
   "file_extension": ".py",
   "mimetype": "text/x-python",
   "name": "python",
   "nbconvert_exporter": "python",
   "pygments_lexer": "ipython3",
   "version": "3.12.0"
  }
 },
 "nbformat": 4,
 "nbformat_minor": 5
}
