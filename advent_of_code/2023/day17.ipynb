{
 "cells": [
  {
   "cell_type": "code",
   "execution_count": 1,
   "id": "cca57e6d-5224-493a-a2a9-5e23bb5546c2",
   "metadata": {},
   "outputs": [],
   "source": [
    "from aocd import get_data, submit\n",
    "# from aocd.get import current_day\n",
    "\n",
    "from IPython.display import display\n",
    "from IPython.core.display import Markdown\n",
    "\n",
    "import math\n",
    "import numpy as np\n",
    "import re\n",
    "import sys\n",
    "import time"
   ]
  },
  {
   "cell_type": "code",
   "execution_count": 2,
   "id": "e4d6b8a4-25ef-4630-8aa6-6c95c7a8be09",
   "metadata": {},
   "outputs": [],
   "source": [
    "DAY = 17\n",
    "YEAR = 2023"
   ]
  },
  {
   "cell_type": "code",
   "execution_count": 3,
   "id": "388077b9-edd1-4ab9-9a3c-5e24b66346a8",
   "metadata": {},
   "outputs": [
    {
     "data": {
      "text/markdown": [
       "#### See [2023 Day 17](https://adventofcode.com/2023/day/17)."
      ],
      "text/plain": [
       "<IPython.core.display.Markdown object>"
      ]
     },
     "metadata": {},
     "output_type": "display_data"
    }
   ],
   "source": [
    "url = f\"https://adventofcode.com/{YEAR}/day/{DAY}\"\n",
    "display(Markdown(f\"#### See [{YEAR} Day {DAY}]({url}).\"))"
   ]
  },
  {
   "cell_type": "code",
   "execution_count": 4,
   "id": "ced1e284-733b-49e7-9154-18d54af53bdb",
   "metadata": {},
   "outputs": [],
   "source": [
    "data = get_data(year=YEAR, day=DAY)"
   ]
  },
  {
   "cell_type": "code",
   "execution_count": 5,
   "id": "97d3a4d3-b08a-4bff-bfb8-d37cc82a395d",
   "metadata": {},
   "outputs": [
    {
     "data": {
      "text/plain": [
       "['233244231122553122525413454522354135462222326535344662264544223642652255336664663346353252645466356456462435622214553413332454432211214411143',\n",
       " '223141234553125225554452413445222253233246635553325226333542552424263422323666243555565625352563233242463262245343212134422111434232123132432',\n",
       " '222211241414332422353143154123232224435622425635432542244626326352546424262544336555243322432452265334323634435625353134233211423335325223333',\n",
       " '322232223424242153454434322156223244543255665445556362542353232362553242363465623353356322354425466433346323664633124432225444231511234544333',\n",
       " '332334545315334114453243332464466364433664255323465255433565444463354334373422362334624463322442462434232264664443442124112355243442414251234']"
      ]
     },
     "execution_count": 5,
     "metadata": {},
     "output_type": "execute_result"
    }
   ],
   "source": [
    "data.splitlines()[:5]"
   ]
  },
  {
   "cell_type": "markdown",
   "id": "c644d7ff-3812-4bcf-b4a4-6feb40c40374",
   "metadata": {},
   "source": [
    "# Part A"
   ]
  },
  {
   "cell_type": "code",
   "execution_count": 6,
   "id": "b871c35c-b8cf-4b9f-84ce-456f133addd6",
   "metadata": {},
   "outputs": [],
   "source": [
    "# data = \"\"\"2413432311323\n",
    "# 3215453535623\n",
    "# 3255245654254\n",
    "# 3446585845452\n",
    "# 4546657867536\n",
    "# 1438598798454\n",
    "# 4457876987766\n",
    "# 3637877979653\n",
    "# 4654967986887\n",
    "# 4564679986453\n",
    "# 1224686865563\n",
    "# 2546548887735\n",
    "# 4322674655533\n",
    "# \"\"\""
   ]
  },
  {
   "cell_type": "code",
   "execution_count": 7,
   "id": "e39bf078-0f2f-4c8a-ac50-e3a70a741b98",
   "metadata": {},
   "outputs": [
    {
     "data": {
      "text/plain": [
       "array([[2, 3, 3, ..., 1, 4, 3],\n",
       "       [2, 2, 3, ..., 4, 3, 2],\n",
       "       [2, 2, 2, ..., 3, 3, 3],\n",
       "       ...,\n",
       "       [4, 1, 2, ..., 2, 3, 1],\n",
       "       [1, 1, 4, ..., 2, 1, 4],\n",
       "       [4, 2, 3, ..., 1, 3, 2]])"
      ]
     },
     "execution_count": 7,
     "metadata": {},
     "output_type": "execute_result"
    }
   ],
   "source": [
    "data = np.array([[int(x) for x in l] for l in data.splitlines()])\n",
    "# data = data[:7,:7]\n",
    "data"
   ]
  },
  {
   "cell_type": "code",
   "execution_count": 8,
   "id": "07294860-3f33-424f-9668-b05a1ee859bf",
   "metadata": {},
   "outputs": [],
   "source": [
    "from heapq import heappush, heappop\n",
    "from functools import cache\n",
    "from itertools import product"
   ]
  },
  {
   "cell_type": "markdown",
   "id": "d4dc707d-f703-4d76-a641-003d0b6cd94f",
   "metadata": {},
   "source": [
    "# Dijkstra high D with A*"
   ]
  },
  {
   "cell_type": "markdown",
   "id": "1e237738-eb70-4771-9be7-f1ccb5dc9b46",
   "metadata": {},
   "source": [
    "s = ((loc),(dir),mom)"
   ]
  },
  {
   "cell_type": "code",
   "execution_count": 9,
   "id": "61393450-8190-4a45-b6ea-8961f526980f",
   "metadata": {},
   "outputs": [],
   "source": [
    "dirs = [(-1,0),(1, 0),(0, -1),(0, 1)]\n",
    "bounds = set(product(range(data.shape[0]), range(data.shape[1])))"
   ]
  },
  {
   "cell_type": "code",
   "execution_count": 10,
   "id": "7b72ced7-980a-44eb-a62c-297b6bf0fabc",
   "metadata": {},
   "outputs": [],
   "source": [
    "def get_neighbors(loc, dir, mom):\n",
    "    neighbors = []\n",
    "    for d in dirs:\n",
    "        if -d[0] == dir[0] and -d[1] == dir[1]:\n",
    "            continue\n",
    "        if d == dir and mom >= 3:\n",
    "            continue\n",
    "        n = ((loc[0]+d[0], loc[1] + d[1]), d, mom + 1 if d == dir else 1)\n",
    "        neighbors.append(n)\n",
    "    return [n for n in neighbors if n[0] in bounds]\n",
    "\n",
    "\n",
    "@cache\n",
    "def manhattan(a,b):\n",
    "    return abs(a[0]-b[0]) + abs(a[1]-b[1])"
   ]
  },
  {
   "cell_type": "code",
   "execution_count": 11,
   "id": "5f1fffc8-594c-45df-a686-c42f8f94a227",
   "metadata": {},
   "outputs": [
    {
     "name": "stdout",
     "output_type": "stream",
     "text": [
      "end\n"
     ]
    }
   ],
   "source": [
    "start = (0,0)\n",
    "start_s = (start, (0,0), 0)\n",
    "end = tuple([data.shape[0]-1, data.shape[1]-1])\n",
    "\n",
    "Q = []\n",
    "heappush(Q, (manhattan(start,end),start_s, start))\n",
    "minloss = {}\n",
    "\n",
    "prev = {}\n",
    "visited = set()\n",
    "\n",
    "i = 0\n",
    "while Q:\n",
    "    loss, s, last = heappop(Q)\n",
    "    # print(loss ,s, last)\n",
    "    # print(Q)\n",
    "    # time.sleep(1)\n",
    "    if s in visited:\n",
    "        continue\n",
    "    visited.add(s)\n",
    "    \n",
    "    minloss[s] = loss\n",
    "    prev[s] = last\n",
    "    \n",
    "    if s[0] == end:\n",
    "        print('end')\n",
    "        break\n",
    "\n",
    "    neighbors = get_neighbors(*s)\n",
    "    for n in neighbors:\n",
    "        if n not in visited:\n",
    "            v = loss + data[n[0]] - manhattan(s[0], end) + manhattan(n[0], end)\n",
    "            heappush(Q, (v, n, s))\n",
    "ans = minloss[s]"
   ]
  },
  {
   "cell_type": "code",
   "execution_count": 12,
   "id": "37098f24-0117-437b-9da5-be795d5e0fbe",
   "metadata": {},
   "outputs": [
    {
     "data": {
      "text/plain": [
       "1039"
      ]
     },
     "execution_count": 12,
     "metadata": {},
     "output_type": "execute_result"
    }
   ],
   "source": [
    "ans"
   ]
  },
  {
   "cell_type": "code",
   "execution_count": 13,
   "id": "06f53503-b1ae-45d1-b6a7-582318c0c839",
   "metadata": {},
   "outputs": [
    {
     "name": "stdout",
     "output_type": "stream",
     "text": [
      "1039\n",
      "[[1. 0. 0. ... 0. 0. 0.]\n",
      " [1. 1. 1. ... 0. 0. 0.]\n",
      " [0. 0. 0. ... 0. 0. 0.]\n",
      " ...\n",
      " [0. 0. 0. ... 0. 1. 1.]\n",
      " [0. 0. 0. ... 0. 0. 1.]\n",
      " [0. 0. 0. ... 0. 0. 1.]]\n"
     ]
    }
   ],
   "source": [
    "n = s\n",
    "path = [n]\n",
    "while n[0] != start:\n",
    "    last = prev[n]\n",
    "    path.append(last)\n",
    "    n = last\n",
    "path.reverse()\n",
    "print(ans)\n",
    "p = [p[0] for p in path]\n",
    "printpath = np.zeros(data.shape)\n",
    "for x in p:\n",
    "    printpath[x] = 1\n",
    "print(printpath)"
   ]
  },
  {
   "cell_type": "code",
   "execution_count": 15,
   "id": "50e12a9e-ffbc-485e-9724-79f97cd341f9",
   "metadata": {},
   "outputs": [],
   "source": [
    "submit(ans, year=YEAR, day=DAY)"
   ]
  },
  {
   "cell_type": "markdown",
   "id": "ba3abf71-91fd-4fa4-94d3-4cf7b59d923f",
   "metadata": {},
   "source": [
    "# Part B"
   ]
  },
  {
   "cell_type": "code",
   "execution_count": 16,
   "id": "c21d7784-b3e4-48b6-802a-9f83ab9ed6c3",
   "metadata": {},
   "outputs": [],
   "source": [
    "def get_neighbors2(loc, dir, mom):\n",
    "    neighbors = []\n",
    "    for d in dirs:\n",
    "        if -d[0] == dir[0] and -d[1] == dir[1]:\n",
    "            # print(f\"reverse: {d}\")\n",
    "            continue\n",
    "        if d == dir and mom >= 10:\n",
    "            # print(f\"max {d}\")\n",
    "            continue\n",
    "        if d != dir and dir != (0,0) and mom < 4:\n",
    "            # print(f\"min {d}\")\n",
    "            continue\n",
    "        n = ((loc[0]+d[0], loc[1] + d[1]), d, mom + 1 if d == dir else 1)\n",
    "        neighbors.append(n)\n",
    "    return [n for n in neighbors if n[0] in bounds]\n",
    "\n",
    "@cache\n",
    "def manhattan(a,b):\n",
    "    return abs(a[0]-b[0]) + abs(a[1]-b[1])"
   ]
  },
  {
   "cell_type": "code",
   "execution_count": 17,
   "id": "13682840-b183-4042-8dba-c0b0310f44dd",
   "metadata": {},
   "outputs": [
    {
     "name": "stdout",
     "output_type": "stream",
     "text": [
      "end\n"
     ]
    }
   ],
   "source": [
    "start = (0,0)\n",
    "start_s = (start, (0,0), 0)\n",
    "end = tuple([data.shape[0]-1, data.shape[1]-1])\n",
    "\n",
    "Q = []\n",
    "heappush(Q, (manhattan(start,end),start_s, start))\n",
    "minloss = {}\n",
    "\n",
    "prev = {}\n",
    "visited = set()\n",
    "\n",
    "while Q:\n",
    "    loss, s, last = heappop(Q)\n",
    "    if s in visited:\n",
    "        continue\n",
    "    visited.add(s)\n",
    "    \n",
    "    minloss[s] = loss\n",
    "    prev[s] = last\n",
    "    \n",
    "    if s[0] == end and s[2]>=4:\n",
    "        print('end')\n",
    "        break\n",
    "\n",
    "    neighbors = get_neighbors2(*s)\n",
    "    for n in neighbors:\n",
    "        if n not in visited:\n",
    "            v = loss + data[n[0]] - manhattan(s[0], end) + manhattan(n[0], end)\n",
    "            heappush(Q, (v, n, s))\n",
    "\n",
    "ans = minloss[s]"
   ]
  },
  {
   "cell_type": "code",
   "execution_count": 18,
   "id": "230fc9a6-2746-4a1b-97d7-eceb56380c9c",
   "metadata": {},
   "outputs": [
    {
     "data": {
      "text/plain": [
       "1201"
      ]
     },
     "execution_count": 18,
     "metadata": {},
     "output_type": "execute_result"
    }
   ],
   "source": [
    "ans"
   ]
  },
  {
   "cell_type": "code",
   "execution_count": 19,
   "id": "bb122739-26ca-48ec-bb9c-403b78f1c0c3",
   "metadata": {},
   "outputs": [
    {
     "name": "stdout",
     "output_type": "stream",
     "text": [
      "1201\n",
      "[[1. 0. 0. ... 0. 0. 0.]\n",
      " [1. 0. 0. ... 0. 0. 0.]\n",
      " [1. 0. 0. ... 0. 0. 0.]\n",
      " ...\n",
      " [0. 0. 0. ... 0. 0. 0.]\n",
      " [0. 0. 0. ... 0. 0. 0.]\n",
      " [0. 0. 0. ... 1. 1. 1.]]\n"
     ]
    }
   ],
   "source": [
    "n = s\n",
    "path = [n]\n",
    "while n[0] != start:\n",
    "    last = prev[n]\n",
    "    path.append(last)\n",
    "    n = last\n",
    "path.reverse()\n",
    "print(ans)\n",
    "p = [p[0] for p in path]\n",
    "printpath = np.zeros(data.shape)\n",
    "for x in p:\n",
    "    printpath[x] = 1\n",
    "print(printpath)"
   ]
  },
  {
   "cell_type": "code",
   "execution_count": 302,
   "id": "41e9575d-c42d-4f85-8bf5-1693eb554028",
   "metadata": {},
   "outputs": [
    {
     "name": "stderr",
     "output_type": "stream",
     "text": [
      "answer a: 1039\n",
      "submitting for part b (part a is already completed)\n",
      "coerced int64 value 1201 for 2023/17\n"
     ]
    },
    {
     "name": "stdout",
     "output_type": "stream",
     "text": [
      "\u001b[32mThat's the right answer!  You are one gold star closer to restoring snow operations.You have completed Day 17! You can [Shareon\n",
      "  Twitter\n",
      "Mastodon] this victory or [Return to Your Advent Calendar].\u001b[0m\n"
     ]
    },
    {
     "data": {
      "text/plain": [
       "<urllib3.response.HTTPResponse at 0x114922f20>"
      ]
     },
     "execution_count": 302,
     "metadata": {},
     "output_type": "execute_result"
    }
   ],
   "source": [
    "submit(ans, year=YEAR, day=DAY)"
   ]
  },
  {
   "cell_type": "markdown",
   "id": "5d8ba952-fc27-4faf-b670-34a739e06574",
   "metadata": {},
   "source": [
    "# Appendix"
   ]
  },
  {
   "cell_type": "markdown",
   "id": "5c5a0892-93ad-4046-88af-9c5088901b82",
   "metadata": {},
   "source": [
    "## BFS, right but slow"
   ]
  },
  {
   "cell_type": "code",
   "execution_count": 56,
   "id": "cdfeb779-c894-4248-afb6-178c008b81d8",
   "metadata": {},
   "outputs": [],
   "source": [
    "@cache\n",
    "def get_neighbors(loc, dir, mom):\n",
    "    banned = [(-dir[0], -dir[1])]\n",
    "    if mom >= 3:\n",
    "        banned += [dir]\n",
    "\n",
    "    neighbors = [(loc[0]+d[0], loc[1] + d[1]) for d in dirs if d not in banned]\n",
    "    return [n for n in neighbors if n in bounds]\n",
    "\n",
    "@cache\n",
    "def get_loc_dir_mom(*p):\n",
    "    moves = []\n",
    "    for c,n in zip(p,p[1:]):\n",
    "        moves += [(n[0]-c[0], n[1]-c[1])]\n",
    "    mom = 0\n",
    "    for i in range(len(moves)):\n",
    "        if moves[-i] == moves[-1-i]:\n",
    "            mom += 1\n",
    "    return p[-1], moves[-1] if moves else (0,0), mom\n",
    "\n",
    "@cache\n",
    "def manhattan(a,b):\n",
    "    return abs(a[0]-b[0]) + abs(a[1]-b[1])"
   ]
  },
  {
   "cell_type": "code",
   "execution_count": 145,
   "id": "a39b6420-229c-4cc0-a9b1-e617379c150e",
   "metadata": {},
   "outputs": [
    {
     "name": "stdout",
     "output_type": "stream",
     "text": [
      "6 [(0, 0)] (0, 0)\n",
      "[[1. 0. 0. 0.]\n",
      " [0. 0. 0. 0.]\n",
      " [0. 0. 0. 0.]\n",
      " [0. 0. 0. 0.]]\n"
     ]
    },
    {
     "ename": "IndexError",
     "evalue": "too many indices for array: array is 2-dimensional, but 3 were indexed",
     "output_type": "error",
     "traceback": [
      "\u001b[0;31m---------------------------------------------------------------------------\u001b[0m",
      "\u001b[0;31mIndexError\u001b[0m                                Traceback (most recent call last)",
      "Cell \u001b[0;32mIn[145], line 34\u001b[0m\n\u001b[1;32m     32\u001b[0m \u001b[38;5;28;01mfor\u001b[39;00m n \u001b[38;5;129;01min\u001b[39;00m neighbors:\n\u001b[1;32m     33\u001b[0m     \u001b[38;5;28;01mif\u001b[39;00m n \u001b[38;5;129;01mnot\u001b[39;00m \u001b[38;5;129;01min\u001b[39;00m path:\n\u001b[0;32m---> 34\u001b[0m         heappush(Q, (loss \u001b[38;5;241m-\u001b[39m manhattan(loc,end) \u001b[38;5;241m+\u001b[39m  \u001b[43mdata\u001b[49m\u001b[43m[\u001b[49m\u001b[43mn\u001b[49m\u001b[43m]\u001b[49m \u001b[38;5;241m+\u001b[39m manhattan(n,end), path \u001b[38;5;241m+\u001b[39m [n]))\n",
      "\u001b[0;31mIndexError\u001b[0m: too many indices for array: array is 2-dimensional, but 3 were indexed"
     ]
    }
   ],
   "source": [
    "dirs = [(-1,0),(1, 0),(0, -1),(0, 1)]\n",
    "bounds = list(product(range(data.shape[0]), range(data.shape[1])))\n",
    "\n",
    "start = (0,0)\n",
    "end = tuple([data.shape[0]-1, data.shape[1]-1])\n",
    "\n",
    "Q = []\n",
    "heappush(Q,(manhattan(start,end), [start]))\n",
    "\n",
    "i = 0\n",
    "while Q:\n",
    "    loss, path = heappop(Q)\n",
    "    loc = path[-1]\n",
    "    if i % 100 == 0:\n",
    "        print(loss, path, loc)\n",
    "        printpath = np.zeros(data.shape)\n",
    "        for x in path:\n",
    "            printpath[x] = 1\n",
    "        print(printpath)\n",
    "    i += 1\n",
    "    if loc == end:\n",
    "        print('end')\n",
    "        print(loss, path, loc)\n",
    "        printpath = np.zeros(data.shape)\n",
    "        for x in path:\n",
    "            printpath[x] = 1\n",
    "        print(printpath)\n",
    "        break\n",
    "\n",
    "    neighbors = get_neighbors(*(get_loc_dir_mom(*path[-4:])))\n",
    "\n",
    "    for n in neighbors:\n",
    "        if n not in path:\n",
    "            heappush(Q, (loss - manhattan(loc,end) +  data[n] + manhattan(n,end), path + [n]))"
   ]
  },
  {
   "cell_type": "code",
   "execution_count": 58,
   "id": "aaabd8d5-c4b6-4460-a376-07fb493ff59f",
   "metadata": {},
   "outputs": [
    {
     "data": {
      "text/plain": [
       "28"
      ]
     },
     "execution_count": 58,
     "metadata": {},
     "output_type": "execute_result"
    }
   ],
   "source": [
    "loss"
   ]
  },
  {
   "cell_type": "code",
   "execution_count": 59,
   "id": "9282c65f-b943-46a4-91dc-9202e4a931ff",
   "metadata": {},
   "outputs": [
    {
     "data": {
      "text/plain": [
       "[(0, 0), (0, 1), (0, 2), (1, 2), (1, 3), (1, 4), (2, 4), (3, 4), (4, 4)]"
      ]
     },
     "execution_count": 59,
     "metadata": {},
     "output_type": "execute_result"
    }
   ],
   "source": [
    "path"
   ]
  },
  {
   "cell_type": "markdown",
   "id": "8b6684a4-bd08-452d-85fe-300d4d2b3776",
   "metadata": {},
   "source": [
    "## Dijkstra, wrong but fast"
   ]
  },
  {
   "cell_type": "code",
   "execution_count": 47,
   "id": "89a23da1-837e-4610-8d88-e25f0fc98520",
   "metadata": {},
   "outputs": [
    {
     "name": "stdout",
     "output_type": "stream",
     "text": [
      "end\n"
     ]
    }
   ],
   "source": [
    "dirs = [(-1,0),(1, 0),(0, -1),(0, 1)]\n",
    "bounds = list(product(range(data.shape[0]), range(data.shape[1])))\n",
    "\n",
    "start = (0,0)\n",
    "end = tuple([data.shape[0]-1, data.shape[1]-1])\n",
    "\n",
    "Q = bounds.copy()\n",
    "minloss = np.ones(data.shape) * 1000\n",
    "prev = {}\n",
    "minloss[start] = 0\n",
    "\n",
    "while Q:\n",
    "    Q.sort(key=lambda x: minloss[x])\n",
    "    s = Q.pop(0)\n",
    "    if s == end:\n",
    "        print('end')\n",
    "        break\n",
    "\n",
    "    neighbors = [(s[0]+d[0], s[1] + d[1]) for d in dirs]\n",
    "    hist = []\n",
    "    c = s\n",
    "    for i in range(3):\n",
    "        l = prev.get(c, (-5,-5))\n",
    "        m = (c[0]-l[0], c[1]-l[1])\n",
    "        hist.append(m)\n",
    "        c = l\n",
    "    if len(set(hist)) == 1:\n",
    "        banned = (s[0]+m[0], s[1]+m[1])\n",
    "    else:\n",
    "        banned = []\n",
    "    neighbors = [n for n in neighbors if n in Q and n != banned]\n",
    "    for n in neighbors:\n",
    "        v = minloss[s] + data[n]\n",
    "        if v < minloss[n]:\n",
    "            minloss[n] = v\n",
    "            prev[n] = s\n",
    "\n",
    "path = [end]\n",
    "s = end\n",
    "while s != start:\n",
    "    last = prev[s]\n",
    "    path.append(last)\n",
    "    s = last\n",
    "path.reverse()"
   ]
  },
  {
   "cell_type": "code",
   "execution_count": 49,
   "id": "88bca199-eb2e-4cbd-b628-70ec07386bf8",
   "metadata": {},
   "outputs": [
    {
     "name": "stdout",
     "output_type": "stream",
     "text": [
      "[[1. 0. 0. 0. 0.]\n",
      " [1. 1. 1. 1. 0.]\n",
      " [0. 0. 0. 1. 1.]\n",
      " [0. 0. 0. 0. 1.]\n",
      " [0. 0. 0. 0. 1.]]\n"
     ]
    }
   ],
   "source": [
    "printpath = np.zeros(data.shape)\n",
    "for x in path:\n",
    "    printpath[x] = 1\n",
    "print(printpath)"
   ]
  },
  {
   "cell_type": "code",
   "execution_count": 50,
   "id": "42c11260-066d-4a2f-874d-d5608e064278",
   "metadata": {},
   "outputs": [
    {
     "data": {
      "text/plain": [
       "29.0"
      ]
     },
     "execution_count": 50,
     "metadata": {},
     "output_type": "execute_result"
    }
   ],
   "source": [
    "minloss[path[-1]]"
   ]
  },
  {
   "cell_type": "markdown",
   "id": "7de745a5-8da1-4778-a151-df8d78ada5da",
   "metadata": {},
   "source": [
    "## DFS, right but slow"
   ]
  },
  {
   "cell_type": "code",
   "execution_count": 54,
   "id": "4d3d81a1-703a-45a4-9390-f81791c26455",
   "metadata": {},
   "outputs": [],
   "source": [
    "def dfs(pastlocs, pastmoves, s):\n",
    "    if s == end:\n",
    "        return 0\n",
    "    if s in pastlocs:\n",
    "        return 1e7\n",
    "        \n",
    "    banned = []\n",
    "    if len(pastmoves) >= 3 and len(set(pastmoves[-3:])) == 1:\n",
    "        banned += [pastmoves[-1]]\n",
    "\n",
    "    ans = 1e7\n",
    "\n",
    "    for d in dirs:\n",
    "        if d not in banned:\n",
    "            n = (s[0]+d[0], s[1] + d[1])\n",
    "            if n in bounds:\n",
    "                ans = min(ans, data[n] + dfs(pastlocs + [s], pastmoves + [d], n))\n",
    "    return ans"
   ]
  },
  {
   "cell_type": "code",
   "execution_count": 55,
   "id": "699ab743-0c43-4d91-bdeb-700fdb8d1c2b",
   "metadata": {},
   "outputs": [
    {
     "data": {
      "text/plain": [
       "28"
      ]
     },
     "execution_count": 55,
     "metadata": {},
     "output_type": "execute_result"
    }
   ],
   "source": [
    "sys.setrecursionlimit(1500)\n",
    "\n",
    "dfs([], [(0,0)], start)"
   ]
  },
  {
   "cell_type": "code",
   "execution_count": null,
   "id": "5a6da48b-6a8f-4bf1-9ab9-71e6d8aaae0f",
   "metadata": {},
   "outputs": [],
   "source": []
  },
  {
   "cell_type": "code",
   "execution_count": null,
   "id": "d9efe3b8-c205-49a0-aea1-9851d26aafc3",
   "metadata": {},
   "outputs": [],
   "source": []
  },
  {
   "cell_type": "code",
   "execution_count": null,
   "id": "c9c8966b-a69d-43be-b8cb-893254d04db3",
   "metadata": {},
   "outputs": [],
   "source": []
  }
 ],
 "metadata": {
  "kernelspec": {
   "display_name": "Python 3 (ipykernel)",
   "language": "python",
   "name": "python3"
  },
  "language_info": {
   "codemirror_mode": {
    "name": "ipython",
    "version": 3
   },
   "file_extension": ".py",
   "mimetype": "text/x-python",
   "name": "python",
   "nbconvert_exporter": "python",
   "pygments_lexer": "ipython3",
   "version": "3.12.0"
  }
 },
 "nbformat": 4,
 "nbformat_minor": 5
}
