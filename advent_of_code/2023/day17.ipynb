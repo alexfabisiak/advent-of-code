{
 "cells": [
  {
   "cell_type": "code",
   "execution_count": 1,
   "id": "cca57e6d-5224-493a-a2a9-5e23bb5546c2",
   "metadata": {},
   "outputs": [],
   "source": [
    "from aocd import get_data, submit\n",
    "# from aocd.get import current_day\n",
    "\n",
    "from IPython.display import display\n",
    "from IPython.core.display import Markdown\n",
    "\n",
    "import math\n",
    "import numpy as np\n",
    "import re\n",
    "import sys\n",
    "import time"
   ]
  },
  {
   "cell_type": "code",
   "execution_count": 2,
   "id": "e4d6b8a4-25ef-4630-8aa6-6c95c7a8be09",
   "metadata": {},
   "outputs": [],
   "source": [
    "DAY = 17\n",
    "YEAR = 2023"
   ]
  },
  {
   "cell_type": "code",
   "execution_count": 3,
   "id": "388077b9-edd1-4ab9-9a3c-5e24b66346a8",
   "metadata": {},
   "outputs": [
    {
     "data": {
      "text/markdown": [
       "#### See [2023 Day 17](https://adventofcode.com/2023/day/17)."
      ],
      "text/plain": [
       "<IPython.core.display.Markdown object>"
      ]
     },
     "metadata": {},
     "output_type": "display_data"
    }
   ],
   "source": [
    "url = f\"https://adventofcode.com/{YEAR}/day/{DAY}\"\n",
    "display(Markdown(f\"#### See [{YEAR} Day {DAY}]({url}).\"))"
   ]
  },
  {
   "cell_type": "code",
   "execution_count": 4,
   "id": "ced1e284-733b-49e7-9154-18d54af53bdb",
   "metadata": {},
   "outputs": [],
   "source": [
    "data = get_data(year=YEAR, day=DAY)"
   ]
  },
  {
   "cell_type": "code",
   "execution_count": 5,
   "id": "97d3a4d3-b08a-4bff-bfb8-d37cc82a395d",
   "metadata": {},
   "outputs": [
    {
     "data": {
      "text/plain": [
       "['233244231122553122525413454522354135462222326535344662264544223642652255336664663346353252645466356456462435622214553413332454432211214411143',\n",
       " '223141234553125225554452413445222253233246635553325226333542552424263422323666243555565625352563233242463262245343212134422111434232123132432',\n",
       " '222211241414332422353143154123232224435622425635432542244626326352546424262544336555243322432452265334323634435625353134233211423335325223333',\n",
       " '322232223424242153454434322156223244543255665445556362542353232362553242363465623353356322354425466433346323664633124432225444231511234544333',\n",
       " '332334545315334114453243332464466364433664255323465255433565444463354334373422362334624463322442462434232264664443442124112355243442414251234']"
      ]
     },
     "execution_count": 5,
     "metadata": {},
     "output_type": "execute_result"
    }
   ],
   "source": [
    "data.splitlines()[:5]"
   ]
  },
  {
   "cell_type": "markdown",
   "id": "c644d7ff-3812-4bcf-b4a4-6feb40c40374",
   "metadata": {},
   "source": [
    "# Part A"
   ]
  },
  {
   "cell_type": "code",
   "execution_count": 39,
   "id": "b871c35c-b8cf-4b9f-84ce-456f133addd6",
   "metadata": {},
   "outputs": [],
   "source": [
    "data = \"\"\"2413432311323\n",
    "3215453535623\n",
    "3255245654254\n",
    "3446585845452\n",
    "4546657867536\n",
    "1438598798454\n",
    "4457876987766\n",
    "3637877979653\n",
    "4654967986887\n",
    "4564679986453\n",
    "1224686865563\n",
    "2546548887735\n",
    "4322674655533\n",
    "\"\"\""
   ]
  },
  {
   "cell_type": "code",
   "execution_count": 40,
   "id": "e39bf078-0f2f-4c8a-ac50-e3a70a741b98",
   "metadata": {},
   "outputs": [
    {
     "data": {
      "text/plain": [
       "array([[2, 4, 1, 3, 4],\n",
       "       [3, 2, 1, 5, 4],\n",
       "       [3, 2, 5, 5, 2],\n",
       "       [3, 4, 4, 6, 5],\n",
       "       [4, 5, 4, 6, 6]])"
      ]
     },
     "execution_count": 40,
     "metadata": {},
     "output_type": "execute_result"
    }
   ],
   "source": [
    "data = np.array([[int(x) for x in l] for l in data.splitlines()])\n",
    "data = data[:5,:5]\n",
    "data"
   ]
  },
  {
   "cell_type": "markdown",
   "id": "533fb333-743c-4797-a551-5985dc66203b",
   "metadata": {},
   "source": [
    "s = (loss: int, path: List[tuple])"
   ]
  },
  {
   "cell_type": "code",
   "execution_count": 41,
   "id": "07294860-3f33-424f-9668-b05a1ee859bf",
   "metadata": {},
   "outputs": [],
   "source": [
    "from heapq import heappush, heappop\n",
    "from functools import cache\n",
    "from itertools import product"
   ]
  },
  {
   "cell_type": "markdown",
   "id": "be9b8233-2514-4b60-93c5-6e63ebcec41c",
   "metadata": {},
   "source": [
    "# A*, right but slow"
   ]
  },
  {
   "cell_type": "code",
   "execution_count": 42,
   "id": "cdfeb779-c894-4248-afb6-178c008b81d8",
   "metadata": {},
   "outputs": [],
   "source": [
    "@cache\n",
    "def get_neighbors(loc, dir, mom):\n",
    "    banned = [(-dir[0], -dir[1])]\n",
    "    if mom >= 3:\n",
    "        banned += [dir]\n",
    "\n",
    "    neighbors = [(loc[0]+d[0], loc[1] + d[1]) for d in dirs if d not in banned]\n",
    "    return [n for n in neighbors if n in bounds]\n",
    "\n",
    "@cache\n",
    "def get_loc_dir_mom(*p):\n",
    "    moves = []\n",
    "    for c,n in zip(p,p[1:]):\n",
    "        moves += [(n[0]-c[0], n[1]-c[1])]\n",
    "    mom = 0\n",
    "    for i in range(len(moves)):\n",
    "        if moves[-1] == moves[-1-i]:\n",
    "            mom += 1\n",
    "    return p[-1], moves[-1] if moves else (0,0), mom\n",
    "\n",
    "@cache\n",
    "def manhattan(a,b):\n",
    "    return abs(a[0]-b[0]) + abs(a[1]-b[1])"
   ]
  },
  {
   "cell_type": "code",
   "execution_count": 43,
   "id": "a39b6420-229c-4cc0-a9b1-e617379c150e",
   "metadata": {},
   "outputs": [
    {
     "name": "stdout",
     "output_type": "stream",
     "text": [
      "8 [(0, 0)] (0, 0)\n",
      "[[1. 0. 0. 0. 0.]\n",
      " [0. 0. 0. 0. 0.]\n",
      " [0. 0. 0. 0. 0.]\n",
      " [0. 0. 0. 0. 0.]\n",
      " [0. 0. 0. 0. 0.]]\n",
      "20 [(0, 0), (1, 0), (2, 0), (2, 1), (1, 1), (1, 2), (0, 2), (0, 3)] (0, 3)\n",
      "[[1. 0. 1. 1. 0.]\n",
      " [1. 1. 1. 0. 0.]\n",
      " [1. 1. 0. 0. 0.]\n",
      " [0. 0. 0. 0. 0.]\n",
      " [0. 0. 0. 0. 0.]]\n",
      "23 [(0, 0), (1, 0), (2, 0), (2, 1), (3, 1), (3, 0), (4, 0)] (4, 0)\n",
      "[[1. 0. 0. 0. 0.]\n",
      " [1. 0. 0. 0. 0.]\n",
      " [1. 1. 0. 0. 0.]\n",
      " [1. 1. 0. 0. 0.]\n",
      " [1. 0. 0. 0. 0.]]\n",
      "25 [(0, 0), (1, 0), (2, 0), (2, 1), (1, 1), (1, 2), (1, 3), (2, 3), (2, 4)] (2, 4)\n",
      "[[1. 0. 0. 0. 0.]\n",
      " [1. 1. 1. 1. 0.]\n",
      " [1. 1. 0. 1. 1.]\n",
      " [0. 0. 0. 0. 0.]\n",
      " [0. 0. 0. 0. 0.]]\n",
      "27 [(0, 0), (0, 1), (1, 1), (2, 1), (2, 2), (2, 3), (1, 3)] (1, 3)\n",
      "[[1. 1. 0. 0. 0.]\n",
      " [0. 1. 0. 1. 0.]\n",
      " [0. 1. 1. 1. 0.]\n",
      " [0. 0. 0. 0. 0.]\n",
      " [0. 0. 0. 0. 0.]]\n",
      "end\n",
      "28 [(0, 0), (0, 1), (0, 2), (1, 2), (1, 3), (1, 4), (2, 4), (3, 4), (4, 4)] (4, 4)\n",
      "[[1. 1. 1. 0. 0.]\n",
      " [0. 0. 1. 1. 1.]\n",
      " [0. 0. 0. 0. 1.]\n",
      " [0. 0. 0. 0. 1.]\n",
      " [0. 0. 0. 0. 1.]]\n"
     ]
    }
   ],
   "source": [
    "dirs = [(-1,0),(1, 0),(0, -1),(0, 1)]\n",
    "bounds = list(product(range(data.shape[0]), range(data.shape[1])))\n",
    "\n",
    "start = (0,0)\n",
    "end = tuple([data.shape[0]-1, data.shape[1]-1])\n",
    "\n",
    "Q = []\n",
    "heappush(Q,(manhattan(start,end), [start]))\n",
    "\n",
    "i = 0\n",
    "while Q:\n",
    "    loss, path = heappop(Q)\n",
    "    loc = path[-1]\n",
    "    if i % 100 == 0:\n",
    "        print(loss, path, loc)\n",
    "        printpath = np.zeros(data.shape)\n",
    "        for x in path:\n",
    "            printpath[x] = 1\n",
    "        print(printpath)\n",
    "    i += 1\n",
    "    if loc == end:\n",
    "        print('end')\n",
    "        print(loss, path, loc)\n",
    "        printpath = np.zeros(data.shape)\n",
    "        for x in path:\n",
    "            printpath[x] = 1\n",
    "        print(printpath)\n",
    "        break\n",
    "\n",
    "    neighbors = get_neighbors(*(get_loc_dir_mom(*path[-4:])))\n",
    "\n",
    "    for n in neighbors:\n",
    "        if n not in path:\n",
    "            heappush(Q, (loss - manhattan(loc,end) +  data[n] + manhattan(n,end), path + [n]))"
   ]
  },
  {
   "cell_type": "code",
   "execution_count": 44,
   "id": "aaabd8d5-c4b6-4460-a376-07fb493ff59f",
   "metadata": {},
   "outputs": [
    {
     "data": {
      "text/plain": [
       "28"
      ]
     },
     "execution_count": 44,
     "metadata": {},
     "output_type": "execute_result"
    }
   ],
   "source": [
    "loss"
   ]
  },
  {
   "cell_type": "code",
   "execution_count": 45,
   "id": "9282c65f-b943-46a4-91dc-9202e4a931ff",
   "metadata": {},
   "outputs": [
    {
     "data": {
      "text/plain": [
       "[(0, 0), (0, 1), (0, 2), (1, 2), (1, 3), (1, 4), (2, 4), (3, 4), (4, 4)]"
      ]
     },
     "execution_count": 45,
     "metadata": {},
     "output_type": "execute_result"
    }
   ],
   "source": [
    "path"
   ]
  },
  {
   "cell_type": "markdown",
   "id": "6bc1bb01-21c6-4996-a48e-c19d510d6b17",
   "metadata": {},
   "source": [
    "# Dijkstra, wrong but fast"
   ]
  },
  {
   "cell_type": "code",
   "execution_count": 47,
   "id": "89a23da1-837e-4610-8d88-e25f0fc98520",
   "metadata": {},
   "outputs": [
    {
     "name": "stdout",
     "output_type": "stream",
     "text": [
      "end\n"
     ]
    }
   ],
   "source": [
    "dirs = [(-1,0),(1, 0),(0, -1),(0, 1)]\n",
    "bounds = list(product(range(data.shape[0]), range(data.shape[1])))\n",
    "\n",
    "start = (0,0)\n",
    "end = tuple([data.shape[0]-1, data.shape[1]-1])\n",
    "\n",
    "Q = bounds.copy()\n",
    "minloss = np.ones(data.shape) * 1000\n",
    "prev = {}\n",
    "minloss[start] = 0\n",
    "\n",
    "while Q:\n",
    "    Q.sort(key=lambda x: minloss[x])\n",
    "    s = Q.pop(0)\n",
    "    if s == end:\n",
    "        print('end')\n",
    "        break\n",
    "\n",
    "    neighbors = [(s[0]+d[0], s[1] + d[1]) for d in dirs]\n",
    "    hist = []\n",
    "    c = s\n",
    "    for i in range(3):\n",
    "        l = prev.get(c, (-5,-5))\n",
    "        m = (c[0]-l[0], c[1]-l[1])\n",
    "        hist.append(m)\n",
    "        c = l\n",
    "    if len(set(hist)) == 1:\n",
    "        banned = (s[0]+m[0], s[1]+m[1])\n",
    "    else:\n",
    "        banned = []\n",
    "    neighbors = [n for n in neighbors if n in Q and n != banned]\n",
    "    for n in neighbors:\n",
    "        v = minloss[s] + data[n]\n",
    "        if v < minloss[n]:\n",
    "            minloss[n] = v\n",
    "            prev[n] = s\n",
    "\n",
    "path = [end]\n",
    "s = end\n",
    "while s != start:\n",
    "    last = prev[s]\n",
    "    path.append(last)\n",
    "    s = last\n",
    "path.reverse()"
   ]
  },
  {
   "cell_type": "code",
   "execution_count": 49,
   "id": "88bca199-eb2e-4cbd-b628-70ec07386bf8",
   "metadata": {},
   "outputs": [
    {
     "name": "stdout",
     "output_type": "stream",
     "text": [
      "[[1. 0. 0. 0. 0.]\n",
      " [1. 1. 1. 1. 0.]\n",
      " [0. 0. 0. 1. 1.]\n",
      " [0. 0. 0. 0. 1.]\n",
      " [0. 0. 0. 0. 1.]]\n"
     ]
    }
   ],
   "source": [
    "printpath = np.zeros(data.shape)\n",
    "for x in path:\n",
    "    printpath[x] = 1\n",
    "print(printpath)"
   ]
  },
  {
   "cell_type": "code",
   "execution_count": 50,
   "id": "42c11260-066d-4a2f-874d-d5608e064278",
   "metadata": {},
   "outputs": [
    {
     "data": {
      "text/plain": [
       "29.0"
      ]
     },
     "execution_count": 50,
     "metadata": {},
     "output_type": "execute_result"
    }
   ],
   "source": [
    "minloss[path[-1]]"
   ]
  },
  {
   "cell_type": "markdown",
   "id": "c80a6702-ee0a-4952-b78d-f41104e4a146",
   "metadata": {},
   "source": [
    "# DFS, right but slow"
   ]
  },
  {
   "cell_type": "code",
   "execution_count": 54,
   "id": "4d3d81a1-703a-45a4-9390-f81791c26455",
   "metadata": {},
   "outputs": [],
   "source": [
    "def dfs(pastlocs, pastmoves, s):\n",
    "    if s == end:\n",
    "        return 0\n",
    "    if s in pastlocs:\n",
    "        return 1e7\n",
    "        \n",
    "    banned = []\n",
    "    if len(pastmoves) >= 3 and len(set(pastmoves[-3:])) == 1:\n",
    "        banned += [pastmoves[-1]]\n",
    "\n",
    "    ans = 1e7\n",
    "\n",
    "    for d in dirs:\n",
    "        if d not in banned:\n",
    "            n = (s[0]+d[0], s[1] + d[1])\n",
    "            if n in bounds:\n",
    "                ans = min(ans, data[n] + dfs(pastlocs + [s], pastmoves + [d], n))\n",
    "    return ans"
   ]
  },
  {
   "cell_type": "code",
   "execution_count": 55,
   "id": "699ab743-0c43-4d91-bdeb-700fdb8d1c2b",
   "metadata": {},
   "outputs": [
    {
     "data": {
      "text/plain": [
       "28"
      ]
     },
     "execution_count": 55,
     "metadata": {},
     "output_type": "execute_result"
    }
   ],
   "source": [
    "sys.setrecursionlimit(1500)\n",
    "\n",
    "dfs([], [(0,0)], start)"
   ]
  },
  {
   "cell_type": "code",
   "execution_count": null,
   "id": "5a6da48b-6a8f-4bf1-9ab9-71e6d8aaae0f",
   "metadata": {},
   "outputs": [],
   "source": []
  },
  {
   "cell_type": "code",
   "execution_count": null,
   "id": "d9efe3b8-c205-49a0-aea1-9851d26aafc3",
   "metadata": {},
   "outputs": [],
   "source": []
  },
  {
   "cell_type": "code",
   "execution_count": null,
   "id": "c9c8966b-a69d-43be-b8cb-893254d04db3",
   "metadata": {},
   "outputs": [],
   "source": []
  },
  {
   "cell_type": "code",
   "execution_count": null,
   "id": "50e12a9e-ffbc-485e-9724-79f97cd341f9",
   "metadata": {},
   "outputs": [],
   "source": [
    "submit(total, year=YEAR, day=DAY)"
   ]
  },
  {
   "cell_type": "markdown",
   "id": "ba3abf71-91fd-4fa4-94d3-4cf7b59d923f",
   "metadata": {},
   "source": [
    "# Part B"
   ]
  },
  {
   "cell_type": "code",
   "execution_count": null,
   "id": "49d0987c-3711-4a4f-94da-26c952f48aad",
   "metadata": {},
   "outputs": [],
   "source": []
  },
  {
   "cell_type": "code",
   "execution_count": null,
   "id": "41e9575d-c42d-4f85-8bf5-1693eb554028",
   "metadata": {},
   "outputs": [],
   "source": [
    "submit(total, year=YEAR, day=DAY)"
   ]
  },
  {
   "cell_type": "code",
   "execution_count": null,
   "id": "bc341816-1163-4c5d-a585-04ab81b4d2d7",
   "metadata": {},
   "outputs": [],
   "source": []
  }
 ],
 "metadata": {
  "kernelspec": {
   "display_name": "Python 3 (ipykernel)",
   "language": "python",
   "name": "python3"
  },
  "language_info": {
   "codemirror_mode": {
    "name": "ipython",
    "version": 3
   },
   "file_extension": ".py",
   "mimetype": "text/x-python",
   "name": "python",
   "nbconvert_exporter": "python",
   "pygments_lexer": "ipython3",
   "version": "3.12.0"
  }
 },
 "nbformat": 4,
 "nbformat_minor": 5
}
