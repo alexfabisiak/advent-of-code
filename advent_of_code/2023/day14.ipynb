{
 "cells": [
  {
   "cell_type": "code",
   "execution_count": 1,
   "id": "cca57e6d-5224-493a-a2a9-5e23bb5546c2",
   "metadata": {},
   "outputs": [],
   "source": [
    "from aocd import get_data, submit\n",
    "# from aocd.get import current_day\n",
    "\n",
    "from IPython.display import display\n",
    "from IPython.core.display import Markdown\n",
    "\n",
    "import math\n",
    "import numpy as np\n",
    "import re\n",
    "import sys"
   ]
  },
  {
   "cell_type": "code",
   "execution_count": 2,
   "id": "e4d6b8a4-25ef-4630-8aa6-6c95c7a8be09",
   "metadata": {},
   "outputs": [],
   "source": [
    "DAY = 14\n",
    "YEAR = 2023"
   ]
  },
  {
   "cell_type": "code",
   "execution_count": 3,
   "id": "388077b9-edd1-4ab9-9a3c-5e24b66346a8",
   "metadata": {},
   "outputs": [
    {
     "data": {
      "text/markdown": [
       "#### See [2023 Day 14](https://adventofcode.com/2023/day/14)."
      ],
      "text/plain": [
       "<IPython.core.display.Markdown object>"
      ]
     },
     "metadata": {},
     "output_type": "display_data"
    }
   ],
   "source": [
    "url = f\"https://adventofcode.com/{YEAR}/day/{DAY}\"\n",
    "display(Markdown(f\"#### See [{YEAR} Day {DAY}]({url}).\"))"
   ]
  },
  {
   "cell_type": "code",
   "execution_count": 224,
   "id": "ced1e284-733b-49e7-9154-18d54af53bdb",
   "metadata": {},
   "outputs": [],
   "source": [
    "data = get_data(year=YEAR, day=DAY)"
   ]
  },
  {
   "cell_type": "code",
   "execution_count": 225,
   "id": "97d3a4d3-b08a-4bff-bfb8-d37cc82a395d",
   "metadata": {},
   "outputs": [
    {
     "data": {
      "text/plain": [
       "['.....#...O..O...O.....O#.O.#..O..#...O#.#OOO.O..##O.O##O..O....#..#...O.##..O.....O#..O..O.O..O#...#',\n",
       " 'O.OO...#OO.OO..#.OO.......O......O#..#O.#.OOO.#O.##.O#OOO...O..#...O#..#.OOO..#...#....O........O.O#',\n",
       " '.#.#.O##O...##.#.OO..O.O#..OO.O.OO..O..O#.##O.....#..##.#.##.#..O.O...#.O..#...#.....#....OO#OOOO..#',\n",
       " 'O..O.O.#.#...O.OOO.O.O..O.O..OO#O...........#O.O.O.....#O..O....#O..#OO.O...O#...O.#..#..#..O...#...',\n",
       " '..O.#....OOO..OO....#OOO.#O...#O...O#.........O..#.##...OOO.OO.......OOO........O.##..O.#.O.OO.#O.O.']"
      ]
     },
     "execution_count": 225,
     "metadata": {},
     "output_type": "execute_result"
    }
   ],
   "source": [
    "data.splitlines()[:5]"
   ]
  },
  {
   "cell_type": "code",
   "execution_count": 226,
   "id": "3795cab3-90a6-449c-ae88-a320f40b1029",
   "metadata": {},
   "outputs": [
    {
     "data": {
      "text/plain": [
       "10099"
      ]
     },
     "execution_count": 226,
     "metadata": {},
     "output_type": "execute_result"
    }
   ],
   "source": [
    "len(data)"
   ]
  },
  {
   "cell_type": "markdown",
   "id": "c644d7ff-3812-4bcf-b4a4-6feb40c40374",
   "metadata": {},
   "source": [
    "# Part A"
   ]
  },
  {
   "cell_type": "code",
   "execution_count": 219,
   "id": "b871c35c-b8cf-4b9f-84ce-456f133addd6",
   "metadata": {},
   "outputs": [],
   "source": [
    "data = \"\"\"O....#....\n",
    "O.OO#....#\n",
    ".....##...\n",
    "OO.#O....O\n",
    ".O.....O#.\n",
    "O.#..O.#.#\n",
    "..O..#O..O\n",
    ".......O..\n",
    "#....###..\n",
    "#OO..#....\n",
    "\"\"\""
   ]
  },
  {
   "cell_type": "code",
   "execution_count": 227,
   "id": "b24ae553-887f-4383-b5cd-756d58dbf080",
   "metadata": {},
   "outputs": [],
   "source": [
    "def find(ch, s):\n",
    "    return [i for i, ltr in enumerate(s) if ltr == ch]"
   ]
  },
  {
   "cell_type": "code",
   "execution_count": 228,
   "id": "5d99fd9e-5493-4726-b3e0-83599b1b6435",
   "metadata": {},
   "outputs": [],
   "source": [
    "def transpose(m):\n",
    "    return list(map(''.join, zip(*m)))\n",
    "transposed = transpose(data.splitlines())\n",
    "# transposed\n",
    "\n",
    "def rotate(m):\n",
    "    return list(map(''.join, zip(*m[::-1])))    "
   ]
  },
  {
   "cell_type": "code",
   "execution_count": 229,
   "id": "a20c0e48-aa6d-4ff9-be8f-eb1ff226f194",
   "metadata": {},
   "outputs": [],
   "source": [
    "rolled = []\n",
    "\n",
    "for i, l in enumerate(transpose(data.splitlines())):\n",
    "    rolled.append('#'.join([''.join(sorted(s, reverse=True)) for s in l.split('#')]))"
   ]
  },
  {
   "cell_type": "code",
   "execution_count": 230,
   "id": "86fccc9e-fd7e-4f25-b6ad-85c30b8b9f16",
   "metadata": {},
   "outputs": [
    {
     "data": {
      "text/plain": [
       "113486"
      ]
     },
     "execution_count": 230,
     "metadata": {},
     "output_type": "execute_result"
    }
   ],
   "source": [
    "total = 0\n",
    "\n",
    "for l in rolled:\n",
    "    for i,c in enumerate(l):\n",
    "        if c == 'O':\n",
    "            total += len(l) - i\n",
    "total"
   ]
  },
  {
   "cell_type": "code",
   "execution_count": 231,
   "id": "50e12a9e-ffbc-485e-9724-79f97cd341f9",
   "metadata": {},
   "outputs": [
    {
     "name": "stderr",
     "output_type": "stream",
     "text": [
      "answer a: 113486\n",
      "submitting for part b (part a is already completed)\n"
     ]
    },
    {
     "name": "stdout",
     "output_type": "stream",
     "text": [
      "aocd will not submit that answer. At 2023-12-14 01:07:11.997157-05:00 you've previously submitted 104409 and the server responded with:\n",
      "\u001b[32mThat's the right answer!  You are one gold star closer to restoring snow operations.You have completed Day 14! You can [Shareon\n",
      "  Twitter\n",
      "Mastodon] this victory or [Return to Your Advent Calendar].\u001b[0m\n",
      "It is certain that '113486' is incorrect, because '113486' != '104409'.\n"
     ]
    }
   ],
   "source": [
    "submit(total, year=YEAR, day=DAY)"
   ]
  },
  {
   "cell_type": "markdown",
   "id": "ba3abf71-91fd-4fa4-94d3-4cf7b59d923f",
   "metadata": {},
   "source": [
    "# Part B"
   ]
  },
  {
   "cell_type": "code",
   "execution_count": 232,
   "id": "18ba7578-bec9-41ca-8cc8-f68587623b8a",
   "metadata": {},
   "outputs": [],
   "source": [
    "def roll_left(m):\n",
    "    rolled = []\n",
    "    for i, l in enumerate(m):\n",
    "        rolled.append('#'.join([''.join(sorted(s, reverse=True)) for s in l.split('#')]))\n",
    "    return rolled\n",
    "\n",
    "def calc_load(m):\n",
    "    total = 0\n",
    "    \n",
    "    for l in m:\n",
    "        for i,c in enumerate(l):\n",
    "            if c == 'O':\n",
    "                total += len(l) - i\n",
    "    return total"
   ]
  },
  {
   "cell_type": "code",
   "execution_count": 233,
   "id": "edfbaa8c-67eb-4183-9035-1ce3023fa30c",
   "metadata": {},
   "outputs": [],
   "source": [
    "m = rotate(rotate(rotate(data.splitlines())))\n",
    "loads = [calc_load(m)]\n",
    "\n",
    "for cycle in range(1_000):\n",
    "    for direction in range(4):\n",
    "        m = rotate(roll_left(m))\n",
    "    loads.append(calc_load(m))"
   ]
  },
  {
   "cell_type": "code",
   "execution_count": 234,
   "id": "d1ad0ab2-72a1-460a-9c4b-14bade7dd94d",
   "metadata": {},
   "outputs": [
    {
     "name": "stdout",
     "output_type": "stream",
     "text": [
      "0 105455\n",
      "1 104738\n",
      "2 104683\n",
      "3 104589\n",
      "4 104448\n",
      "5 104401\n",
      "6 104366\n",
      "7 104336\n",
      "8 104363\n",
      "9 104377\n",
      "10 104338\n",
      "11 104324\n",
      "12 104364\n",
      "13 104375\n",
      "14 104349\n",
      "15 104323\n",
      "16 104310\n",
      "17 104330\n",
      "18 104368\n",
      "19 104365\n",
      "20 104339\n",
      "21 104309\n",
      "22 104275\n",
      "23 104231\n",
      "24 104189\n",
      "25 104134\n",
      "26 104095\n",
      "27 104053\n",
      "28 103988\n",
      "29 103967\n",
      "30 103940\n",
      "31 103938\n",
      "32 103924\n",
      "33 103898\n",
      "34 103846\n",
      "35 103844\n",
      "36 103854\n",
      "37 103884\n",
      "38 103900\n",
      "39 103918\n",
      "40 103951\n",
      "41 104003\n",
      "42 104039\n",
      "43 104074\n",
      "44 104107\n",
      "45 104134\n",
      "46 104158\n",
      "47 104196\n",
      "48 104186\n",
      "49 104193\n",
      "50 104196\n",
      "51 104195\n",
      "52 104220\n",
      "53 104221\n",
      "54 104240\n",
      "55 104276\n",
      "56 104294\n",
      "57 104299\n",
      "58 104319\n",
      "59 104329\n",
      "60 104330\n",
      "61 104327\n",
      "62 104336\n",
      "63 104335\n",
      "64 104328\n",
      "65 104329\n",
      "66 104328\n",
      "67 104332\n",
      "68 104330\n",
      "69 104342\n",
      "70 104353\n",
      "71 104361\n",
      "72 104344\n",
      "73 104343\n",
      "74 104341\n",
      "75 104338\n",
      "76 104330\n",
      "77 104319\n",
      "78 104300\n",
      "79 104298\n",
      "80 104286\n",
      "81 104280\n",
      "82 104276\n",
      "83 104270\n",
      "84 104252\n",
      "85 104250\n",
      "86 104267\n",
      "87 104306\n",
      "88 104315\n",
      "89 104350\n",
      "90 104373\n",
      "91 104390\n",
      "92 104393\n",
      "93 104409\n",
      "94 104409\n",
      "95 104405\n",
      "96 104371\n",
      "97 104353\n",
      "98 104325\n",
      "99 104300\n",
      "100 104278\n",
      "101 104278\n",
      "102 104268\n",
      "103 104254\n",
      "104 104248\n",
      "105 104269\n",
      "106 104304\n",
      "107 104317\n",
      "108 104348\n",
      "109 104375\n",
      "110 104388\n",
      "111 104395\n",
      "112 104407\n",
      "113 104411\n",
      "114 104403\n",
      "115 104373\n",
      "116 104351\n",
      "117 104327\n",
      "118 104298\n",
      "119 104280\n",
      "120 104276\n",
      "121 104270\n",
      "122 104252\n",
      "123 104250\n",
      "124 104267\n",
      "125 104306\n",
      "126 104315\n",
      "127 104350\n",
      "128 104373\n",
      "129 104390\n",
      "130 104393\n",
      "131 104409\n",
      "132 104409\n",
      "133 104405\n",
      "134 104371\n",
      "135 104353\n",
      "136 104325\n",
      "137 104300\n",
      "138 104278\n",
      "139 104278\n",
      "140 104268\n",
      "141 104254\n",
      "142 104248\n",
      "143 104269\n",
      "144 104304\n",
      "145 104317\n",
      "146 104348\n",
      "147 104375\n",
      "148 104388\n",
      "149 104395\n",
      "150 104407\n",
      "151 104411\n",
      "152 104403\n",
      "153 104373\n",
      "154 104351\n",
      "155 104327\n",
      "156 104298\n",
      "157 104280\n",
      "158 104276\n",
      "159 104270\n",
      "160 104252\n",
      "161 104250\n",
      "162 104267\n",
      "163 104306\n",
      "164 104315\n",
      "165 104350\n",
      "166 104373\n",
      "167 104390\n",
      "168 104393\n",
      "169 104409\n",
      "170 104409\n",
      "171 104405\n",
      "172 104371\n",
      "173 104353\n",
      "174 104325\n",
      "175 104300\n",
      "176 104278\n",
      "177 104278\n",
      "178 104268\n",
      "179 104254\n",
      "180 104248\n",
      "181 104269\n",
      "182 104304\n",
      "183 104317\n",
      "184 104348\n",
      "185 104375\n",
      "186 104388\n",
      "187 104395\n",
      "188 104407\n",
      "189 104411\n",
      "190 104403\n",
      "191 104373\n",
      "192 104351\n",
      "193 104327\n",
      "194 104298\n",
      "195 104280\n",
      "196 104276\n",
      "197 104270\n",
      "198 104252\n",
      "199 104250\n"
     ]
    }
   ],
   "source": [
    "for i, l in enumerate(loads[:200]):\n",
    "    print(i,l)"
   ]
  },
  {
   "cell_type": "code",
   "execution_count": 191,
   "id": "6804cedd-4108-42a0-879d-33573e381c51",
   "metadata": {},
   "outputs": [
    {
     "data": {
      "text/plain": [
       "104409"
      ]
     },
     "execution_count": 191,
     "metadata": {},
     "output_type": "execute_result"
    }
   ],
   "source": [
    "rep = [104306,\n",
    " 104315,\n",
    " 104350,\n",
    " 104373,\n",
    " 104390,\n",
    " 104393,\n",
    " 104409,\n",
    " 104409,\n",
    " 104405,\n",
    " 104371,\n",
    " 104353,\n",
    " 104325,\n",
    " 104300,\n",
    " 104278,\n",
    " 104278,\n",
    " 104268,\n",
    " 104254,\n",
    " 104248,\n",
    " 104269,\n",
    " 104304,\n",
    " 104317,\n",
    " 104348,\n",
    " 104375,\n",
    " 104388,\n",
    " 104395,\n",
    " 104407,\n",
    " 104411,\n",
    " 104403,\n",
    " 104373,\n",
    " 104351,\n",
    " 104327,\n",
    " 104298,\n",
    " 104280,\n",
    " 104276,\n",
    " 104270,\n",
    " 104252,\n",
    " 104250,\n",
    " 104267,]\n",
    "start = 87\n",
    "target = 1000000000\n",
    "total = rep[(target - start) % len(rep)]\n",
    "total"
   ]
  },
  {
   "cell_type": "code",
   "execution_count": 192,
   "id": "41e9575d-c42d-4f85-8bf5-1693eb554028",
   "metadata": {},
   "outputs": [
    {
     "name": "stderr",
     "output_type": "stream",
     "text": [
      "answer a: 113486\n",
      "submitting for part b (part a is already completed)\n"
     ]
    },
    {
     "name": "stdout",
     "output_type": "stream",
     "text": [
      "aocd will not submit that answer again. At 2023-12-14 01:07:11.997157-05:00 you've previously submitted 104409 and the server responded with:\n",
      "\u001b[32mThat's the right answer!  You are one gold star closer to restoring snow operations.You have completed Day 14! You can [Shareon\n",
      "  Twitter\n",
      "Mastodon] this victory or [Return to Your Advent Calendar].\u001b[0m\n"
     ]
    }
   ],
   "source": [
    "submit(total, year=YEAR, day=DAY)"
   ]
  }
 ],
 "metadata": {
  "kernelspec": {
   "display_name": "Python 3 (ipykernel)",
   "language": "python",
   "name": "python3"
  },
  "language_info": {
   "codemirror_mode": {
    "name": "ipython",
    "version": 3
   },
   "file_extension": ".py",
   "mimetype": "text/x-python",
   "name": "python",
   "nbconvert_exporter": "python",
   "pygments_lexer": "ipython3",
   "version": "3.12.0"
  }
 },
 "nbformat": 4,
 "nbformat_minor": 5
}
