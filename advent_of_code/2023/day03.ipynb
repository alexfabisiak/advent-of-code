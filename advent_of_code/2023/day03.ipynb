{
 "cells": [
  {
   "cell_type": "code",
   "execution_count": 1,
   "id": "cca57e6d-5224-493a-a2a9-5e23bb5546c2",
   "metadata": {},
   "outputs": [],
   "source": [
    "from aocd import get_data, submit\n",
    "# from aocd.get import current_day\n",
    "\n",
    "from IPython.display import display\n",
    "from IPython.core.display import Markdown"
   ]
  },
  {
   "cell_type": "code",
   "execution_count": 2,
   "id": "e4d6b8a4-25ef-4630-8aa6-6c95c7a8be09",
   "metadata": {},
   "outputs": [],
   "source": [
    "DAY = 3\n",
    "YEAR = 2023"
   ]
  },
  {
   "cell_type": "code",
   "execution_count": 3,
   "id": "388077b9-edd1-4ab9-9a3c-5e24b66346a8",
   "metadata": {},
   "outputs": [
    {
     "data": {
      "text/markdown": [
       "#### See [2023 Day 3](https://adventofcode.com/2023/day/3)."
      ],
      "text/plain": [
       "<IPython.core.display.Markdown object>"
      ]
     },
     "metadata": {},
     "output_type": "display_data"
    }
   ],
   "source": [
    "url = f\"https://adventofcode.com/{YEAR}/day/{DAY}\"\n",
    "display(Markdown(f\"#### See [{YEAR} Day {DAY}]({url}).\"))"
   ]
  },
  {
   "cell_type": "code",
   "execution_count": 41,
   "id": "ced1e284-733b-49e7-9154-18d54af53bdb",
   "metadata": {},
   "outputs": [],
   "source": [
    "data = get_data(year=YEAR, day=DAY)"
   ]
  },
  {
   "cell_type": "code",
   "execution_count": 42,
   "id": "97d3a4d3-b08a-4bff-bfb8-d37cc82a395d",
   "metadata": {},
   "outputs": [
    {
     "data": {
      "text/plain": [
       "['...733.......289..262.....520..................161.462..........450.........................183.............................................',\n",
       " '....*....................*.............707.352....*............/.....................801...@...............333..196........484.635......287.',\n",
       " '....42.........131....913..............*......&..........634..................440..&...............83.....@...........404$..=....*..423.*...',\n",
       " '618.......272....*.........&......547.344...............#............689.589.*....150......382=................................168......433.',\n",
       " '..........=...............253.102*.........#......78.......804..........*........................858.........................-..............']"
      ]
     },
     "execution_count": 42,
     "metadata": {},
     "output_type": "execute_result"
    }
   ],
   "source": [
    "data.splitlines()[:5]"
   ]
  },
  {
   "cell_type": "markdown",
   "id": "c644d7ff-3812-4bcf-b4a4-6feb40c40374",
   "metadata": {},
   "source": [
    "# Part A"
   ]
  },
  {
   "cell_type": "code",
   "execution_count": 43,
   "id": "b871c35c-b8cf-4b9f-84ce-456f133addd6",
   "metadata": {},
   "outputs": [],
   "source": [
    "# data = \"\"\"467..114..\n",
    "# ...*......\n",
    "# ..35..633.\n",
    "# ......#...\n",
    "# 617*......\n",
    "# .....+.58.\n",
    "# ..592.....\n",
    "# ......755.\n",
    "# ...$.*....\n",
    "# .664.598..\n",
    "# \"\"\""
   ]
  },
  {
   "cell_type": "code",
   "execution_count": 44,
   "id": "1f2be44a-13c7-46eb-bcad-691e76fba45d",
   "metadata": {},
   "outputs": [],
   "source": [
    "def touch_symbol(i,j):\n",
    "    for x in [-1,0,1]:\n",
    "        for y in [-1,0,1]:\n",
    "            if (i+x < 0) or (j+y < 0) or (i+x >= len(m)) or (j+y >= len(m[0])):\n",
    "                continue\n",
    "            if (m[i+x][j+y] != '.') and (not m[i+x][j+y].isdigit()):\n",
    "                return True\n",
    "    return False\n",
    "\n",
    "def touching_gears(i,j):\n",
    "    gears = []\n",
    "    for x in [-1,0,1]:\n",
    "        for y in [-1,0,1]:\n",
    "            if (i+x < 0) or (j+y < 0) or (i+x >= len(m)) or (j+y >= len(m[0])):\n",
    "                continue\n",
    "            if m[i+x][j+y] == '*':\n",
    "                gears.append((i+x,j+y))\n",
    "    return gears\n",
    "\n",
    "m = data.splitlines()\n",
    "parts = []\n",
    "valid_nos = []\n",
    "\n",
    "for i in range(len(m)):\n",
    "    n = ''\n",
    "    valid = False\n",
    "    gears = []\n",
    "    for j in range(len(m[0])):\n",
    "        if m[i][j].isdigit():\n",
    "            n += m[i][j]\n",
    "            valid |= touch_symbol(i,j)\n",
    "            gears += touching_gears(i,j)\n",
    "        if n != '':\n",
    "            if (j == (len(m[0]) - 1)) or (not m[i][j+1].isdigit()):\n",
    "                if valid:\n",
    "                    parts.append({'partno': int(n), 'gears': set(gears)})\n",
    "                n = ''\n",
    "                valid = False\n",
    "                gears = []"
   ]
  },
  {
   "cell_type": "code",
   "execution_count": 45,
   "id": "d23b5ced-cd91-4df4-a03c-9b501f036b7c",
   "metadata": {},
   "outputs": [
    {
     "data": {
      "text/plain": [
       "525181"
      ]
     },
     "execution_count": 45,
     "metadata": {},
     "output_type": "execute_result"
    }
   ],
   "source": [
    "sum([p['partno'] for p in parts])"
   ]
  },
  {
   "cell_type": "code",
   "execution_count": 94,
   "id": "50e12a9e-ffbc-485e-9724-79f97cd341f9",
   "metadata": {},
   "outputs": [
    {
     "name": "stderr",
     "output_type": "stream",
     "text": [
      "answer a: 525181\n",
      "submitting for part b (part a is already completed)\n"
     ]
    },
    {
     "ename": "AocdError",
     "evalue": "cowardly refusing to submit 525181 for part b, because that was the answer for part a",
     "output_type": "error",
     "traceback": [
      "\u001b[0;31m---------------------------------------------------------------------------\u001b[0m",
      "\u001b[0;31mAocdError\u001b[0m                                 Traceback (most recent call last)",
      "Cell \u001b[0;32mIn[94], line 1\u001b[0m\n\u001b[0;32m----> 1\u001b[0m \u001b[43msubmit\u001b[49m\u001b[43m(\u001b[49m\u001b[43mtotal\u001b[49m\u001b[43m,\u001b[49m\u001b[43m \u001b[49m\u001b[43myear\u001b[49m\u001b[38;5;241;43m=\u001b[39;49m\u001b[43mYEAR\u001b[49m\u001b[43m,\u001b[49m\u001b[43m \u001b[49m\u001b[43mday\u001b[49m\u001b[38;5;241;43m=\u001b[39;49m\u001b[43mDAY\u001b[49m\u001b[43m)\u001b[49m\n",
      "File \u001b[0;32m~/Library/Caches/pypoetry/virtualenvs/advent-of-code-DXdkk4dA-py3.12/lib/python3.12/site-packages/aocd/post.py:57\u001b[0m, in \u001b[0;36msubmit\u001b[0;34m(answer, part, day, year, session, reopen, quiet)\u001b[0m\n\u001b[1;32m     55\u001b[0m         log\u001b[38;5;241m.\u001b[39mwarning(\u001b[38;5;124m\"\u001b[39m\u001b[38;5;124msubmitting for part b (part a is already completed)\u001b[39m\u001b[38;5;124m\"\u001b[39m)\n\u001b[1;32m     56\u001b[0m         part \u001b[38;5;241m=\u001b[39m \u001b[38;5;124m\"\u001b[39m\u001b[38;5;124mb\u001b[39m\u001b[38;5;124m\"\u001b[39m\n\u001b[0;32m---> 57\u001b[0m response \u001b[38;5;241m=\u001b[39m \u001b[43mpuzzle\u001b[49m\u001b[38;5;241;43m.\u001b[39;49m\u001b[43m_submit\u001b[49m\u001b[43m(\u001b[49m\u001b[43mvalue\u001b[49m\u001b[38;5;241;43m=\u001b[39;49m\u001b[43manswer\u001b[49m\u001b[43m,\u001b[49m\u001b[43m \u001b[49m\u001b[43mpart\u001b[49m\u001b[38;5;241;43m=\u001b[39;49m\u001b[43mpart\u001b[49m\u001b[43m,\u001b[49m\u001b[43m \u001b[49m\u001b[43mreopen\u001b[49m\u001b[38;5;241;43m=\u001b[39;49m\u001b[43mreopen\u001b[49m\u001b[43m,\u001b[49m\u001b[43m \u001b[49m\u001b[43mquiet\u001b[49m\u001b[38;5;241;43m=\u001b[39;49m\u001b[43mquiet\u001b[49m\u001b[43m)\u001b[49m\n\u001b[1;32m     58\u001b[0m \u001b[38;5;28;01mreturn\u001b[39;00m response\n",
      "File \u001b[0;32m~/Library/Caches/pypoetry/virtualenvs/advent-of-code-DXdkk4dA-py3.12/lib/python3.12/site-packages/aocd/models.py:508\u001b[0m, in \u001b[0;36mPuzzle._submit\u001b[0;34m(self, value, part, reopen, quiet)\u001b[0m\n\u001b[1;32m    506\u001b[0m     \u001b[38;5;28;01mreturn\u001b[39;00m\n\u001b[1;32m    507\u001b[0m \u001b[38;5;28;01mif\u001b[39;00m part \u001b[38;5;241m==\u001b[39m \u001b[38;5;124m\"\u001b[39m\u001b[38;5;124mb\u001b[39m\u001b[38;5;124m\"\u001b[39m \u001b[38;5;129;01mand\u001b[39;00m value \u001b[38;5;241m==\u001b[39m \u001b[38;5;28mgetattr\u001b[39m(\u001b[38;5;28mself\u001b[39m, \u001b[38;5;124m\"\u001b[39m\u001b[38;5;124manswer_a\u001b[39m\u001b[38;5;124m\"\u001b[39m, \u001b[38;5;28;01mNone\u001b[39;00m):\n\u001b[0;32m--> 508\u001b[0m     \u001b[38;5;28;01mraise\u001b[39;00m AocdError(\n\u001b[1;32m    509\u001b[0m         \u001b[38;5;124mf\u001b[39m\u001b[38;5;124m\"\u001b[39m\u001b[38;5;124mcowardly refusing to submit \u001b[39m\u001b[38;5;132;01m{\u001b[39;00mvalue\u001b[38;5;132;01m}\u001b[39;00m\u001b[38;5;124m for part b, \u001b[39m\u001b[38;5;124m\"\u001b[39m\n\u001b[1;32m    510\u001b[0m         \u001b[38;5;124m\"\u001b[39m\u001b[38;5;124mbecause that was the answer for part a\u001b[39m\u001b[38;5;124m\"\u001b[39m\n\u001b[1;32m    511\u001b[0m     )\n\u001b[1;32m    512\u001b[0m url \u001b[38;5;241m=\u001b[39m \u001b[38;5;28mself\u001b[39m\u001b[38;5;241m.\u001b[39msubmit_url\n\u001b[1;32m    513\u001b[0m check_guess \u001b[38;5;241m=\u001b[39m \u001b[38;5;28mself\u001b[39m\u001b[38;5;241m.\u001b[39m_check_already_solved(value, part)\n",
      "\u001b[0;31mAocdError\u001b[0m: cowardly refusing to submit 525181 for part b, because that was the answer for part a"
     ]
    }
   ],
   "source": [
    "submit(total, year=YEAR, day=DAY)"
   ]
  },
  {
   "cell_type": "markdown",
   "id": "ba3abf71-91fd-4fa4-94d3-4cf7b59d923f",
   "metadata": {},
   "source": [
    "# Part B"
   ]
  },
  {
   "cell_type": "code",
   "execution_count": 46,
   "id": "97c2b46c-a2af-4e58-8981-5355da7fbaa4",
   "metadata": {},
   "outputs": [
    {
     "data": {
      "text/plain": [
       "84289137"
      ]
     },
     "execution_count": 46,
     "metadata": {},
     "output_type": "execute_result"
    }
   ],
   "source": [
    "gearmap = {}\n",
    "for p in parts:\n",
    "    for gear in p['gears']:\n",
    "        gearmap[gear] = []\n",
    "for p in parts:\n",
    "    for gear in p['gears']:\n",
    "        gearmap[gear].append(p['partno'])\n",
    "total = 0\n",
    "for g, nos in gearmap.items():\n",
    "    if len(nos) == 2:\n",
    "        total += nos[0] * nos[1]\n",
    "total"
   ]
  },
  {
   "cell_type": "code",
   "execution_count": 183,
   "id": "41e9575d-c42d-4f85-8bf5-1693eb554028",
   "metadata": {},
   "outputs": [
    {
     "name": "stderr",
     "output_type": "stream",
     "text": [
      "answer a: 525181\n",
      "submitting for part b (part a is already completed)\n"
     ]
    },
    {
     "name": "stdout",
     "output_type": "stream",
     "text": [
      "\u001b[32mThat's the right answer!  You are one gold star closer to restoring snow operations.You have completed Day 3! You can [Shareon\n",
      "  Twitter\n",
      "Mastodon] this victory or [Return to Your Advent Calendar].\u001b[0m\n"
     ]
    },
    {
     "data": {
      "text/plain": [
       "<urllib3.response.HTTPResponse at 0x124746230>"
      ]
     },
     "execution_count": 183,
     "metadata": {},
     "output_type": "execute_result"
    }
   ],
   "source": [
    "submit(sum, year=YEAR, day=DAY)"
   ]
  },
  {
   "cell_type": "code",
   "execution_count": null,
   "id": "bc341816-1163-4c5d-a585-04ab81b4d2d7",
   "metadata": {},
   "outputs": [],
   "source": []
  }
 ],
 "metadata": {
  "kernelspec": {
   "display_name": "Python 3 (ipykernel)",
   "language": "python",
   "name": "python3"
  },
  "language_info": {
   "codemirror_mode": {
    "name": "ipython",
    "version": 3
   },
   "file_extension": ".py",
   "mimetype": "text/x-python",
   "name": "python",
   "nbconvert_exporter": "python",
   "pygments_lexer": "ipython3",
   "version": "3.12.0"
  }
 },
 "nbformat": 4,
 "nbformat_minor": 5
}
