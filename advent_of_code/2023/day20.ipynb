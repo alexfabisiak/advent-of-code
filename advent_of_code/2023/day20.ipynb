{
 "cells": [
  {
   "cell_type": "code",
   "execution_count": 1,
   "id": "cca57e6d-5224-493a-a2a9-5e23bb5546c2",
   "metadata": {},
   "outputs": [],
   "source": [
    "from aocd import get_data, submit\n",
    "# from aocd.get import current_day\n",
    "\n",
    "from IPython.display import display\n",
    "from IPython.core.display import Markdown\n",
    "\n",
    "import math\n",
    "import numpy as np\n",
    "import re\n",
    "import sys"
   ]
  },
  {
   "cell_type": "code",
   "execution_count": 2,
   "id": "e4d6b8a4-25ef-4630-8aa6-6c95c7a8be09",
   "metadata": {},
   "outputs": [],
   "source": [
    "DAY = 20\n",
    "YEAR = 2023"
   ]
  },
  {
   "cell_type": "code",
   "execution_count": 3,
   "id": "388077b9-edd1-4ab9-9a3c-5e24b66346a8",
   "metadata": {},
   "outputs": [
    {
     "data": {
      "text/markdown": [
       "#### See [2023 Day 20](https://adventofcode.com/2023/day/20)."
      ],
      "text/plain": [
       "<IPython.core.display.Markdown object>"
      ]
     },
     "metadata": {},
     "output_type": "display_data"
    }
   ],
   "source": [
    "url = f\"https://adventofcode.com/{YEAR}/day/{DAY}\"\n",
    "display(Markdown(f\"#### See [{YEAR} Day {DAY}]({url}).\"))"
   ]
  },
  {
   "cell_type": "code",
   "execution_count": 4,
   "id": "ced1e284-733b-49e7-9154-18d54af53bdb",
   "metadata": {},
   "outputs": [],
   "source": [
    "data = get_data(year=YEAR, day=DAY)"
   ]
  },
  {
   "cell_type": "code",
   "execution_count": 5,
   "id": "97d3a4d3-b08a-4bff-bfb8-d37cc82a395d",
   "metadata": {},
   "outputs": [
    {
     "data": {
      "text/plain": [
       "['%lh -> mj',\n",
       " '%nd -> qf',\n",
       " '&pn -> dh, dk, bg, qs, rp, bk, gs',\n",
       " '%bk -> rs',\n",
       " '%nh -> lh']"
      ]
     },
     "execution_count": 5,
     "metadata": {},
     "output_type": "execute_result"
    }
   ],
   "source": [
    "data.splitlines()[:5]"
   ]
  },
  {
   "cell_type": "markdown",
   "id": "c644d7ff-3812-4bcf-b4a4-6feb40c40374",
   "metadata": {},
   "source": [
    "# Part A"
   ]
  },
  {
   "cell_type": "code",
   "execution_count": 111,
   "id": "b871c35c-b8cf-4b9f-84ce-456f133addd6",
   "metadata": {},
   "outputs": [],
   "source": [
    "# data = \"\"\"broadcaster -> a\n",
    "# %a -> inv, con\n",
    "# &inv -> b\n",
    "# %b -> con\n",
    "# &con -> output\n",
    "# \"\"\""
   ]
  },
  {
   "cell_type": "code",
   "execution_count": 112,
   "id": "9e661c14-3d2f-415d-8f31-d7e30c5fb09d",
   "metadata": {},
   "outputs": [],
   "source": [
    "# signal = (from, to, value)"
   ]
  },
  {
   "cell_type": "code",
   "execution_count": 6,
   "id": "0561f196-0bf3-473d-adcf-8dbd34ee7747",
   "metadata": {},
   "outputs": [],
   "source": [
    "high = 'H'\n",
    "low = 'L'\n",
    "\n",
    "class Broadcaster:\n",
    "    def __init__(self, name, dest):\n",
    "        self.name = name\n",
    "        self.dest = dest\n",
    "\n",
    "    def act(self, signal):\n",
    "        return list((self.name, d, signal[2]) for d in self.dest)\n",
    "\n",
    "class FlipFlop:\n",
    "    def __init__(self, name, dest):\n",
    "        self.name = name\n",
    "        self.dest = dest\n",
    "        self.on = False\n",
    "\n",
    "    def act(self, signal):\n",
    "        if signal[2] == low:\n",
    "            if self.on:\n",
    "                r = list((self.name, d, low) for d in self.dest)\n",
    "            else:\n",
    "                r = list((self.name, d, high) for d in self.dest)\n",
    "            self.on = not self.on\n",
    "            return r\n",
    "        else:\n",
    "            return []\n",
    "            \n",
    "class Conjunction:\n",
    "    def __init__(self, name, inputs, dest):\n",
    "        self.name = name\n",
    "        self.dest = dest\n",
    "        self.mem = {i: low for i in inputs}\n",
    "\n",
    "    def act(self, signal):\n",
    "        self.mem[signal[0]] = signal[2]\n",
    "        if all(x == high for x in self.mem.values()):\n",
    "            return [(self.name, d, low) for d in self.dest]\n",
    "        else:\n",
    "            return [(self.name, d, high) for d in self.dest]"
   ]
  },
  {
   "cell_type": "code",
   "execution_count": 7,
   "id": "c88871b0-ec79-4179-a76f-5595515f49ab",
   "metadata": {},
   "outputs": [],
   "source": [
    "modules = {}\n",
    "\n",
    "for i, l in enumerate(data.splitlines()):\n",
    "    module, dest = l.split(' -> ')\n",
    "    dest = dest.split(', ')\n",
    "    name = module[1:]\n",
    "    match module[0]:\n",
    "        case 'b':\n",
    "            modules[name] = Broadcaster(name, dest)\n",
    "        case '%':\n",
    "            modules[name] = FlipFlop(name, dest)\n",
    "        case '&':\n",
    "            inputs = []\n",
    "            for ll in data.splitlines():\n",
    "                m,d = ll.split(' -> ')\n",
    "                d = d.split(', ')\n",
    "                if name in d:\n",
    "                    inputs.append(m[1:])\n",
    "            modules[name] = Conjunction(name, inputs, dest)\n",
    "\n",
    "\n",
    "\n",
    "lows = 0\n",
    "highs = 0\n",
    "\n",
    "for _ in range(1000):\n",
    "    \n",
    "    start = ('button','roadcaster',low)\n",
    "    \n",
    "    Q = [start]\n",
    "    \n",
    "    while Q:\n",
    "        s = Q.pop(0)\n",
    "        if s[2] == high: highs += 1\n",
    "        elif s[2] == low: lows += 1\n",
    "        if s[1] in modules.keys():\n",
    "            Q += modules[s[1]].act(s)"
   ]
  },
  {
   "cell_type": "code",
   "execution_count": 8,
   "id": "c892e689-8da3-438e-8b8f-779d8544a417",
   "metadata": {},
   "outputs": [
    {
     "data": {
      "text/plain": [
       "861743850"
      ]
     },
     "execution_count": 8,
     "metadata": {},
     "output_type": "execute_result"
    }
   ],
   "source": [
    "total = lows * highs\n",
    "total"
   ]
  },
  {
   "cell_type": "code",
   "execution_count": 145,
   "id": "50e12a9e-ffbc-485e-9724-79f97cd341f9",
   "metadata": {},
   "outputs": [
    {
     "name": "stderr",
     "output_type": "stream",
     "text": [
      "answer a: None\n",
      "submitting for part a\n"
     ]
    },
    {
     "name": "stdout",
     "output_type": "stream",
     "text": [
      "\u001b[32mThat's the right answer!  You are one gold star closer to restoring snow operations. You got rank 624 on this star's leaderboard. [Continue to Part Two]\u001b[0m\n"
     ]
    },
    {
     "data": {
      "text/plain": [
       "<urllib3.response.HTTPResponse at 0x11542dd20>"
      ]
     },
     "execution_count": 145,
     "metadata": {},
     "output_type": "execute_result"
    }
   ],
   "source": [
    "submit(total, year=YEAR, day=DAY)"
   ]
  },
  {
   "cell_type": "markdown",
   "id": "ba3abf71-91fd-4fa4-94d3-4cf7b59d923f",
   "metadata": {},
   "source": [
    "# Part B"
   ]
  },
  {
   "cell_type": "code",
   "execution_count": 9,
   "id": "d71e149a-7883-4e91-8404-8b35bda68de6",
   "metadata": {
    "scrolled": true
   },
   "outputs": [],
   "source": [
    "modules = {}\n",
    "\n",
    "for i, l in enumerate(data.splitlines()):\n",
    "    module, dest = l.split(' -> ')\n",
    "    dest = dest.split(', ')\n",
    "    name = module[1:]\n",
    "    match module[0]:\n",
    "        case 'b':\n",
    "            modules[name] = Broadcaster(name, dest)\n",
    "        case '%':\n",
    "            modules[name] = FlipFlop(name, dest)\n",
    "        case '&':\n",
    "            inputs = []\n",
    "            for ll in data.splitlines():\n",
    "                m,d = ll.split(' -> ')\n",
    "                d = d.split(', ')\n",
    "                if name in d:\n",
    "                    inputs.append(m[1:])\n",
    "            modules[name] = Conjunction(name, inputs, dest)\n",
    "\n",
    "interesting_nodes = {k:[] for k in set(modules['jz'].mem.keys())}\n",
    "\n",
    "presses = 0\n",
    "while True:\n",
    "    \n",
    "    start = ('button','roadcaster',low)\n",
    "    \n",
    "    Q = [start]\n",
    "    presses += 1\n",
    "    if presses % 100000 == 0:\n",
    "        print(presses)\n",
    "    \n",
    "    while Q:\n",
    "        s = Q.pop(0)\n",
    "        if s[0] in interesting_nodes.keys() and s[2] == high:\n",
    "            interesting_nodes[s[0]].append(presses)\n",
    "        if s[1] in modules.keys():\n",
    "            Q += modules[s[1]].act(s)\n",
    "    if all([len(x) >= 3 for x in interesting_nodes.values()]):\n",
    "            break"
   ]
  },
  {
   "cell_type": "code",
   "execution_count": 10,
   "id": "a39ffd34-451f-4f2b-a104-302cd559aeac",
   "metadata": {},
   "outputs": [
    {
     "data": {
      "text/plain": [
       "{'mk': [4091, 8182, 12273],\n",
       " 'vf': [3847, 7694, 11541],\n",
       " 'rn': [3923, 7846, 11769],\n",
       " 'dh': [4001, 8002, 12003]}"
      ]
     },
     "execution_count": 10,
     "metadata": {},
     "output_type": "execute_result"
    }
   ],
   "source": [
    "interesting_nodes"
   ]
  },
  {
   "cell_type": "code",
   "execution_count": 11,
   "id": "d27e5df6-1fdb-48fe-9ede-3b775c2b21dc",
   "metadata": {},
   "outputs": [],
   "source": [
    "from math import lcm"
   ]
  },
  {
   "cell_type": "code",
   "execution_count": 12,
   "id": "8c3cb7d8-da68-4534-9b6a-37317f4f5e53",
   "metadata": {
    "scrolled": true
   },
   "outputs": [],
   "source": [
    "total = lcm(*[l[2] - l[1] for l in interesting_nodes.values()])"
   ]
  },
  {
   "cell_type": "code",
   "execution_count": 202,
   "id": "41e9575d-c42d-4f85-8bf5-1693eb554028",
   "metadata": {},
   "outputs": [
    {
     "name": "stderr",
     "output_type": "stream",
     "text": [
      "answer a: 861743850\n",
      "submitting for part b (part a is already completed)\n"
     ]
    },
    {
     "name": "stdout",
     "output_type": "stream",
     "text": [
      "\u001b[32mThat's the right answer!  You are one gold star closer to restoring snow operations.You have completed Day 20! You can [Shareon\n",
      "  Twitter\n",
      "Mastodon] this victory or [Return to Your Advent Calendar].\u001b[0m\n"
     ]
    },
    {
     "data": {
      "text/plain": [
       "<urllib3.response.HTTPResponse at 0x1254e7c10>"
      ]
     },
     "execution_count": 202,
     "metadata": {},
     "output_type": "execute_result"
    }
   ],
   "source": [
    "submit(total, year=YEAR, day=DAY)"
   ]
  },
  {
   "cell_type": "code",
   "execution_count": null,
   "id": "bc341816-1163-4c5d-a585-04ab81b4d2d7",
   "metadata": {},
   "outputs": [],
   "source": []
  }
 ],
 "metadata": {
  "kernelspec": {
   "display_name": "Python 3 (ipykernel)",
   "language": "python",
   "name": "python3"
  },
  "language_info": {
   "codemirror_mode": {
    "name": "ipython",
    "version": 3
   },
   "file_extension": ".py",
   "mimetype": "text/x-python",
   "name": "python",
   "nbconvert_exporter": "python",
   "pygments_lexer": "ipython3",
   "version": "3.12.0"
  }
 },
 "nbformat": 4,
 "nbformat_minor": 5
}
