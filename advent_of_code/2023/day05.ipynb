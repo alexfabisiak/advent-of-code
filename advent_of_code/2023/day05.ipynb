{
 "cells": [
  {
   "cell_type": "code",
   "execution_count": 58,
   "id": "cca57e6d-5224-493a-a2a9-5e23bb5546c2",
   "metadata": {},
   "outputs": [],
   "source": [
    "from aocd import get_data, submit\n",
    "# from aocd.get import current_day\n",
    "\n",
    "from IPython.display import display\n",
    "from IPython.core.display import Markdown"
   ]
  },
  {
   "cell_type": "code",
   "execution_count": 59,
   "id": "e4d6b8a4-25ef-4630-8aa6-6c95c7a8be09",
   "metadata": {},
   "outputs": [],
   "source": [
    "DAY = 5\n",
    "YEAR = 2023"
   ]
  },
  {
   "cell_type": "code",
   "execution_count": 60,
   "id": "388077b9-edd1-4ab9-9a3c-5e24b66346a8",
   "metadata": {},
   "outputs": [
    {
     "data": {
      "text/markdown": [
       "#### See [2023 Day 5](https://adventofcode.com/2023/day/5)."
      ],
      "text/plain": [
       "<IPython.core.display.Markdown object>"
      ]
     },
     "metadata": {},
     "output_type": "display_data"
    }
   ],
   "source": [
    "url = f\"https://adventofcode.com/{YEAR}/day/{DAY}\"\n",
    "display(Markdown(f\"#### See [{YEAR} Day {DAY}]({url}).\"))"
   ]
  },
  {
   "cell_type": "code",
   "execution_count": 61,
   "id": "ced1e284-733b-49e7-9154-18d54af53bdb",
   "metadata": {},
   "outputs": [],
   "source": [
    "data = get_data(year=YEAR, day=DAY)"
   ]
  },
  {
   "cell_type": "code",
   "execution_count": 62,
   "id": "97d3a4d3-b08a-4bff-bfb8-d37cc82a395d",
   "metadata": {},
   "outputs": [
    {
     "data": {
      "text/plain": [
       "['seeds: 3169137700 271717609 3522125441 23376095 1233948799 811833837 280549587 703867355 166086528 44766996 2326968141 69162222 2698492851 14603069 2755327667 348999531 2600461189 92332846 1054656969 169099767',\n",
       " '',\n",
       " 'seed-to-soil map:',\n",
       " '404519244 291909660 232498813',\n",
       " '1320269465 1130502191 53088254']"
      ]
     },
     "execution_count": 62,
     "metadata": {},
     "output_type": "execute_result"
    }
   ],
   "source": [
    "data.splitlines()[:5]"
   ]
  },
  {
   "cell_type": "markdown",
   "id": "c644d7ff-3812-4bcf-b4a4-6feb40c40374",
   "metadata": {},
   "source": [
    "# Part A"
   ]
  },
  {
   "cell_type": "code",
   "execution_count": 63,
   "id": "b871c35c-b8cf-4b9f-84ce-456f133addd6",
   "metadata": {},
   "outputs": [],
   "source": [
    "# data = \"\"\"seeds: 79 14 55 13\n",
    "\n",
    "# seed-to-soil map:\n",
    "# 50 98 2\n",
    "# 52 50 48\n",
    "\n",
    "# soil-to-fertilizer map:\n",
    "# 0 15 37\n",
    "# 37 52 2\n",
    "# 39 0 15\n",
    "\n",
    "# fertilizer-to-water map:\n",
    "# 49 53 8\n",
    "# 0 11 42\n",
    "# 42 0 7\n",
    "# 57 7 4\n",
    "\n",
    "# water-to-light map:\n",
    "# 88 18 7\n",
    "# 18 25 70\n",
    "\n",
    "# light-to-temperature map:\n",
    "# 45 77 23\n",
    "# 81 45 19\n",
    "# 68 64 13\n",
    "\n",
    "# temperature-to-humidity map:\n",
    "# 0 69 1\n",
    "# 1 0 69\n",
    "\n",
    "# humidity-to-location map:\n",
    "# 60 56 37\n",
    "# 56 93 4\n",
    "# \"\"\""
   ]
  },
  {
   "cell_type": "code",
   "execution_count": 64,
   "id": "7e89d5e4-a91b-4e47-89a2-28d90bdc8166",
   "metadata": {},
   "outputs": [],
   "source": [
    "import re"
   ]
  },
  {
   "cell_type": "code",
   "execution_count": 65,
   "id": "42c42793-4479-431c-9224-15aa3fb6dae4",
   "metadata": {},
   "outputs": [],
   "source": [
    "def buildmap(start_row, stop_row):\n",
    "    output = []\n",
    "    for i in range(start_row+1, stop_row-1):\n",
    "        l = data.splitlines()[i]\n",
    "        to_start, from_start, length = map(int, l.split())\n",
    "        output.append({\n",
    "            'from_start': from_start,\n",
    "            'from_end': from_start + length,\n",
    "            'delta': to_start - from_start,\n",
    "        })\n",
    "    return output\n",
    "\n",
    "def domap(n, input_map):\n",
    "    for m in input_map:\n",
    "        # print(m['from_start'])\n",
    "        if (m['from_start'] <= n) and (n < m['from_end']):\n",
    "            return n + m['delta']\n",
    "    return n\n",
    "\n",
    "sections = []\n",
    "for i, l in enumerate(data.splitlines()):\n",
    "    if 'map' in l:\n",
    "        sections.append(i)\n",
    "sections.append(len(data.splitlines())+1)\n",
    "\n",
    "maps = []\n",
    "\n",
    "for i in range(7):\n",
    "    maps.append(buildmap(sections[i], sections[i+1]))"
   ]
  },
  {
   "cell_type": "code",
   "execution_count": 66,
   "id": "53db3270-d163-47cc-8a39-f1994bbb049d",
   "metadata": {},
   "outputs": [],
   "source": [
    "init_seeds = re.findall(r\"(\\d+)\", data.splitlines()[0])\n",
    "locations = []\n",
    "for s in init_seeds:\n",
    "    for m in maps:\n",
    "        s = domap(int(s), m)\n",
    "    locations.append(s)"
   ]
  },
  {
   "cell_type": "code",
   "execution_count": 67,
   "id": "b4e4a928-8a3a-47ec-9bd1-f6aeaef091a3",
   "metadata": {},
   "outputs": [
    {
     "data": {
      "text/plain": [
       "388071289"
      ]
     },
     "execution_count": 67,
     "metadata": {},
     "output_type": "execute_result"
    }
   ],
   "source": [
    "ans = min(locations)\n",
    "ans"
   ]
  },
  {
   "cell_type": "code",
   "execution_count": 11,
   "id": "b6aab163-f0e4-4d58-910b-f14ec2ddedd1",
   "metadata": {},
   "outputs": [
    {
     "name": "stderr",
     "output_type": "stream",
     "text": [
      "answer a: 388071289\n",
      "submitting for part b (part a is already completed)\n"
     ]
    },
    {
     "ename": "AocdError",
     "evalue": "cowardly refusing to submit 388071289 for part b, because that was the answer for part a",
     "output_type": "error",
     "traceback": [
      "\u001b[0;31m---------------------------------------------------------------------------\u001b[0m",
      "\u001b[0;31mAocdError\u001b[0m                                 Traceback (most recent call last)",
      "Cell \u001b[0;32mIn[11], line 1\u001b[0m\n\u001b[0;32m----> 1\u001b[0m \u001b[43msubmit\u001b[49m\u001b[43m(\u001b[49m\u001b[43mans\u001b[49m\u001b[43m,\u001b[49m\u001b[43m \u001b[49m\u001b[43myear\u001b[49m\u001b[38;5;241;43m=\u001b[39;49m\u001b[43mYEAR\u001b[49m\u001b[43m,\u001b[49m\u001b[43m \u001b[49m\u001b[43mday\u001b[49m\u001b[38;5;241;43m=\u001b[39;49m\u001b[43mDAY\u001b[49m\u001b[43m)\u001b[49m\n",
      "File \u001b[0;32m~/Library/Caches/pypoetry/virtualenvs/advent-of-code-DXdkk4dA-py3.12/lib/python3.12/site-packages/aocd/post.py:57\u001b[0m, in \u001b[0;36msubmit\u001b[0;34m(answer, part, day, year, session, reopen, quiet)\u001b[0m\n\u001b[1;32m     55\u001b[0m         log\u001b[38;5;241m.\u001b[39mwarning(\u001b[38;5;124m\"\u001b[39m\u001b[38;5;124msubmitting for part b (part a is already completed)\u001b[39m\u001b[38;5;124m\"\u001b[39m)\n\u001b[1;32m     56\u001b[0m         part \u001b[38;5;241m=\u001b[39m \u001b[38;5;124m\"\u001b[39m\u001b[38;5;124mb\u001b[39m\u001b[38;5;124m\"\u001b[39m\n\u001b[0;32m---> 57\u001b[0m response \u001b[38;5;241m=\u001b[39m \u001b[43mpuzzle\u001b[49m\u001b[38;5;241;43m.\u001b[39;49m\u001b[43m_submit\u001b[49m\u001b[43m(\u001b[49m\u001b[43mvalue\u001b[49m\u001b[38;5;241;43m=\u001b[39;49m\u001b[43manswer\u001b[49m\u001b[43m,\u001b[49m\u001b[43m \u001b[49m\u001b[43mpart\u001b[49m\u001b[38;5;241;43m=\u001b[39;49m\u001b[43mpart\u001b[49m\u001b[43m,\u001b[49m\u001b[43m \u001b[49m\u001b[43mreopen\u001b[49m\u001b[38;5;241;43m=\u001b[39;49m\u001b[43mreopen\u001b[49m\u001b[43m,\u001b[49m\u001b[43m \u001b[49m\u001b[43mquiet\u001b[49m\u001b[38;5;241;43m=\u001b[39;49m\u001b[43mquiet\u001b[49m\u001b[43m)\u001b[49m\n\u001b[1;32m     58\u001b[0m \u001b[38;5;28;01mreturn\u001b[39;00m response\n",
      "File \u001b[0;32m~/Library/Caches/pypoetry/virtualenvs/advent-of-code-DXdkk4dA-py3.12/lib/python3.12/site-packages/aocd/models.py:508\u001b[0m, in \u001b[0;36mPuzzle._submit\u001b[0;34m(self, value, part, reopen, quiet)\u001b[0m\n\u001b[1;32m    506\u001b[0m     \u001b[38;5;28;01mreturn\u001b[39;00m\n\u001b[1;32m    507\u001b[0m \u001b[38;5;28;01mif\u001b[39;00m part \u001b[38;5;241m==\u001b[39m \u001b[38;5;124m\"\u001b[39m\u001b[38;5;124mb\u001b[39m\u001b[38;5;124m\"\u001b[39m \u001b[38;5;129;01mand\u001b[39;00m value \u001b[38;5;241m==\u001b[39m \u001b[38;5;28mgetattr\u001b[39m(\u001b[38;5;28mself\u001b[39m, \u001b[38;5;124m\"\u001b[39m\u001b[38;5;124manswer_a\u001b[39m\u001b[38;5;124m\"\u001b[39m, \u001b[38;5;28;01mNone\u001b[39;00m):\n\u001b[0;32m--> 508\u001b[0m     \u001b[38;5;28;01mraise\u001b[39;00m AocdError(\n\u001b[1;32m    509\u001b[0m         \u001b[38;5;124mf\u001b[39m\u001b[38;5;124m\"\u001b[39m\u001b[38;5;124mcowardly refusing to submit \u001b[39m\u001b[38;5;132;01m{\u001b[39;00mvalue\u001b[38;5;132;01m}\u001b[39;00m\u001b[38;5;124m for part b, \u001b[39m\u001b[38;5;124m\"\u001b[39m\n\u001b[1;32m    510\u001b[0m         \u001b[38;5;124m\"\u001b[39m\u001b[38;5;124mbecause that was the answer for part a\u001b[39m\u001b[38;5;124m\"\u001b[39m\n\u001b[1;32m    511\u001b[0m     )\n\u001b[1;32m    512\u001b[0m url \u001b[38;5;241m=\u001b[39m \u001b[38;5;28mself\u001b[39m\u001b[38;5;241m.\u001b[39msubmit_url\n\u001b[1;32m    513\u001b[0m check_guess \u001b[38;5;241m=\u001b[39m \u001b[38;5;28mself\u001b[39m\u001b[38;5;241m.\u001b[39m_check_already_solved(value, part)\n",
      "\u001b[0;31mAocdError\u001b[0m: cowardly refusing to submit 388071289 for part b, because that was the answer for part a"
     ]
    }
   ],
   "source": [
    "submit(ans, year=YEAR, day=DAY)"
   ]
  },
  {
   "cell_type": "markdown",
   "id": "ba3abf71-91fd-4fa4-94d3-4cf7b59d923f",
   "metadata": {},
   "source": [
    "# Part B"
   ]
  },
  {
   "cell_type": "code",
   "execution_count": 77,
   "id": "6de5c9f4-a660-430c-9bf1-f31098986027",
   "metadata": {},
   "outputs": [
    {
     "data": {
      "text/plain": [
       "84206669"
      ]
     },
     "execution_count": 77,
     "metadata": {},
     "output_type": "execute_result"
    }
   ],
   "source": [
    "import portion as P\n",
    "\n",
    "def buildmap(start_row, stop_row):\n",
    "    output = []\n",
    "    for i in range(start_row+1, stop_row-1):\n",
    "        l = data.splitlines()[i]\n",
    "        to_start, from_start, length = map(int, l.split())\n",
    "        output.append({\n",
    "            'interval': P.closed(from_start, from_start + length),\n",
    "            'delta': to_start - from_start,\n",
    "        })\n",
    "    return output\n",
    "\n",
    "def shift(interval, amount):\n",
    "    result = P.empty()\n",
    "    for i in interval:\n",
    "        result |= P.closed(i.lower + amount, i.upper + amount)\n",
    "    return result\n",
    "\n",
    "sections = [i for i,l in enumerate(data.splitlines()) if 'map' in l]\n",
    "sections.append(len(data.splitlines())+1)\n",
    "\n",
    "steps = [buildmap(sections[i], sections[i+1]) for i in range(len(sections)-1)]\n",
    "\n",
    "init_seeds = re.findall(r\"(\\d+)\", data.splitlines()[0])\n",
    "\n",
    "destination = P.empty()\n",
    "for i in range(0,len(init_seeds),2):\n",
    "    destination |= P.closed(int(init_seeds[i]), int(init_seeds[i]) + int(init_seeds[i+1]))\n",
    "\n",
    "for step in steps:\n",
    "    origin = destination\n",
    "    destination = P.empty()\n",
    "    for m in step:\n",
    "        destination |= shift(m['interval'] & origin, m['delta'])\n",
    "        origin = origin - m['interval']\n",
    "    destination |= origin\n",
    "ans = destination.lower\n",
    "ans"
   ]
  },
  {
   "cell_type": "code",
   "execution_count": null,
   "id": "e0f78897-8a81-48b7-a43e-4dc7c48af556",
   "metadata": {},
   "outputs": [],
   "source": [
    "submit(ans, year=YEAR, day=DAY)"
   ]
  },
  {
   "cell_type": "code",
   "execution_count": null,
   "id": "c8cbf2be-8f1e-4219-98f5-153994424c43",
   "metadata": {},
   "outputs": [],
   "source": []
  }
 ],
 "metadata": {
  "kernelspec": {
   "display_name": "Python 3 (ipykernel)",
   "language": "python",
   "name": "python3"
  },
  "language_info": {
   "codemirror_mode": {
    "name": "ipython",
    "version": 3
   },
   "file_extension": ".py",
   "mimetype": "text/x-python",
   "name": "python",
   "nbconvert_exporter": "python",
   "pygments_lexer": "ipython3",
   "version": "3.12.0"
  }
 },
 "nbformat": 4,
 "nbformat_minor": 5
}
