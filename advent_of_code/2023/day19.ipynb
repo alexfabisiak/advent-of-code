{
 "cells": [
  {
   "cell_type": "code",
   "execution_count": 1,
   "id": "cca57e6d-5224-493a-a2a9-5e23bb5546c2",
   "metadata": {},
   "outputs": [],
   "source": [
    "from aocd import get_data, submit\n",
    "# from aocd.get import current_day\n",
    "\n",
    "from IPython.display import display\n",
    "from IPython.core.display import Markdown\n",
    "\n",
    "import math\n",
    "import numpy as np\n",
    "import re\n",
    "import sys"
   ]
  },
  {
   "cell_type": "code",
   "execution_count": 2,
   "id": "e4d6b8a4-25ef-4630-8aa6-6c95c7a8be09",
   "metadata": {},
   "outputs": [],
   "source": [
    "DAY = 19\n",
    "YEAR = 2023"
   ]
  },
  {
   "cell_type": "code",
   "execution_count": 3,
   "id": "388077b9-edd1-4ab9-9a3c-5e24b66346a8",
   "metadata": {},
   "outputs": [
    {
     "data": {
      "text/markdown": [
       "#### See [2023 Day 19](https://adventofcode.com/2023/day/19)."
      ],
      "text/plain": [
       "<IPython.core.display.Markdown object>"
      ]
     },
     "metadata": {},
     "output_type": "display_data"
    }
   ],
   "source": [
    "url = f\"https://adventofcode.com/{YEAR}/day/{DAY}\"\n",
    "display(Markdown(f\"#### See [{YEAR} Day {DAY}]({url}).\"))"
   ]
  },
  {
   "cell_type": "code",
   "execution_count": 4,
   "id": "ced1e284-733b-49e7-9154-18d54af53bdb",
   "metadata": {},
   "outputs": [],
   "source": [
    "data = get_data(year=YEAR, day=DAY)"
   ]
  },
  {
   "cell_type": "code",
   "execution_count": 5,
   "id": "97d3a4d3-b08a-4bff-bfb8-d37cc82a395d",
   "metadata": {},
   "outputs": [
    {
     "data": {
      "text/plain": [
       "['bvh{a>2239:lr,m>657:mqd,x>928:lz,ndn}',\n",
       " 'lvc{m<3522:R,m>3836:R,A}',\n",
       " 'tg{x<1026:R,R}',\n",
       " 'cdj{m<3527:R,x<3765:A,R}',\n",
       " 'fgz{a>3380:A,a>2932:A,A}']"
      ]
     },
     "execution_count": 5,
     "metadata": {},
     "output_type": "execute_result"
    }
   ],
   "source": [
    "data.splitlines()[:5]"
   ]
  },
  {
   "cell_type": "markdown",
   "id": "c644d7ff-3812-4bcf-b4a4-6feb40c40374",
   "metadata": {},
   "source": [
    "# Part A"
   ]
  },
  {
   "cell_type": "code",
   "execution_count": 6,
   "id": "b871c35c-b8cf-4b9f-84ce-456f133addd6",
   "metadata": {},
   "outputs": [],
   "source": [
    "# data = \"\"\"px{a<2006:qkq,m>2090:A,rfg}\n",
    "# pv{a>1716:R,A}\n",
    "# lnx{m>1548:A,A}\n",
    "# rfg{s<537:gd,x>2440:R,A}\n",
    "# qs{s>3448:A,lnx}\n",
    "# qkq{x<1416:A,crn}\n",
    "# crn{x>2662:A,R}\n",
    "# in{s<1351:px,qqz}\n",
    "# qqz{s>2770:qs,m<1801:hdj,R}\n",
    "# gd{a>3333:R,R}\n",
    "# hdj{m>838:A,pv}\n",
    "\n",
    "# {x=787,m=2655,a=1222,s=2876}\n",
    "# {x=1679,m=44,a=2067,s=496}\n",
    "# {x=2036,m=264,a=79,s=2244}\n",
    "# {x=2461,m=1339,a=466,s=291}\n",
    "# {x=2127,m=1623,a=2188,s=1013}\n",
    "# \"\"\""
   ]
  },
  {
   "cell_type": "code",
   "execution_count": 7,
   "id": "433274be-30f0-4001-8cf8-6556d2e2f3d8",
   "metadata": {},
   "outputs": [],
   "source": [
    "rules, parts = data.split('\\n\\n')\n",
    "\n",
    "rules_raw = rules.splitlines()\n",
    "parts_raw = parts.splitlines()"
   ]
  },
  {
   "cell_type": "code",
   "execution_count": 8,
   "id": "d3d3c1e4-b043-4108-aa0d-59944a80765b",
   "metadata": {},
   "outputs": [],
   "source": [
    "workflows = {}\n",
    "for r in rules_raw:\n",
    "    label, cond = r.split('{')\n",
    "    cond = cond[:-1]\n",
    "    conds = cond.split(',')\n",
    "    cc = []\n",
    "    for c in conds:\n",
    "        if '<' in c:\n",
    "            var, thresh, n = re.split('<|:',c)\n",
    "            cc.append({'type': '<', 'var': var, 'thresh': int(thresh), 'next': n})\n",
    "        elif '>' in c:\n",
    "            var, thresh, n = re.split('>|:',c)\n",
    "            cc.append({'type': '>', 'var': var, 'thresh': int(thresh), 'next': n})\n",
    "        else:\n",
    "            cc.append({'type': 'else', 'next': c})        \n",
    "    workflows[label] = cc"
   ]
  },
  {
   "cell_type": "code",
   "execution_count": 9,
   "id": "e395cbd2-d0cc-48a3-b480-6ab7f6d6014a",
   "metadata": {},
   "outputs": [],
   "source": [
    "Q = []\n",
    "for p in parts_raw:\n",
    "    n = tuple(map(int, re.findall(r'\\d+',p)))\n",
    "    n = {'x':n[0],'m':n[1],'a':n[2],'s':n[3]}\n",
    "    Q.append((n,'in'))\n",
    "\n",
    "accepted = []\n",
    "rejected = []\n",
    "while Q:\n",
    "    p,r = Q.pop()\n",
    "    workflow = workflows[r]\n",
    "    for rule in workflow:\n",
    "        match rule['type']:\n",
    "            case '<':\n",
    "                if p[rule['var']] < rule['thresh']:\n",
    "                    next = rule['next']\n",
    "                    break\n",
    "            case '>':\n",
    "                if p[rule['var']] > rule['thresh']:\n",
    "                    next = rule['next']\n",
    "                    break\n",
    "            case 'else':\n",
    "                next = rule['next']\n",
    "    match next:\n",
    "        case 'A':\n",
    "            accepted.append(p)\n",
    "        case 'R':\n",
    "            rejected.append(p)\n",
    "        case _:\n",
    "            Q.append((p,next))"
   ]
  },
  {
   "cell_type": "code",
   "execution_count": 10,
   "id": "36de071d-0357-4721-9ecf-c5538e2e7214",
   "metadata": {},
   "outputs": [
    {
     "data": {
      "text/plain": [
       "373302"
      ]
     },
     "execution_count": 10,
     "metadata": {},
     "output_type": "execute_result"
    }
   ],
   "source": [
    "total = 0\n",
    "for a in accepted:\n",
    "    total += sum(a.values())\n",
    "total"
   ]
  },
  {
   "cell_type": "code",
   "execution_count": 55,
   "id": "50e12a9e-ffbc-485e-9724-79f97cd341f9",
   "metadata": {},
   "outputs": [
    {
     "name": "stderr",
     "output_type": "stream",
     "text": [
      "answer a: None\n",
      "submitting for part a\n"
     ]
    },
    {
     "name": "stdout",
     "output_type": "stream",
     "text": [
      "\u001b[32mThat's the right answer!  You are one gold star closer to restoring snow operations. [Continue to Part Two]\u001b[0m\n"
     ]
    },
    {
     "data": {
      "text/plain": [
       "<urllib3.response.HTTPResponse at 0x10d09ca90>"
      ]
     },
     "execution_count": 55,
     "metadata": {},
     "output_type": "execute_result"
    }
   ],
   "source": [
    "submit(total, year=YEAR, day=DAY)"
   ]
  },
  {
   "cell_type": "markdown",
   "id": "ba3abf71-91fd-4fa4-94d3-4cf7b59d923f",
   "metadata": {},
   "source": [
    "# Part B"
   ]
  },
  {
   "cell_type": "code",
   "execution_count": 11,
   "id": "9a811d09-724b-481a-9af9-f7c8f68b717e",
   "metadata": {},
   "outputs": [],
   "source": [
    "import portion as P"
   ]
  },
  {
   "cell_type": "code",
   "execution_count": 12,
   "id": "d3ffe661-ab6e-46ee-a50a-24e3566540f7",
   "metadata": {},
   "outputs": [],
   "source": [
    "MIN = 1\n",
    "MAX = 4000\n",
    "\n",
    "start = {'x': P.closed(MIN,MAX), \n",
    "         'm': P.closed(MIN,MAX), \n",
    "         'a': P.closed(MIN,MAX), \n",
    "         's': P.closed(MIN,MAX)}\n",
    "\n",
    "Q = [(start, 'in')]\n",
    "\n",
    "accepted = []\n",
    "rejected = []\n",
    "while Q:\n",
    "    p,r = Q.pop()\n",
    "\n",
    "    if r == 'A':\n",
    "        accepted.append(p)\n",
    "        continue\n",
    "    elif r == 'R':\n",
    "        rejected.append(r)\n",
    "        continue\n",
    "\n",
    "    workflow = workflows[r]\n",
    "    for rule in workflow:\n",
    "        match rule['type']:\n",
    "            case '<':\n",
    "                matched = p.copy()\n",
    "                matched[rule['var']] &= P.closed(MIN,rule['thresh']-1)\n",
    "                Q.append((matched, rule['next']))\n",
    "                p[rule['var']] -= P.closedopen(MIN,rule['thresh'])\n",
    "            case '>':\n",
    "                matched = p.copy()\n",
    "                matched[rule['var']] &= P.closed(rule['thresh']+1, MAX)\n",
    "                Q.append((matched, rule['next']))\n",
    "                p[rule['var']] -= P.openclosed(rule['thresh'], MAX)\n",
    "            case 'else':\n",
    "                Q.append((p,rule['next']))\n"
   ]
  },
  {
   "cell_type": "code",
   "execution_count": 13,
   "id": "60ca142d-9dc8-4f63-9a75-201f2b5bfb28",
   "metadata": {},
   "outputs": [],
   "source": [
    "total = 0\n",
    "for a in accepted:\n",
    "    p = 1\n",
    "    for r in a.values():\n",
    "        p *= r.upper - r.lower + 1\n",
    "    total += p"
   ]
  },
  {
   "cell_type": "code",
   "execution_count": 14,
   "id": "cb6fdb02-c85a-48ff-80ac-208701dd95c7",
   "metadata": {},
   "outputs": [
    {
     "data": {
      "text/plain": [
       "130262715574114"
      ]
     },
     "execution_count": 14,
     "metadata": {},
     "output_type": "execute_result"
    }
   ],
   "source": [
    "total"
   ]
  },
  {
   "cell_type": "code",
   "execution_count": 74,
   "id": "41e9575d-c42d-4f85-8bf5-1693eb554028",
   "metadata": {},
   "outputs": [
    {
     "name": "stderr",
     "output_type": "stream",
     "text": [
      "answer a: 373302\n",
      "submitting for part b (part a is already completed)\n"
     ]
    },
    {
     "name": "stdout",
     "output_type": "stream",
     "text": [
      "\u001b[32mThat's the right answer!  You are one gold star closer to restoring snow operations. You got rank 761 on this star's leaderboard.You have completed Day 19! You can [Shareon\n",
      "  Twitter\n",
      "Mastodon] this victory or [Return to Your Advent Calendar].\u001b[0m\n"
     ]
    },
    {
     "data": {
      "text/plain": [
       "<urllib3.response.HTTPResponse at 0x107e29000>"
      ]
     },
     "execution_count": 74,
     "metadata": {},
     "output_type": "execute_result"
    }
   ],
   "source": [
    "submit(total, year=YEAR, day=DAY)"
   ]
  }
 ],
 "metadata": {
  "kernelspec": {
   "display_name": "Python 3 (ipykernel)",
   "language": "python",
   "name": "python3"
  },
  "language_info": {
   "codemirror_mode": {
    "name": "ipython",
    "version": 3
   },
   "file_extension": ".py",
   "mimetype": "text/x-python",
   "name": "python",
   "nbconvert_exporter": "python",
   "pygments_lexer": "ipython3",
   "version": "3.12.0"
  }
 },
 "nbformat": 4,
 "nbformat_minor": 5
}
