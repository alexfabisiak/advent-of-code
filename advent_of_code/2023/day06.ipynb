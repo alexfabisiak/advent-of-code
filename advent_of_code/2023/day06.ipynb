{
 "cells": [
  {
   "cell_type": "code",
   "execution_count": 74,
   "id": "cca57e6d-5224-493a-a2a9-5e23bb5546c2",
   "metadata": {},
   "outputs": [],
   "source": [
    "from aocd import get_data, submit\n",
    "# from aocd.get import current_day\n",
    "\n",
    "from IPython.display import display\n",
    "from IPython.core.display import Markdown\n",
    "\n",
    "import re\n",
    "import math"
   ]
  },
  {
   "cell_type": "code",
   "execution_count": 75,
   "id": "e4d6b8a4-25ef-4630-8aa6-6c95c7a8be09",
   "metadata": {},
   "outputs": [],
   "source": [
    "DAY = 6\n",
    "YEAR = 2023"
   ]
  },
  {
   "cell_type": "code",
   "execution_count": 76,
   "id": "388077b9-edd1-4ab9-9a3c-5e24b66346a8",
   "metadata": {},
   "outputs": [
    {
     "data": {
      "text/markdown": [
       "#### See [2023 Day 6](https://adventofcode.com/2023/day/6)."
      ],
      "text/plain": [
       "<IPython.core.display.Markdown object>"
      ]
     },
     "metadata": {},
     "output_type": "display_data"
    }
   ],
   "source": [
    "url = f\"https://adventofcode.com/{YEAR}/day/{DAY}\"\n",
    "display(Markdown(f\"#### See [{YEAR} Day {DAY}]({url}).\"))"
   ]
  },
  {
   "cell_type": "code",
   "execution_count": 80,
   "id": "ced1e284-733b-49e7-9154-18d54af53bdb",
   "metadata": {},
   "outputs": [],
   "source": [
    "data = get_data(year=YEAR, day=DAY)"
   ]
  },
  {
   "cell_type": "code",
   "execution_count": 81,
   "id": "97d3a4d3-b08a-4bff-bfb8-d37cc82a395d",
   "metadata": {},
   "outputs": [
    {
     "data": {
      "text/plain": [
       "['Time:        38     67     76     73',\n",
       " 'Distance:   234   1027   1157   1236']"
      ]
     },
     "execution_count": 81,
     "metadata": {},
     "output_type": "execute_result"
    }
   ],
   "source": [
    "data.splitlines()[:5]"
   ]
  },
  {
   "cell_type": "markdown",
   "id": "c644d7ff-3812-4bcf-b4a4-6feb40c40374",
   "metadata": {},
   "source": [
    "# Part A"
   ]
  },
  {
   "cell_type": "code",
   "execution_count": 79,
   "id": "b871c35c-b8cf-4b9f-84ce-456f133addd6",
   "metadata": {},
   "outputs": [],
   "source": [
    "# data = \"\"\"Time:      7  15   30\n",
    "# Distance:  9  40  200\n",
    "# \"\"\""
   ]
  },
  {
   "cell_type": "code",
   "execution_count": 82,
   "id": "d35536a3-9af9-4519-ba8d-1ea89c63d192",
   "metadata": {},
   "outputs": [],
   "source": [
    "times = list(map(int, re.findall(r\"(\\d+)\", data.splitlines()[0])))\n",
    "distances = list(map(int, re.findall(r\"(\\d+)\", data.splitlines()[1])))"
   ]
  },
  {
   "cell_type": "code",
   "execution_count": 85,
   "id": "f03e9730-031a-4742-ae67-9b46588a3a9d",
   "metadata": {},
   "outputs": [],
   "source": [
    "# (time - hold) * hold > record\n",
    "# time * hold - hold ** 2 > record\n",
    "#  - hold ** 2 + time * hold - record > 0\n",
    "def quadratic(a,b,c):\n",
    "    return ((-b - (b**2 - 4 * a * c)**.5) / (2*a), \n",
    "            (-b + (b**2 - 4 * a * c)**.5) / (2*a))"
   ]
  },
  {
   "cell_type": "code",
   "execution_count": 86,
   "id": "d21db133-6ac8-4c9c-a82c-9bee040dac50",
   "metadata": {},
   "outputs": [],
   "source": [
    "total = 1\n",
    "for t, d in zip(times, distances):\n",
    "    end, start = quadratic(-1, t, -d)\n",
    "    eps = 1e-9\n",
    "    length = math.floor(end-eps) - math.ceil(start+eps) + 1\n",
    "    total *= length "
   ]
  },
  {
   "cell_type": "code",
   "execution_count": 87,
   "id": "e2207ecd-8163-4acf-ae8a-c47156f11342",
   "metadata": {},
   "outputs": [
    {
     "data": {
      "text/plain": [
       "303600"
      ]
     },
     "execution_count": 87,
     "metadata": {},
     "output_type": "execute_result"
    }
   ],
   "source": [
    "total"
   ]
  },
  {
   "cell_type": "code",
   "execution_count": 65,
   "id": "50e12a9e-ffbc-485e-9724-79f97cd341f9",
   "metadata": {},
   "outputs": [
    {
     "name": "stderr",
     "output_type": "stream",
     "text": [
      "answer a: None\n",
      "submitting for part a\n"
     ]
    },
    {
     "name": "stdout",
     "output_type": "stream",
     "text": [
      "\u001b[32mThat's the right answer!  You are one gold star closer to restoring snow operations. [Continue to Part Two]\u001b[0m\n"
     ]
    },
    {
     "data": {
      "text/plain": [
       "<urllib3.response.HTTPResponse at 0x107e63430>"
      ]
     },
     "execution_count": 65,
     "metadata": {},
     "output_type": "execute_result"
    }
   ],
   "source": [
    "submit(total, year=YEAR, day=DAY)"
   ]
  },
  {
   "cell_type": "markdown",
   "id": "ba3abf71-91fd-4fa4-94d3-4cf7b59d923f",
   "metadata": {},
   "source": [
    "# Part B"
   ]
  },
  {
   "cell_type": "code",
   "execution_count": 89,
   "id": "49d0987c-3711-4a4f-94da-26c952f48aad",
   "metadata": {},
   "outputs": [
    {
     "name": "stdout",
     "output_type": "stream",
     "text": [
      "38677673 234102711571236\n"
     ]
    }
   ],
   "source": [
    "time = int(\"\".join(map(str, times)))\n",
    "dist = int(\"\".join(map(str, distances)))\n",
    "print(time, dist)"
   ]
  },
  {
   "cell_type": "code",
   "execution_count": 90,
   "id": "ae9a1f6c-6f72-4647-ac72-d40bc30fc492",
   "metadata": {},
   "outputs": [],
   "source": [
    "end, start = quadratic(-1, time, -dist)\n",
    "eps = 1e-9\n",
    "length = math.floor(end-eps) - math.ceil(start+eps) + 1"
   ]
  },
  {
   "cell_type": "code",
   "execution_count": 91,
   "id": "730a2c8d-3305-4891-a5a5-3e7f4891f24d",
   "metadata": {},
   "outputs": [
    {
     "data": {
      "text/plain": [
       "23654842"
      ]
     },
     "execution_count": 91,
     "metadata": {},
     "output_type": "execute_result"
    }
   ],
   "source": [
    "length"
   ]
  },
  {
   "cell_type": "code",
   "execution_count": 73,
   "id": "41e9575d-c42d-4f85-8bf5-1693eb554028",
   "metadata": {},
   "outputs": [
    {
     "name": "stderr",
     "output_type": "stream",
     "text": [
      "answer a: 303600\n",
      "submitting for part b (part a is already completed)\n"
     ]
    },
    {
     "name": "stdout",
     "output_type": "stream",
     "text": [
      "\u001b[32mThat's the right answer!  You are one gold star closer to restoring snow operations.You have completed Day 6! You can [Shareon\n",
      "  Twitter\n",
      "Mastodon] this victory or [Return to Your Advent Calendar].\u001b[0m\n"
     ]
    },
    {
     "data": {
      "text/plain": [
       "<urllib3.response.HTTPResponse at 0x107eb5000>"
      ]
     },
     "execution_count": 73,
     "metadata": {},
     "output_type": "execute_result"
    }
   ],
   "source": [
    "submit(length, year=YEAR, day=DAY)"
   ]
  },
  {
   "cell_type": "code",
   "execution_count": null,
   "id": "bc341816-1163-4c5d-a585-04ab81b4d2d7",
   "metadata": {},
   "outputs": [],
   "source": []
  }
 ],
 "metadata": {
  "kernelspec": {
   "display_name": "Python 3 (ipykernel)",
   "language": "python",
   "name": "python3"
  },
  "language_info": {
   "codemirror_mode": {
    "name": "ipython",
    "version": 3
   },
   "file_extension": ".py",
   "mimetype": "text/x-python",
   "name": "python",
   "nbconvert_exporter": "python",
   "pygments_lexer": "ipython3",
   "version": "3.12.0"
  }
 },
 "nbformat": 4,
 "nbformat_minor": 5
}
