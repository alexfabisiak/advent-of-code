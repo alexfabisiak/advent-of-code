{
 "cells": [
  {
   "cell_type": "code",
   "execution_count": 1,
   "id": "cca57e6d-5224-493a-a2a9-5e23bb5546c2",
   "metadata": {},
   "outputs": [],
   "source": [
    "from aocd import get_data, submit\n",
    "# from aocd.get import current_day\n",
    "\n",
    "from IPython.display import display\n",
    "from IPython.core.display import Markdown\n",
    "\n",
    "import math\n",
    "import numpy as np\n",
    "import re\n",
    "import sys"
   ]
  },
  {
   "cell_type": "code",
   "execution_count": 2,
   "id": "e4d6b8a4-25ef-4630-8aa6-6c95c7a8be09",
   "metadata": {},
   "outputs": [],
   "source": [
    "DAY = 23\n",
    "YEAR = 2023"
   ]
  },
  {
   "cell_type": "code",
   "execution_count": 3,
   "id": "388077b9-edd1-4ab9-9a3c-5e24b66346a8",
   "metadata": {},
   "outputs": [
    {
     "data": {
      "text/markdown": [
       "#### See [2023 Day 23](https://adventofcode.com/2023/day/23)."
      ],
      "text/plain": [
       "<IPython.core.display.Markdown object>"
      ]
     },
     "metadata": {},
     "output_type": "display_data"
    }
   ],
   "source": [
    "url = f\"https://adventofcode.com/{YEAR}/day/{DAY}\"\n",
    "display(Markdown(f\"#### See [{YEAR} Day {DAY}]({url}).\"))"
   ]
  },
  {
   "cell_type": "code",
   "execution_count": 136,
   "id": "ced1e284-733b-49e7-9154-18d54af53bdb",
   "metadata": {},
   "outputs": [],
   "source": [
    "data = get_data(year=YEAR, day=DAY)"
   ]
  },
  {
   "cell_type": "code",
   "execution_count": 137,
   "id": "97d3a4d3-b08a-4bff-bfb8-d37cc82a395d",
   "metadata": {},
   "outputs": [
    {
     "data": {
      "text/plain": [
       "['#.###########################################################################################################################################',\n",
       " '#.#...#####.......###...#.....#...#...###.....#...#...#...#.......#...#...#####.......#.......................###.....#...#...#.............#',\n",
       " '#.#.#.#####.#####.###.#.#.###.#.#.#.#.###.###.#.#.#.#.#.#.#.#####.#.#.#.#.#####.#####.#.#####################.###.###.#.#.#.#.#.###########.#',\n",
       " '#.#.#.......#.....#...#.#...#.#.#.#.#.#...#...#.#.#.#.#.#.#...#...#.#.#.#.#.....#.....#...............#.....#.###.#...#.#.#.#.#.#...........#',\n",
       " '#.#.#########.#####.###.###.#.#.#.#.#.#.###.###.#.#.#.#.#.###.#.###.#.#.#.#.#####.###################.#.###.#.###.#.###.#.#.#.#.#.###########']"
      ]
     },
     "execution_count": 137,
     "metadata": {},
     "output_type": "execute_result"
    }
   ],
   "source": [
    "data.splitlines()[:5]"
   ]
  },
  {
   "cell_type": "code",
   "execution_count": 138,
   "id": "6ff286f0-dd34-4268-8d4c-8dcf1bf9910b",
   "metadata": {},
   "outputs": [
    {
     "data": {
      "text/plain": [
       "141"
      ]
     },
     "execution_count": 138,
     "metadata": {},
     "output_type": "execute_result"
    }
   ],
   "source": [
    "len(data.splitlines())"
   ]
  },
  {
   "cell_type": "markdown",
   "id": "c644d7ff-3812-4bcf-b4a4-6feb40c40374",
   "metadata": {},
   "source": [
    "# Part A"
   ]
  },
  {
   "cell_type": "code",
   "execution_count": 81,
   "id": "b871c35c-b8cf-4b9f-84ce-456f133addd6",
   "metadata": {},
   "outputs": [],
   "source": [
    "data = \"\"\"#.#####################\n",
    "#.......#########...###\n",
    "#######.#########.#.###\n",
    "###.....#.>.>.###.#.###\n",
    "###v#####.#v#.###.#.###\n",
    "###.>...#.#.#.....#...#\n",
    "###v###.#.#.#########.#\n",
    "###...#.#.#.......#...#\n",
    "#####.#.#.#######.#.###\n",
    "#.....#.#.#.......#...#\n",
    "#.#####.#.#.#########v#\n",
    "#.#...#...#...###...>.#\n",
    "#.#.#v#######v###.###v#\n",
    "#...#.>.#...>.>.#.###.#\n",
    "#####v#.#.###v#.#.###.#\n",
    "#.....#...#...#.#.#...#\n",
    "#.#########.###.#.#.###\n",
    "#...###...#...#...#.###\n",
    "###.###.#.###v#####v###\n",
    "#...#...#.#.>.>.#.>.###\n",
    "#.###.###.#.###.#.#v###\n",
    "#.....###...###...#...#\n",
    "#####################.#\n",
    "\"\"\""
   ]
  },
  {
   "cell_type": "code",
   "execution_count": 139,
   "id": "5d081573-7388-4e91-b144-1c7aaed408d8",
   "metadata": {},
   "outputs": [],
   "source": [
    "data = np.array([list(l) for l in data.splitlines()])\n",
    "m = range(data.shape[0])\n",
    "n = range(data.shape[1])"
   ]
  },
  {
   "cell_type": "code",
   "execution_count": 36,
   "id": "bb522ec1-479e-44a3-83b4-477d65ff80c9",
   "metadata": {},
   "outputs": [],
   "source": [
    "start = np.where(data[0,:] == '.')\n",
    "start = (0, start[0][0])\n",
    "\n",
    "dirs = [(1,0),(-1,0),(0,1),(0,-1)]\n",
    "slopes = {'>': (0,1), '<': (0,-1), '^':(-1,0), 'v':(1,0)}\n",
    "\n",
    "def search(path, loc):\n",
    "    if loc[0] == data.shape[0]:\n",
    "        return len(path)\n",
    "    if data[loc] == '#' or loc in path:\n",
    "        return 0\n",
    "    if (not loc[0] in m) or (not loc[1] in n):\n",
    "        return 0\n",
    "\n",
    "    longest = 0\n",
    "    if data[loc] in slopes.keys():\n",
    "        d = slopes[data[loc]]\n",
    "        l = search(path + [loc], (loc[0]+d[0], loc[1]+d[1]))\n",
    "        longest = max(longest, l)\n",
    "    else:\n",
    "        for d in dirs:\n",
    "            l = search(path + [loc], (loc[0]+d[0], loc[1]+d[1]))\n",
    "            longest = max(longest, l)\n",
    "    return longest"
   ]
  },
  {
   "cell_type": "code",
   "execution_count": 37,
   "id": "d952e80e-0f54-42d2-bc02-8fd8a1b8e00a",
   "metadata": {},
   "outputs": [
    {
     "data": {
      "text/plain": [
       "94"
      ]
     },
     "execution_count": 37,
     "metadata": {},
     "output_type": "execute_result"
    }
   ],
   "source": [
    "total = search([],start) - 1\n",
    "total"
   ]
  },
  {
   "cell_type": "code",
   "execution_count": 43,
   "id": "50e12a9e-ffbc-485e-9724-79f97cd341f9",
   "metadata": {},
   "outputs": [
    {
     "name": "stderr",
     "output_type": "stream",
     "text": [
      "answer a: None\n",
      "submitting for part a\n"
     ]
    },
    {
     "name": "stdout",
     "output_type": "stream",
     "text": [
      "\u001b[32mThat's the right answer!  You are one gold star closer to restoring snow operations. You got rank 233 on this star's leaderboard. [Continue to Part Two]\u001b[0m\n"
     ]
    },
    {
     "data": {
      "text/plain": [
       "<urllib3.response.HTTPResponse at 0x1108b7970>"
      ]
     },
     "execution_count": 43,
     "metadata": {},
     "output_type": "execute_result"
    }
   ],
   "source": [
    "submit(total, year=YEAR, day=DAY)"
   ]
  },
  {
   "cell_type": "markdown",
   "id": "ba3abf71-91fd-4fa4-94d3-4cf7b59d923f",
   "metadata": {},
   "source": [
    "# Part B"
   ]
  },
  {
   "cell_type": "code",
   "execution_count": 140,
   "id": "49fc37a2-b730-4249-91b4-1577b2e5208a",
   "metadata": {},
   "outputs": [],
   "source": [
    "from itertools import product"
   ]
  },
  {
   "cell_type": "code",
   "execution_count": 143,
   "id": "f344dca7-9057-4f05-887a-56cae0ffa118",
   "metadata": {},
   "outputs": [],
   "source": [
    "from collections import defaultdict"
   ]
  },
  {
   "cell_type": "code",
   "execution_count": 141,
   "id": "72757502-f877-4c21-a0d0-960319cbdd8e",
   "metadata": {},
   "outputs": [],
   "source": [
    "start = np.where(data[0,:] == '.')\n",
    "start = (0, start[0][0])\n",
    "\n",
    "end = np.where(data[-1,:] == '.')\n",
    "end = (data.shape[0]-1, end[0][0])\n",
    "\n",
    "junctions = set([start, end])\n",
    "for loc in product(m,n):\n",
    "    options = []\n",
    "    if data[loc] == '#':\n",
    "        continue\n",
    "    else:\n",
    "        for d in dirs:\n",
    "            nextpoint = (loc[0]+d[0], loc[1]+d[1])\n",
    "            if nextpoint[0] in m and nextpoint[1] in n and data[nextpoint] != '#':\n",
    "                options.append(nextpoint) \n",
    "        if len(options) > 2:\n",
    "            junctions |= set([loc])"
   ]
  },
  {
   "cell_type": "code",
   "execution_count": 144,
   "id": "4d668b44-94e3-4d7c-a169-fd46c005089c",
   "metadata": {},
   "outputs": [],
   "source": [
    "distances = defaultdict(lambda:0)\n",
    "\n",
    "for j in junctions:\n",
    "    Q = [(set(),j)]\n",
    "    \n",
    "    while Q:\n",
    "        path, loc = Q.pop()\n",
    "        if loc != j and loc in junctions:\n",
    "            distances[(j,loc)] = max(distances[(j,loc)], len(path))\n",
    "            continue\n",
    "        if (not loc[0] in m) or (not loc[1] in n):\n",
    "            continue\n",
    "        if data[loc] == '#' or loc in path:\n",
    "            continue\n",
    "    \n",
    "        for d in dirs:\n",
    "            Q.append((path | set([loc]), (loc[0]+d[0], loc[1]+d[1])))\n"
   ]
  },
  {
   "cell_type": "code",
   "execution_count": 145,
   "id": "2513ab17-1470-4291-b707-3b1c20bbd645",
   "metadata": {},
   "outputs": [],
   "source": [
    "dm = defaultdict(list)\n",
    "for (s,e),d in distances.items():\n",
    "    dm[s].append({'n':e,'dist':d})"
   ]
  },
  {
   "cell_type": "code",
   "execution_count": 146,
   "id": "8b0276c1-4a2a-4afa-9b43-ae864ac8555a",
   "metadata": {},
   "outputs": [],
   "source": [
    "def search(path, loc, dist):\n",
    "    if loc == end:\n",
    "        return dist\n",
    "        \n",
    "    longest = 0\n",
    "    moves = dm[loc]\n",
    "    for m in moves:\n",
    "        if m['n'] not in path:\n",
    "            dd = search(path | set([loc]), m['n'], dist+m['dist'])\n",
    "            longest = max(longest,dd)\n",
    "    return longest"
   ]
  },
  {
   "cell_type": "code",
   "execution_count": 147,
   "id": "aa3d331d-b876-4207-aa05-8c35f26c4e90",
   "metadata": {},
   "outputs": [
    {
     "data": {
      "text/plain": [
       "6622"
      ]
     },
     "execution_count": 147,
     "metadata": {},
     "output_type": "execute_result"
    }
   ],
   "source": [
    "total = search(set(), start, 0)\n",
    "total"
   ]
  },
  {
   "cell_type": "code",
   "execution_count": 148,
   "id": "41e9575d-c42d-4f85-8bf5-1693eb554028",
   "metadata": {},
   "outputs": [
    {
     "name": "stderr",
     "output_type": "stream",
     "text": [
      "answer a: 2246\n",
      "submitting for part b (part a is already completed)\n"
     ]
    },
    {
     "name": "stdout",
     "output_type": "stream",
     "text": [
      "\u001b[32mThat's the right answer!  You are one gold star closer to restoring snow operations.You have completed Day 23! You can [Shareon\n",
      "  Twitter\n",
      "Mastodon] this victory or [Return to Your Advent Calendar].\u001b[0m\n"
     ]
    },
    {
     "data": {
      "text/plain": [
       "<urllib3.response.HTTPResponse at 0x10ad74250>"
      ]
     },
     "execution_count": 148,
     "metadata": {},
     "output_type": "execute_result"
    }
   ],
   "source": [
    "submit(total, year=YEAR, day=DAY)"
   ]
  },
  {
   "cell_type": "code",
   "execution_count": null,
   "id": "bc341816-1163-4c5d-a585-04ab81b4d2d7",
   "metadata": {},
   "outputs": [],
   "source": []
  }
 ],
 "metadata": {
  "kernelspec": {
   "display_name": "Python 3 (ipykernel)",
   "language": "python",
   "name": "python3"
  },
  "language_info": {
   "codemirror_mode": {
    "name": "ipython",
    "version": 3
   },
   "file_extension": ".py",
   "mimetype": "text/x-python",
   "name": "python",
   "nbconvert_exporter": "python",
   "pygments_lexer": "ipython3",
   "version": "3.12.0"
  }
 },
 "nbformat": 4,
 "nbformat_minor": 5
}
