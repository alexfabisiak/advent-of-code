{
 "cells": [
  {
   "cell_type": "code",
   "execution_count": 1,
   "id": "cca57e6d-5224-493a-a2a9-5e23bb5546c2",
   "metadata": {},
   "outputs": [],
   "source": [
    "from aocd import get_data, submit\n",
    "# from aocd.get import current_day\n",
    "\n",
    "from IPython.display import display\n",
    "from IPython.core.display import Markdown\n",
    "\n",
    "import math\n",
    "import numpy as np\n",
    "import re\n",
    "import sys"
   ]
  },
  {
   "cell_type": "code",
   "execution_count": 3,
   "id": "e4d6b8a4-25ef-4630-8aa6-6c95c7a8be09",
   "metadata": {},
   "outputs": [],
   "source": [
    "DAY = 13\n",
    "YEAR = 2023"
   ]
  },
  {
   "cell_type": "code",
   "execution_count": null,
   "id": "388077b9-edd1-4ab9-9a3c-5e24b66346a8",
   "metadata": {},
   "outputs": [],
   "source": [
    "url = f\"https://adventofcode.com/{YEAR}/day/{DAY}\"\n",
    "display(Markdown(f\"#### See [{YEAR} Day {DAY}]({url}).\"))"
   ]
  },
  {
   "cell_type": "code",
   "execution_count": 93,
   "id": "ced1e284-733b-49e7-9154-18d54af53bdb",
   "metadata": {},
   "outputs": [],
   "source": [
    "data = get_data(year=YEAR, day=DAY)"
   ]
  },
  {
   "cell_type": "code",
   "execution_count": 94,
   "id": "97d3a4d3-b08a-4bff-bfb8-d37cc82a395d",
   "metadata": {},
   "outputs": [
    {
     "data": {
      "text/plain": [
       "['##...##....##',\n",
       " '..#.##....#.#',\n",
       " '..#.##....#.#',\n",
       " '##.#.##....##',\n",
       " '#####.#..###.']"
      ]
     },
     "execution_count": 94,
     "metadata": {},
     "output_type": "execute_result"
    }
   ],
   "source": [
    "data.splitlines()[:5]"
   ]
  },
  {
   "cell_type": "markdown",
   "id": "c644d7ff-3812-4bcf-b4a4-6feb40c40374",
   "metadata": {},
   "source": [
    "# Part A"
   ]
  },
  {
   "cell_type": "code",
   "execution_count": 83,
   "id": "b871c35c-b8cf-4b9f-84ce-456f133addd6",
   "metadata": {},
   "outputs": [],
   "source": [
    "data = \"\"\"#.##..##.\n",
    "..#.##.#.\n",
    "##......#\n",
    "##......#\n",
    "..#.##.#.\n",
    "..##..##.\n",
    "#.#.##.#.\n",
    "\n",
    "#...##..#\n",
    "#....#..#\n",
    "..##..###\n",
    "#####.##.\n",
    "#####.##.\n",
    "..##..###\n",
    "#....#..#\n",
    "\"\"\""
   ]
  },
  {
   "cell_type": "code",
   "execution_count": 95,
   "id": "50491676-69e5-4292-8d87-07202df5076c",
   "metadata": {},
   "outputs": [],
   "source": [
    "def is_mirror(a, i):\n",
    "    n = a.shape[0]\n",
    "    result = True\n",
    "    for j in range(0, n):\n",
    "        if i+j >= n or i-j-1 < 0:\n",
    "            break\n",
    "        result = result and (a[i+j] == a[i-j-1]).all()\n",
    "    return result"
   ]
  },
  {
   "cell_type": "code",
   "execution_count": 96,
   "id": "48e5a99b-988b-4210-9d94-f2c14dad7a4c",
   "metadata": {},
   "outputs": [],
   "source": [
    "total = 0\n",
    "\n",
    "patterns = data.split('\\n\\n')\n",
    "for pattern in patterns:\n",
    "    pattern = np.array([list(l) for l in pattern.splitlines()])\n",
    "    row_idx = 0\n",
    "    for r in range(pattern.shape[0]):\n",
    "        if is_mirror(pattern, r):\n",
    "            row_idx = r\n",
    "\n",
    "    col_idx = 0\n",
    "    for c in range(pattern.shape[1]):\n",
    "        if is_mirror(pattern.T, c):\n",
    "            col_idx = c\n",
    "    total += 100 * row_idx + col_idx"
   ]
  },
  {
   "cell_type": "code",
   "execution_count": 97,
   "id": "ea8c4aab-885c-4231-a0c1-f9dbef3f93f1",
   "metadata": {},
   "outputs": [
    {
     "data": {
      "text/plain": [
       "35521"
      ]
     },
     "execution_count": 97,
     "metadata": {},
     "output_type": "execute_result"
    }
   ],
   "source": [
    "total"
   ]
  },
  {
   "cell_type": "code",
   "execution_count": 79,
   "id": "50e12a9e-ffbc-485e-9724-79f97cd341f9",
   "metadata": {},
   "outputs": [
    {
     "name": "stderr",
     "output_type": "stream",
     "text": [
      "answer a: None\n",
      "submitting for part a\n"
     ]
    },
    {
     "name": "stdout",
     "output_type": "stream",
     "text": [
      "\u001b[32mThat's the right answer!  You are one gold star closer to restoring snow operations. You got rank 791 on this star's leaderboard. [Continue to Part Two]\u001b[0m\n"
     ]
    },
    {
     "data": {
      "text/plain": [
       "<urllib3.response.HTTPResponse at 0x113b17cd0>"
      ]
     },
     "execution_count": 79,
     "metadata": {},
     "output_type": "execute_result"
    }
   ],
   "source": [
    "submit(total, year=YEAR, day=DAY)"
   ]
  },
  {
   "cell_type": "markdown",
   "id": "ba3abf71-91fd-4fa4-94d3-4cf7b59d923f",
   "metadata": {},
   "source": [
    "# Part B"
   ]
  },
  {
   "cell_type": "code",
   "execution_count": 98,
   "id": "d36a2e5b-8afd-4b8d-b5ce-77b630a07f36",
   "metadata": {},
   "outputs": [],
   "source": [
    "def is_mirror(a, i):\n",
    "    # print(i)\n",
    "    n = a.shape[0]\n",
    "    result = True\n",
    "    smudges = 0\n",
    "    for j in range(0, n):\n",
    "        if i+j >= n or i-j-1 < 0:\n",
    "            break\n",
    "        smudges += (a[i+j] != a[i-j-1]).sum()\n",
    "    return smudges == 1"
   ]
  },
  {
   "cell_type": "code",
   "execution_count": 99,
   "id": "f05af0bf-80ed-46f1-b6ab-680292ef4da1",
   "metadata": {},
   "outputs": [],
   "source": [
    "total = 0\n",
    "\n",
    "patterns = data.split('\\n\\n')\n",
    "for pattern in patterns:\n",
    "    pattern = np.array([list(l) for l in pattern.splitlines()])\n",
    "    row_idx = 0\n",
    "    for r in range(pattern.shape[0]):\n",
    "        if is_mirror(pattern, r):\n",
    "            row_idx = r\n",
    "\n",
    "    col_idx = 0\n",
    "    for c in range(pattern.shape[1]):\n",
    "        if is_mirror(pattern.T, c):\n",
    "            col_idx = c\n",
    "    total += 100 * row_idx + col_idx"
   ]
  },
  {
   "cell_type": "code",
   "execution_count": 100,
   "id": "49d0987c-3711-4a4f-94da-26c952f48aad",
   "metadata": {},
   "outputs": [
    {
     "data": {
      "text/plain": [
       "34795"
      ]
     },
     "execution_count": 100,
     "metadata": {},
     "output_type": "execute_result"
    }
   ],
   "source": [
    "total"
   ]
  },
  {
   "cell_type": "code",
   "execution_count": 92,
   "id": "41e9575d-c42d-4f85-8bf5-1693eb554028",
   "metadata": {},
   "outputs": [
    {
     "name": "stderr",
     "output_type": "stream",
     "text": [
      "answer a: 35521\n",
      "submitting for part b (part a is already completed)\n"
     ]
    },
    {
     "name": "stdout",
     "output_type": "stream",
     "text": [
      "\u001b[32mThat's the right answer!  You are one gold star closer to restoring snow operations. You got rank 394 on this star's leaderboard.You have completed Day 13! You can [Shareon\n",
      "  Twitter\n",
      "Mastodon] this victory or [Return to Your Advent Calendar].\u001b[0m\n"
     ]
    },
    {
     "data": {
      "text/plain": [
       "<urllib3.response.HTTPResponse at 0x113aed930>"
      ]
     },
     "execution_count": 92,
     "metadata": {},
     "output_type": "execute_result"
    }
   ],
   "source": [
    "submit(total, year=YEAR, day=DAY)"
   ]
  },
  {
   "cell_type": "code",
   "execution_count": null,
   "id": "bc341816-1163-4c5d-a585-04ab81b4d2d7",
   "metadata": {},
   "outputs": [],
   "source": []
  }
 ],
 "metadata": {
  "kernelspec": {
   "display_name": "Python 3 (ipykernel)",
   "language": "python",
   "name": "python3"
  },
  "language_info": {
   "codemirror_mode": {
    "name": "ipython",
    "version": 3
   },
   "file_extension": ".py",
   "mimetype": "text/x-python",
   "name": "python",
   "nbconvert_exporter": "python",
   "pygments_lexer": "ipython3",
   "version": "3.12.0"
  }
 },
 "nbformat": 4,
 "nbformat_minor": 5
}
