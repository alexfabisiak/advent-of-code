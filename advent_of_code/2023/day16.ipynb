{
 "cells": [
  {
   "cell_type": "code",
   "execution_count": 110,
   "id": "cca57e6d-5224-493a-a2a9-5e23bb5546c2",
   "metadata": {},
   "outputs": [],
   "source": [
    "from aocd import get_data, submit\n",
    "# from aocd.get import current_day\n",
    "\n",
    "from IPython.display import display\n",
    "from IPython.core.display import Markdown\n",
    "\n",
    "import math\n",
    "import numpy as np\n",
    "import re\n",
    "import sys\n",
    "sys.setrecursionlimit(15000)\n"
   ]
  },
  {
   "cell_type": "code",
   "execution_count": 2,
   "id": "e4d6b8a4-25ef-4630-8aa6-6c95c7a8be09",
   "metadata": {},
   "outputs": [],
   "source": [
    "DAY = 16\n",
    "YEAR = 2023"
   ]
  },
  {
   "cell_type": "code",
   "execution_count": 3,
   "id": "388077b9-edd1-4ab9-9a3c-5e24b66346a8",
   "metadata": {},
   "outputs": [
    {
     "data": {
      "text/markdown": [
       "#### See [2023 Day 16](https://adventofcode.com/2023/day/16)."
      ],
      "text/plain": [
       "<IPython.core.display.Markdown object>"
      ]
     },
     "metadata": {},
     "output_type": "display_data"
    }
   ],
   "source": [
    "url = f\"https://adventofcode.com/{YEAR}/day/{DAY}\"\n",
    "display(Markdown(f\"#### See [{YEAR} Day {DAY}]({url}).\"))"
   ]
  },
  {
   "cell_type": "code",
   "execution_count": 166,
   "id": "ced1e284-733b-49e7-9154-18d54af53bdb",
   "metadata": {},
   "outputs": [],
   "source": [
    "data = get_data(year=YEAR, day=DAY)"
   ]
  },
  {
   "cell_type": "code",
   "execution_count": 167,
   "id": "97d3a4d3-b08a-4bff-bfb8-d37cc82a395d",
   "metadata": {},
   "outputs": [
    {
     "data": {
      "text/plain": [
       "['\\\\..................-..........................-............................................-...-.............|',\n",
       " '..........-........//....../...-....../.....|...............................|.............-.....-.............',\n",
       " '..\\\\....\\\\............./...\\\\.......\\\\/.................................................../................-......',\n",
       " '|...................................................\\\\...................|...||-..............|................',\n",
       " '.....\\\\.................\\\\.........................|-.....|.........-.\\\\...............-.........|....\\\\.......\\\\..']"
      ]
     },
     "execution_count": 167,
     "metadata": {},
     "output_type": "execute_result"
    }
   ],
   "source": [
    "data.splitlines()[:5]"
   ]
  },
  {
   "cell_type": "markdown",
   "id": "c644d7ff-3812-4bcf-b4a4-6feb40c40374",
   "metadata": {},
   "source": [
    "# Part A"
   ]
  },
  {
   "cell_type": "code",
   "execution_count": 141,
   "id": "b871c35c-b8cf-4b9f-84ce-456f133addd6",
   "metadata": {},
   "outputs": [],
   "source": [
    "data = r\"\"\".|...\\....\n",
    "|.-.\\.....\n",
    ".....|-...\n",
    "........|.\n",
    "..........\n",
    ".........\\\n",
    "..../.\\\\..\n",
    ".-.-/..|..\n",
    ".|....-|.\\\n",
    "..//.|....\n",
    "\"\"\""
   ]
  },
  {
   "cell_type": "code",
   "execution_count": 168,
   "id": "de7af9a0-2d14-4ad1-9879-8767f78e4cda",
   "metadata": {},
   "outputs": [
    {
     "data": {
      "text/plain": [
       "array([['\\\\', '.', '.', ..., '.', '.', '|'],\n",
       "       ['.', '.', '.', ..., '.', '.', '.'],\n",
       "       ['.', '.', '\\\\', ..., '.', '.', '.'],\n",
       "       ...,\n",
       "       ['.', '.', '.', ..., '.', '.', '.'],\n",
       "       ['.', '.', '.', ..., '.', '.', '.'],\n",
       "       ['.', '.', '\\\\', ..., '.', '.', '.']], dtype='<U1')"
      ]
     },
     "execution_count": 168,
     "metadata": {},
     "output_type": "execute_result"
    }
   ],
   "source": [
    "data = np.array([list(l) for l in data.splitlines()])\n",
    "data"
   ]
  },
  {
   "cell_type": "code",
   "execution_count": 111,
   "id": "9098a5f0-a201-40e1-bb1a-3b5466b8266f",
   "metadata": {},
   "outputs": [],
   "source": [
    "up = np.array((-1, 0))\n",
    "down = np.array((1, 0))\n",
    "left = np.array((0, -1))\n",
    "right = np.array((0, 1))\n",
    "\n",
    "pieces = {\n",
    "    '\\\\': {tuple(left): [down], tuple(down): [left], tuple(up): [right], tuple(right): [up]},\n",
    "    '/': {tuple(left):[up], tuple(up): [left], tuple(down): [right], tuple(right): [down]},\n",
    "    '-': {tuple(left): [right], tuple(right): [left], tuple(up): [left, right], tuple(down): [left, right]},\n",
    "    '|': {tuple(up): [down], tuple(down): [up], tuple(left): [up, down], tuple(right): [up, down]},\n",
    "}"
   ]
  },
  {
   "cell_type": "code",
   "execution_count": 116,
   "id": "aa5034d1-3b8b-4d05-b0c2-3ac0d8ce5cc3",
   "metadata": {},
   "outputs": [],
   "source": [
    "energized = np.zeros(data.shape)\n",
    "start = np.array([0,-1])\n",
    "\n",
    "visited = []\n",
    "\n",
    "def move(last, current):\n",
    "    # print(f\"current {current}\")\n",
    "    state = tuple(last) + tuple(current)\n",
    "    if state in visited:\n",
    "        return\n",
    "    else:\n",
    "        visited.append(state)\n",
    "\n",
    "    if any(current < np.array([0,0])):\n",
    "        return\n",
    "    elif any(current >= data.shape):\n",
    "        return\n",
    "\n",
    "    energized[tuple(current)] = 1\n",
    "    dir = current - last\n",
    "    # print(f\"dir: {dir}\")\n",
    "    # print(f\"piece {data[tuple(current)]}\")\n",
    "    if data[tuple(current)] == '.':\n",
    "        move(current, current+dir)\n",
    "    else:\n",
    "        # print(f\"moves {pieces[data[tuple(current)]][tuple(-dir)]}\")\n",
    "        for d in pieces[data[tuple(current)]][tuple(-dir)]:\n",
    "            move(current, current+d)\n",
    "\n",
    "\n",
    "move(start, start+right)"
   ]
  },
  {
   "cell_type": "code",
   "execution_count": 117,
   "id": "4cb67e9e-9691-4556-a80f-2a1580dd055f",
   "metadata": {},
   "outputs": [
    {
     "data": {
      "text/plain": [
       "array([[1., 1., 1., ..., 1., 1., 1.],\n",
       "       [1., 0., 0., ..., 0., 1., 1.],\n",
       "       [1., 0., 0., ..., 0., 1., 1.],\n",
       "       ...,\n",
       "       [1., 1., 1., ..., 0., 0., 0.],\n",
       "       [0., 0., 0., ..., 0., 0., 0.],\n",
       "       [0., 0., 0., ..., 1., 1., 1.]])"
      ]
     },
     "execution_count": 117,
     "metadata": {},
     "output_type": "execute_result"
    }
   ],
   "source": [
    "energized"
   ]
  },
  {
   "cell_type": "code",
   "execution_count": 118,
   "id": "e9665e21-cd43-4c99-b93f-33ce6b0a1d5c",
   "metadata": {},
   "outputs": [
    {
     "data": {
      "text/plain": [
       "7067.0"
      ]
     },
     "execution_count": 118,
     "metadata": {},
     "output_type": "execute_result"
    }
   ],
   "source": [
    "total = np.sum(energized)\n",
    "total"
   ]
  },
  {
   "cell_type": "code",
   "execution_count": 115,
   "id": "50e12a9e-ffbc-485e-9724-79f97cd341f9",
   "metadata": {},
   "outputs": [
    {
     "name": "stderr",
     "output_type": "stream",
     "text": [
      "answer a: None\n",
      "submitting for part a\n",
      "coerced float64 value 7067.0 for 2023/16\n"
     ]
    },
    {
     "name": "stdout",
     "output_type": "stream",
     "text": [
      "\u001b[32mThat's the right answer!  You are one gold star closer to restoring snow operations. [Continue to Part Two]\u001b[0m\n"
     ]
    },
    {
     "data": {
      "text/plain": [
       "<urllib3.response.HTTPResponse at 0x16aa930d0>"
      ]
     },
     "execution_count": 115,
     "metadata": {},
     "output_type": "execute_result"
    }
   ],
   "source": [
    "submit(total, year=YEAR, day=DAY)"
   ]
  },
  {
   "cell_type": "markdown",
   "id": "ba3abf71-91fd-4fa4-94d3-4cf7b59d923f",
   "metadata": {},
   "source": [
    "# Part B"
   ]
  },
  {
   "cell_type": "code",
   "execution_count": 156,
   "id": "d1750501-a61c-4489-8b10-d40b194efb37",
   "metadata": {},
   "outputs": [],
   "source": [
    "def move(last, current):\n",
    "    # print(f\"current {current}\")\n",
    "    state = tuple(last) + tuple(current)\n",
    "    if state in visited:\n",
    "        return\n",
    "    else:\n",
    "        visited.append(state)\n",
    "\n",
    "    if any(current < np.array([0,0])):\n",
    "        return\n",
    "    elif any(current >= data.shape):\n",
    "        return\n",
    "\n",
    "    energized[tuple(current)] = 1\n",
    "    dir = current - last\n",
    "    # print(f\"dir: {dir}\")\n",
    "    # print(f\"piece {data[tuple(current)]}\")\n",
    "    if data[tuple(current)] == '.':\n",
    "        move(current, current+dir)\n",
    "    else:\n",
    "        # print(f\"moves {pieces[data[tuple(current)]][tuple(-dir)]}\")\n",
    "        for d in pieces[data[tuple(current)]][tuple(-dir)]:\n",
    "            move(current, current+d)\n",
    "\n",
    "\n"
   ]
  },
  {
   "cell_type": "code",
   "execution_count": 157,
   "id": "558b9657-019f-4a4a-9f1d-5b94e5bc37dc",
   "metadata": {},
   "outputs": [],
   "source": [
    "starts = [[np.array([-1,i]), np.array([-1,i]) + down] for i in range(data.shape[1])] + \\\n",
    "    [[np.array([data.shape[0],i]), np.array([data.shape[0],i]) + up] for i in range(data.shape[1])] + \\\n",
    "    [[np.array([i, -1]), np.array([i, -1]) + right] for i in range(data.shape[0])] + \\\n",
    "    [[np.array([i, data.shape[1]]), np.array([i, data.shape[1]]) + left] for i in range(data.shape[1])]\n",
    "maxe = 0\n",
    "for p1, p2 in starts:\n",
    "    energized = np.zeros(data.shape)\n",
    "    visited = []\n",
    "    move(p1, p2)\n",
    "    maxe = max(maxe, np.sum(energized))"
   ]
  },
  {
   "cell_type": "code",
   "execution_count": 139,
   "id": "49d0987c-3711-4a4f-94da-26c952f48aad",
   "metadata": {},
   "outputs": [
    {
     "data": {
      "text/plain": [
       "7324.0"
      ]
     },
     "execution_count": 139,
     "metadata": {},
     "output_type": "execute_result"
    }
   ],
   "source": [
    "maxe"
   ]
  },
  {
   "cell_type": "code",
   "execution_count": 140,
   "id": "41e9575d-c42d-4f85-8bf5-1693eb554028",
   "metadata": {},
   "outputs": [
    {
     "name": "stderr",
     "output_type": "stream",
     "text": [
      "answer a: 7067\n",
      "submitting for part b (part a is already completed)\n",
      "coerced float64 value 7324.0 for 2023/16\n"
     ]
    },
    {
     "name": "stdout",
     "output_type": "stream",
     "text": [
      "\u001b[32mThat's the right answer!  You are one gold star closer to restoring snow operations.You have completed Day 16! You can [Shareon\n",
      "  Twitter\n",
      "Mastodon] this victory or [Return to Your Advent Calendar].\u001b[0m\n"
     ]
    },
    {
     "data": {
      "text/plain": [
       "<urllib3.response.HTTPResponse at 0x16accb130>"
      ]
     },
     "execution_count": 140,
     "metadata": {},
     "output_type": "execute_result"
    }
   ],
   "source": [
    "submit(maxe, year=YEAR, day=DAY)"
   ]
  },
  {
   "cell_type": "markdown",
   "id": "3ca8b896-42d2-4a50-83d7-574980345c77",
   "metadata": {},
   "source": [
    "# No globals"
   ]
  },
  {
   "cell_type": "code",
   "execution_count": 173,
   "id": "b509a10a-af8d-4393-80bc-7db418792937",
   "metadata": {},
   "outputs": [],
   "source": [
    "def move(visited, last, current):\n",
    "    # print(f\"current {current}\")\n",
    "    state = tuple(last) + tuple(current)\n",
    "    if state in visited:\n",
    "        return []\n",
    "    else:\n",
    "        visited.append(state)\n",
    "\n",
    "    if any(current < np.array([0,0])):\n",
    "        return [tuple(last)]\n",
    "    elif any(current >= data.shape):\n",
    "        return [tuple(last)]\n",
    "\n",
    "    energized[tuple(current)] = 1\n",
    "    dir = current - last\n",
    "    # print(f\"dir: {dir}\")\n",
    "    # print(f\"piece {data[tuple(current)]}\")\n",
    "    path = [tuple(last)]\n",
    "    if data[tuple(current)] == '.':\n",
    "        path += move(visited, current, current+dir)\n",
    "    else:\n",
    "        # print(f\"moves {pieces[data[tuple(current)]][tuple(-dir)]}\")\n",
    "        for d in pieces[data[tuple(current)]][tuple(-dir)]:\n",
    "            path += move(visited, current, current+d)\n",
    "    return path"
   ]
  },
  {
   "cell_type": "code",
   "execution_count": 175,
   "id": "ca37fefc-b700-481d-ba8a-9b4449c7b882",
   "metadata": {},
   "outputs": [],
   "source": [
    "starts = [[np.array([-1,i]), np.array([-1,i]) + down] for i in range(data.shape[1])] + \\\n",
    "    [[np.array([data.shape[0],i]), np.array([data.shape[0],i]) + up] for i in range(data.shape[1])] + \\\n",
    "    [[np.array([i, -1]), np.array([i, -1]) + right] for i in range(data.shape[0])] + \\\n",
    "    [[np.array([i, data.shape[1]]), np.array([i, data.shape[1]]) + left] for i in range(data.shape[1])]\n",
    "maxe = 0\n",
    "for p1, p2 in starts:\n",
    "    energized = np.zeros(data.shape)\n",
    "    p = move([], p1, p2)\n",
    "    maxe = max(maxe, len(set(p)) - 1)"
   ]
  },
  {
   "cell_type": "code",
   "execution_count": 176,
   "id": "0bc4a261-e9a2-4736-ba20-874b9d3fb200",
   "metadata": {},
   "outputs": [
    {
     "data": {
      "text/plain": [
       "7324"
      ]
     },
     "execution_count": 176,
     "metadata": {},
     "output_type": "execute_result"
    }
   ],
   "source": [
    "maxe"
   ]
  },
  {
   "cell_type": "code",
   "execution_count": 140,
   "id": "5217a063-a0a5-4363-8710-cb584c68a889",
   "metadata": {},
   "outputs": [
    {
     "name": "stderr",
     "output_type": "stream",
     "text": [
      "answer a: 7067\n",
      "submitting for part b (part a is already completed)\n",
      "coerced float64 value 7324.0 for 2023/16\n"
     ]
    },
    {
     "name": "stdout",
     "output_type": "stream",
     "text": [
      "\u001b[32mThat's the right answer!  You are one gold star closer to restoring snow operations.You have completed Day 16! You can [Shareon\n",
      "  Twitter\n",
      "Mastodon] this victory or [Return to Your Advent Calendar].\u001b[0m\n"
     ]
    },
    {
     "data": {
      "text/plain": [
       "<urllib3.response.HTTPResponse at 0x16accb130>"
      ]
     },
     "execution_count": 140,
     "metadata": {},
     "output_type": "execute_result"
    }
   ],
   "source": [
    "submit(maxe, year=YEAR, day=DAY)"
   ]
  }
 ],
 "metadata": {
  "kernelspec": {
   "display_name": "Python 3 (ipykernel)",
   "language": "python",
   "name": "python3"
  },
  "language_info": {
   "codemirror_mode": {
    "name": "ipython",
    "version": 3
   },
   "file_extension": ".py",
   "mimetype": "text/x-python",
   "name": "python",
   "nbconvert_exporter": "python",
   "pygments_lexer": "ipython3",
   "version": "3.12.0"
  }
 },
 "nbformat": 4,
 "nbformat_minor": 5
}
