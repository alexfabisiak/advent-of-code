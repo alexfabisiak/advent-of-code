{
 "cells": [
  {
   "cell_type": "code",
   "execution_count": 110,
   "id": "cca57e6d-5224-493a-a2a9-5e23bb5546c2",
   "metadata": {},
   "outputs": [],
   "source": [
    "from aocd import get_data, submit\n",
    "# from aocd.get import current_day\n",
    "\n",
    "from IPython.display import display\n",
    "from IPython.core.display import Markdown\n",
    "\n",
    "import math\n",
    "import numpy as np\n",
    "import re\n",
    "import sys\n",
    "sys.setrecursionlimit(15000)\n"
   ]
  },
  {
   "cell_type": "code",
   "execution_count": 2,
   "id": "e4d6b8a4-25ef-4630-8aa6-6c95c7a8be09",
   "metadata": {},
   "outputs": [],
   "source": [
    "DAY = 16\n",
    "YEAR = 2023"
   ]
  },
  {
   "cell_type": "code",
   "execution_count": 3,
   "id": "388077b9-edd1-4ab9-9a3c-5e24b66346a8",
   "metadata": {},
   "outputs": [
    {
     "data": {
      "text/markdown": [
       "#### See [2023 Day 16](https://adventofcode.com/2023/day/16)."
      ],
      "text/plain": [
       "<IPython.core.display.Markdown object>"
      ]
     },
     "metadata": {},
     "output_type": "display_data"
    }
   ],
   "source": [
    "url = f\"https://adventofcode.com/{YEAR}/day/{DAY}\"\n",
    "display(Markdown(f\"#### See [{YEAR} Day {DAY}]({url}).\"))"
   ]
  },
  {
   "cell_type": "code",
   "execution_count": 166,
   "id": "ced1e284-733b-49e7-9154-18d54af53bdb",
   "metadata": {},
   "outputs": [],
   "source": [
    "data = get_data(year=YEAR, day=DAY)"
   ]
  },
  {
   "cell_type": "code",
   "execution_count": 167,
   "id": "97d3a4d3-b08a-4bff-bfb8-d37cc82a395d",
   "metadata": {},
   "outputs": [
    {
     "data": {
      "text/plain": [
       "['\\\\..................-..........................-............................................-...-.............|',\n",
       " '..........-........//....../...-....../.....|...............................|.............-.....-.............',\n",
       " '..\\\\....\\\\............./...\\\\.......\\\\/.................................................../................-......',\n",
       " '|...................................................\\\\...................|...||-..............|................',\n",
       " '.....\\\\.................\\\\.........................|-.....|.........-.\\\\...............-.........|....\\\\.......\\\\..']"
      ]
     },
     "execution_count": 167,
     "metadata": {},
     "output_type": "execute_result"
    }
   ],
   "source": [
    "data.splitlines()[:5]"
   ]
  },
  {
   "cell_type": "markdown",
   "id": "c644d7ff-3812-4bcf-b4a4-6feb40c40374",
   "metadata": {},
   "source": [
    "# Part A"
   ]
  },
  {
   "cell_type": "code",
   "execution_count": 216,
   "id": "b871c35c-b8cf-4b9f-84ce-456f133addd6",
   "metadata": {},
   "outputs": [],
   "source": [
    "data = r\"\"\".|...\\....\n",
    "|.-.\\.....\n",
    ".....|-...\n",
    "........|.\n",
    "..........\n",
    ".........\\\n",
    "..../.\\\\..\n",
    ".-.-/..|..\n",
    ".|....-|.\\\n",
    "..//.|....\n",
    "\"\"\""
   ]
  },
  {
   "cell_type": "code",
   "execution_count": 541,
   "id": "de7af9a0-2d14-4ad1-9879-8767f78e4cda",
   "metadata": {},
   "outputs": [
    {
     "data": {
      "text/plain": [
       "array([['\\\\', '.', '.', ..., '.', '.', '|'],\n",
       "       ['.', '.', '.', ..., '.', '.', '.'],\n",
       "       ['.', '.', '\\\\', ..., '.', '.', '.'],\n",
       "       ...,\n",
       "       ['.', '.', '.', ..., '.', '.', '.'],\n",
       "       ['.', '.', '.', ..., '.', '.', '.'],\n",
       "       ['.', '.', '\\\\', ..., '.', '.', '.']], dtype='<U1')"
      ]
     },
     "execution_count": 541,
     "metadata": {},
     "output_type": "execute_result"
    }
   ],
   "source": [
    "data = np.array([list(l) for l in data.splitlines()])\n",
    "data"
   ]
  },
  {
   "cell_type": "code",
   "execution_count": 544,
   "id": "9098a5f0-a201-40e1-bb1a-3b5466b8266f",
   "metadata": {},
   "outputs": [],
   "source": [
    "up = np.array((-1, 0))\n",
    "down = np.array((1, 0))\n",
    "left = np.array((0, -1))\n",
    "right = np.array((0, 1))\n",
    "\n",
    "pieces = {\n",
    "    '\\\\': {tuple(left): [down], tuple(down): [left], tuple(up): [right], tuple(right): [up]},\n",
    "    '/': {tuple(left):[up], tuple(up): [left], tuple(down): [right], tuple(right): [down]},\n",
    "    '-': {tuple(left): [right], tuple(right): [left], tuple(up): [left, right], tuple(down): [left, right]},\n",
    "    '|': {tuple(up): [down], tuple(down): [up], tuple(left): [up, down], tuple(right): [up, down]},\n",
    "}"
   ]
  },
  {
   "cell_type": "code",
   "execution_count": 116,
   "id": "aa5034d1-3b8b-4d05-b0c2-3ac0d8ce5cc3",
   "metadata": {},
   "outputs": [],
   "source": [
    "energized = np.zeros(data.shape)\n",
    "start = np.array([0,-1])\n",
    "\n",
    "visited = []\n",
    "\n",
    "def move(last, current):\n",
    "    # print(f\"current {current}\")\n",
    "    state = tuple(last) + tuple(current)\n",
    "    if state in visited:\n",
    "        return\n",
    "    else:\n",
    "        visited.append(state)\n",
    "\n",
    "    if any(current < np.array([0,0])):\n",
    "        return\n",
    "    elif any(current >= data.shape):\n",
    "        return\n",
    "\n",
    "    energized[tuple(current)] = 1\n",
    "    dir = current - last\n",
    "    # print(f\"dir: {dir}\")\n",
    "    # print(f\"piece {data[tuple(current)]}\")\n",
    "    if data[tuple(current)] == '.':\n",
    "        move(current, current+dir)\n",
    "    else:\n",
    "        # print(f\"moves {pieces[data[tuple(current)]][tuple(-dir)]}\")\n",
    "        for d in pieces[data[tuple(current)]][tuple(-dir)]:\n",
    "            move(current, current+d)\n",
    "\n",
    "\n",
    "move(start, start+right)"
   ]
  },
  {
   "cell_type": "code",
   "execution_count": 117,
   "id": "4cb67e9e-9691-4556-a80f-2a1580dd055f",
   "metadata": {},
   "outputs": [
    {
     "data": {
      "text/plain": [
       "array([[1., 1., 1., ..., 1., 1., 1.],\n",
       "       [1., 0., 0., ..., 0., 1., 1.],\n",
       "       [1., 0., 0., ..., 0., 1., 1.],\n",
       "       ...,\n",
       "       [1., 1., 1., ..., 0., 0., 0.],\n",
       "       [0., 0., 0., ..., 0., 0., 0.],\n",
       "       [0., 0., 0., ..., 1., 1., 1.]])"
      ]
     },
     "execution_count": 117,
     "metadata": {},
     "output_type": "execute_result"
    }
   ],
   "source": [
    "energized"
   ]
  },
  {
   "cell_type": "code",
   "execution_count": 118,
   "id": "e9665e21-cd43-4c99-b93f-33ce6b0a1d5c",
   "metadata": {},
   "outputs": [
    {
     "data": {
      "text/plain": [
       "7067.0"
      ]
     },
     "execution_count": 118,
     "metadata": {},
     "output_type": "execute_result"
    }
   ],
   "source": [
    "total = np.sum(energized)\n",
    "total"
   ]
  },
  {
   "cell_type": "code",
   "execution_count": 115,
   "id": "50e12a9e-ffbc-485e-9724-79f97cd341f9",
   "metadata": {},
   "outputs": [
    {
     "name": "stderr",
     "output_type": "stream",
     "text": [
      "answer a: None\n",
      "submitting for part a\n",
      "coerced float64 value 7067.0 for 2023/16\n"
     ]
    },
    {
     "name": "stdout",
     "output_type": "stream",
     "text": [
      "\u001b[32mThat's the right answer!  You are one gold star closer to restoring snow operations. [Continue to Part Two]\u001b[0m\n"
     ]
    },
    {
     "data": {
      "text/plain": [
       "<urllib3.response.HTTPResponse at 0x16aa930d0>"
      ]
     },
     "execution_count": 115,
     "metadata": {},
     "output_type": "execute_result"
    }
   ],
   "source": [
    "submit(total, year=YEAR, day=DAY)"
   ]
  },
  {
   "cell_type": "markdown",
   "id": "ba3abf71-91fd-4fa4-94d3-4cf7b59d923f",
   "metadata": {},
   "source": [
    "# Part B"
   ]
  },
  {
   "cell_type": "code",
   "execution_count": 156,
   "id": "d1750501-a61c-4489-8b10-d40b194efb37",
   "metadata": {},
   "outputs": [],
   "source": [
    "def move(last, current):\n",
    "    # print(f\"current {current}\")\n",
    "    state = tuple(last) + tuple(current)\n",
    "    if state in visited:\n",
    "        return\n",
    "    else:\n",
    "        visited.append(state)\n",
    "\n",
    "    if any(current < np.array([0,0])):\n",
    "        return\n",
    "    elif any(current >= data.shape):\n",
    "        return\n",
    "\n",
    "    energized[tuple(current)] = 1\n",
    "    dir = current - last\n",
    "    # print(f\"dir: {dir}\")\n",
    "    # print(f\"piece {data[tuple(current)]}\")\n",
    "    if data[tuple(current)] == '.':\n",
    "        move(current, current+dir)\n",
    "    else:\n",
    "        # print(f\"moves {pieces[data[tuple(current)]][tuple(-dir)]}\")\n",
    "        for d in pieces[data[tuple(current)]][tuple(-dir)]:\n",
    "            move(current, current+d)\n",
    "\n",
    "\n"
   ]
  },
  {
   "cell_type": "code",
   "execution_count": 157,
   "id": "558b9657-019f-4a4a-9f1d-5b94e5bc37dc",
   "metadata": {},
   "outputs": [],
   "source": [
    "starts = [[np.array([-1,i]), np.array([-1,i]) + down] for i in range(data.shape[1])] + \\\n",
    "    [[np.array([data.shape[0],i]), np.array([data.shape[0],i]) + up] for i in range(data.shape[1])] + \\\n",
    "    [[np.array([i, -1]), np.array([i, -1]) + right] for i in range(data.shape[0])] + \\\n",
    "    [[np.array([i, data.shape[1]]), np.array([i, data.shape[1]]) + left] for i in range(data.shape[1])]\n",
    "maxe = 0\n",
    "for p1, p2 in starts:\n",
    "    energized = np.zeros(data.shape)\n",
    "    visited = []\n",
    "    move(p1, p2)\n",
    "    maxe = max(maxe, np.sum(energized))"
   ]
  },
  {
   "cell_type": "code",
   "execution_count": 139,
   "id": "49d0987c-3711-4a4f-94da-26c952f48aad",
   "metadata": {},
   "outputs": [
    {
     "data": {
      "text/plain": [
       "7324.0"
      ]
     },
     "execution_count": 139,
     "metadata": {},
     "output_type": "execute_result"
    }
   ],
   "source": [
    "maxe"
   ]
  },
  {
   "cell_type": "code",
   "execution_count": 140,
   "id": "41e9575d-c42d-4f85-8bf5-1693eb554028",
   "metadata": {},
   "outputs": [
    {
     "name": "stderr",
     "output_type": "stream",
     "text": [
      "answer a: 7067\n",
      "submitting for part b (part a is already completed)\n",
      "coerced float64 value 7324.0 for 2023/16\n"
     ]
    },
    {
     "name": "stdout",
     "output_type": "stream",
     "text": [
      "\u001b[32mThat's the right answer!  You are one gold star closer to restoring snow operations.You have completed Day 16! You can [Shareon\n",
      "  Twitter\n",
      "Mastodon] this victory or [Return to Your Advent Calendar].\u001b[0m\n"
     ]
    },
    {
     "data": {
      "text/plain": [
       "<urllib3.response.HTTPResponse at 0x16accb130>"
      ]
     },
     "execution_count": 140,
     "metadata": {},
     "output_type": "execute_result"
    }
   ],
   "source": [
    "submit(maxe, year=YEAR, day=DAY)"
   ]
  },
  {
   "cell_type": "markdown",
   "id": "3ca8b896-42d2-4a50-83d7-574980345c77",
   "metadata": {},
   "source": [
    "# No globals"
   ]
  },
  {
   "cell_type": "code",
   "execution_count": 545,
   "id": "b509a10a-af8d-4393-80bc-7db418792937",
   "metadata": {},
   "outputs": [],
   "source": [
    "def move(visited, last, current):\n",
    "    # print(f\"current {current}\")\n",
    "    state = tuple(last) + tuple(current)\n",
    "    if state in visited:\n",
    "        return []\n",
    "    else:\n",
    "        visited.append(state)\n",
    "\n",
    "    if any(current < np.array([0,0])):\n",
    "        return [tuple(last)]\n",
    "    elif any(current >= data.shape):\n",
    "        return [tuple(last)]\n",
    "\n",
    "    energized[tuple(current)] = 1\n",
    "    dir = current - last\n",
    "    # print(f\"dir: {dir}\")\n",
    "    # print(f\"piece {data[tuple(current)]}\")\n",
    "    path = [tuple(last)]\n",
    "    if data[tuple(current)] == '.':\n",
    "        path += move(visited, current, current+dir)\n",
    "    else:\n",
    "        # print(f\"moves {pieces[data[tuple(current)]][tuple(-dir)]}\")\n",
    "        for d in pieces[data[tuple(current)]][tuple(-dir)]:\n",
    "            path += move(visited, current, current+d)\n",
    "    return path"
   ]
  },
  {
   "cell_type": "code",
   "execution_count": 546,
   "id": "ca37fefc-b700-481d-ba8a-9b4449c7b882",
   "metadata": {},
   "outputs": [],
   "source": [
    "starts = [[np.array([-1,i]), np.array([-1,i]) + down] for i in range(data.shape[1])] + \\\n",
    "    [[np.array([data.shape[0],i]), np.array([data.shape[0],i]) + up] for i in range(data.shape[1])] + \\\n",
    "    [[np.array([i, -1]), np.array([i, -1]) + right] for i in range(data.shape[0])] + \\\n",
    "    [[np.array([i, data.shape[1]]), np.array([i, data.shape[1]]) + left] for i in range(data.shape[1])]\n",
    "maxe = 0\n",
    "for p1, p2 in starts:\n",
    "    energized = np.zeros(data.shape)\n",
    "    p = move([], p1, p2)\n",
    "    maxe = max(maxe, len(set(p)) - 1)"
   ]
  },
  {
   "cell_type": "code",
   "execution_count": 547,
   "id": "0bc4a261-e9a2-4736-ba20-874b9d3fb200",
   "metadata": {},
   "outputs": [
    {
     "data": {
      "text/plain": [
       "7324"
      ]
     },
     "execution_count": 547,
     "metadata": {},
     "output_type": "execute_result"
    }
   ],
   "source": [
    "maxe"
   ]
  },
  {
   "cell_type": "code",
   "execution_count": 140,
   "id": "5217a063-a0a5-4363-8710-cb584c68a889",
   "metadata": {},
   "outputs": [
    {
     "name": "stderr",
     "output_type": "stream",
     "text": [
      "answer a: 7067\n",
      "submitting for part b (part a is already completed)\n",
      "coerced float64 value 7324.0 for 2023/16\n"
     ]
    },
    {
     "name": "stdout",
     "output_type": "stream",
     "text": [
      "\u001b[32mThat's the right answer!  You are one gold star closer to restoring snow operations.You have completed Day 16! You can [Shareon\n",
      "  Twitter\n",
      "Mastodon] this victory or [Return to Your Advent Calendar].\u001b[0m\n"
     ]
    },
    {
     "data": {
      "text/plain": [
       "<urllib3.response.HTTPResponse at 0x16accb130>"
      ]
     },
     "execution_count": 140,
     "metadata": {},
     "output_type": "execute_result"
    }
   ],
   "source": [
    "submit(maxe, year=YEAR, day=DAY)"
   ]
  },
  {
   "cell_type": "markdown",
   "id": "ae9ed27d-179c-401b-880b-040833e774a4",
   "metadata": {},
   "source": [
    "# Caching"
   ]
  },
  {
   "cell_type": "code",
   "execution_count": 548,
   "id": "c15f338b-7d0f-405a-90e7-f95b8805b16b",
   "metadata": {},
   "outputs": [],
   "source": [
    "data = get_data(year=YEAR, day=DAY)"
   ]
  },
  {
   "cell_type": "code",
   "execution_count": 609,
   "id": "de9bf795-59fc-4fb4-ab2e-9af4a863f5c6",
   "metadata": {},
   "outputs": [],
   "source": [
    "tiles,L,R,U,D,V,H=[x.strip()for x in data.splitlines()*2],'L','R','U','D','UD','LR'\n",
    "dirs,n,m,={R:(1,0),L:(-1,0),U:(0,-1),D:(0,1)},list(range(len(tiles))),list(range(len(tiles[0])))\n",
    "M={R:{'/':U,'\\\\':D,'|':V},L:{'/':D,'\\\\':U,'|':V},U:{'/':R,'\\\\':L,'-':H},D:{'/':L,'\\\\':R,'-':H}}\n",
    "S=[(x,0,D)for x in m]+[(0,y,R)for y in n]+[(x,n[-1],U)for x in m]+[(m[-1],y,L)for y in n]"
   ]
  },
  {
   "cell_type": "code",
   "execution_count": 612,
   "id": "c66874b8-1da1-43e0-83fe-414d1179a8fa",
   "metadata": {},
   "outputs": [
    {
     "name": "stdout",
     "output_type": "stream",
     "text": [
      "15779\n",
      "15836\n",
      "CPU times: user 14.8 s, sys: 107 ms, total: 14.9 s\n",
      "Wall time: 15 s\n"
     ]
    }
   ],
   "source": [
    "%%time\n",
    "# BFS\n",
    "def traverse(s):\n",
    "  lp,Q = set(),[s]\n",
    "  while Q:\n",
    "    x, y, dir = Q.pop(0)\n",
    "    if (x, y, dir) not in lp and x in (m) and y in (n):\n",
    "      lp.add((x, y, dir))\n",
    "      [Q.append((x+dirs[d][0],y+dirs[d][1],d))for d in M[dir].get(tiles[y][x],dir)]\n",
    "  return len({(x, y) for x, y, _ in lp})\n",
    "p = traverse((0,0,R))\n",
    "pp = max(traverse(s) for s in S)\n",
    "print(p)\n",
    "print(pp)"
   ]
  },
  {
   "cell_type": "code",
   "execution_count": 584,
   "id": "8dbb1c0f-2284-4d26-8c41-21d509c7781d",
   "metadata": {},
   "outputs": [
    {
     "name": "stdout",
     "output_type": "stream",
     "text": [
      "7067\n",
      "7324\n",
      "CPU times: user 2min 57s, sys: 622 ms, total: 2min 58s\n",
      "Wall time: 2min 59s\n"
     ]
    }
   ],
   "source": [
    "%%time\n",
    "# DFS\n",
    "lp = []\n",
    "def traverse(s):\n",
    "    global lp\n",
    "    x, y, dir = s\n",
    "    if s not in lp and x in (m) and y in (n):\n",
    "        path = [(x,y,dir)]\n",
    "        for d in M[dir].get(tiles[y][x],dir):\n",
    "            lp += [s]\n",
    "            path += traverse((x+dirs[d][0],y+dirs[d][1],d))\n",
    "    else:\n",
    "        path = []\n",
    "    return path\n",
    "p = len({(x,y) for x,y,_ in traverse((0,0,R))})\n",
    "e = []\n",
    "for s in S:\n",
    "    lp = []\n",
    "    e.append(len({(x,y) for x,y,_ in traverse(s)}))\n",
    "pp = max(e)\n",
    "print(p)\n",
    "print(pp)"
   ]
  },
  {
   "cell_type": "code",
   "execution_count": 613,
   "id": "de2d75dd-c55a-47ee-95e9-46f74fa8a985",
   "metadata": {},
   "outputs": [],
   "source": [
    "def deref1l(l):\n",
    "    result = set([x for x in l if not isinstance(x,list)])\n",
    "    for ll in [x for x in l if isinstance(x, list)]:\n",
    "        result |= set([x for x in ll if not isinstance(x,list)])\n",
    "    return list(result)"
   ]
  },
  {
   "cell_type": "code",
   "execution_count": 614,
   "id": "288aee28-b3aa-4ae4-80f5-b1df69724e18",
   "metadata": {},
   "outputs": [
    {
     "ename": "KeyboardInterrupt",
     "evalue": "",
     "output_type": "error",
     "traceback": [
      "\u001b[0;31m---------------------------------------------------------------------------\u001b[0m",
      "\u001b[0;31mKeyboardInterrupt\u001b[0m                         Traceback (most recent call last)",
      "File \u001b[0;32m<timed exec>:23\u001b[0m\n",
      "File \u001b[0;32m<timed exec>:15\u001b[0m, in \u001b[0;36mtraverse\u001b[0;34m(s)\u001b[0m\n",
      "File \u001b[0;32m<timed exec>:15\u001b[0m, in \u001b[0;36mtraverse\u001b[0;34m(s)\u001b[0m\n",
      "    \u001b[0;31m[... skipping similar frames: traverse at line 15 (32 times)]\u001b[0m\n",
      "File \u001b[0;32m<timed exec>:15\u001b[0m, in \u001b[0;36mtraverse\u001b[0;34m(s)\u001b[0m\n",
      "File \u001b[0;32m<timed exec>:7\u001b[0m, in \u001b[0;36mtraverse\u001b[0;34m(s)\u001b[0m\n",
      "Cell \u001b[0;32mIn[613], line 4\u001b[0m, in \u001b[0;36mderef1l\u001b[0;34m(l)\u001b[0m\n\u001b[1;32m      2\u001b[0m result \u001b[38;5;241m=\u001b[39m \u001b[38;5;28mset\u001b[39m([x \u001b[38;5;28;01mfor\u001b[39;00m x \u001b[38;5;129;01min\u001b[39;00m l \u001b[38;5;28;01mif\u001b[39;00m \u001b[38;5;129;01mnot\u001b[39;00m \u001b[38;5;28misinstance\u001b[39m(x,\u001b[38;5;28mlist\u001b[39m)])\n\u001b[1;32m      3\u001b[0m \u001b[38;5;28;01mfor\u001b[39;00m ll \u001b[38;5;129;01min\u001b[39;00m [x \u001b[38;5;28;01mfor\u001b[39;00m x \u001b[38;5;129;01min\u001b[39;00m l \u001b[38;5;28;01mif\u001b[39;00m \u001b[38;5;28misinstance\u001b[39m(x, \u001b[38;5;28mlist\u001b[39m)]:\n\u001b[0;32m----> 4\u001b[0m     result \u001b[38;5;241m|\u001b[39m\u001b[38;5;241m=\u001b[39m \u001b[38;5;28;43mset\u001b[39;49m\u001b[43m(\u001b[49m\u001b[43m[\u001b[49m\u001b[43mx\u001b[49m\u001b[43m \u001b[49m\u001b[38;5;28;43;01mfor\u001b[39;49;00m\u001b[43m \u001b[49m\u001b[43mx\u001b[49m\u001b[43m \u001b[49m\u001b[38;5;129;43;01min\u001b[39;49;00m\u001b[43m \u001b[49m\u001b[43mll\u001b[49m\u001b[43m \u001b[49m\u001b[38;5;28;43;01mif\u001b[39;49;00m\u001b[43m \u001b[49m\u001b[38;5;129;43;01mnot\u001b[39;49;00m\u001b[43m \u001b[49m\u001b[38;5;28;43misinstance\u001b[39;49m\u001b[43m(\u001b[49m\u001b[43mx\u001b[49m\u001b[43m,\u001b[49m\u001b[38;5;28;43mlist\u001b[39;49m\u001b[43m)\u001b[49m\u001b[43m]\u001b[49m\u001b[43m)\u001b[49m\n\u001b[1;32m      5\u001b[0m \u001b[38;5;28;01mreturn\u001b[39;00m \u001b[38;5;28mlist\u001b[39m(result)\n",
      "\u001b[0;31mKeyboardInterrupt\u001b[0m: "
     ]
    }
   ],
   "source": [
    "%%time\n",
    "# DFS cached\n",
    "cache = defaultdict(list)\n",
    "def traverse(s):\n",
    "    global lp\n",
    "    x, y, dir = s\n",
    "    if s in cache:\n",
    "        return deref1l([x for x in cache[s] if x != cache[s]])\n",
    "    path = []\n",
    "    if s in lp:\n",
    "        path += [cache[s]]\n",
    "    elif x in (m) and y in (n):\n",
    "        path += [s]\n",
    "        for d in M[dir].get(tiles[y][x],dir):\n",
    "            lp += [s]\n",
    "            path += traverse((x+dirs[d][0],y+dirs[d][1],d))\n",
    "    cache[s] += path\n",
    "    return path\n",
    "lp = []\n",
    "p = len({(x,y) for x,y,_ in deref1l(traverse((0,0,R)))})\n",
    "e = []\n",
    "for s in S:\n",
    "    lp = []\n",
    "    e.append(len({(x,y) for x,y,_ in deref1l(traverse(s))}))\n",
    "pp = max(e)\n",
    "print(p)\n",
    "print(pp)"
   ]
  },
  {
   "cell_type": "code",
   "execution_count": null,
   "id": "3a5ac09c-bd95-44f8-9b28-b6553b3ac1eb",
   "metadata": {},
   "outputs": [],
   "source": []
  }
 ],
 "metadata": {
  "kernelspec": {
   "display_name": "Python 3 (ipykernel)",
   "language": "python",
   "name": "python3"
  },
  "language_info": {
   "codemirror_mode": {
    "name": "ipython",
    "version": 3
   },
   "file_extension": ".py",
   "mimetype": "text/x-python",
   "name": "python",
   "nbconvert_exporter": "python",
   "pygments_lexer": "ipython3",
   "version": "3.12.0"
  }
 },
 "nbformat": 4,
 "nbformat_minor": 5
}
