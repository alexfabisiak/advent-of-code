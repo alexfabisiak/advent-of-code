{
 "cells": [
  {
   "cell_type": "code",
   "execution_count": 1,
   "id": "cca57e6d-5224-493a-a2a9-5e23bb5546c2",
   "metadata": {},
   "outputs": [],
   "source": [
    "from aocd import get_data, submit\n",
    "# from aocd.get import current_day\n",
    "\n",
    "from IPython.display import display\n",
    "from IPython.core.display import Markdown\n",
    "\n",
    "import math\n",
    "import numpy as np\n",
    "import re\n",
    "import sys"
   ]
  },
  {
   "cell_type": "code",
   "execution_count": 126,
   "id": "e4d6b8a4-25ef-4630-8aa6-6c95c7a8be09",
   "metadata": {},
   "outputs": [],
   "source": [
    "DAY = 11\n",
    "YEAR = 2023"
   ]
  },
  {
   "cell_type": "code",
   "execution_count": 127,
   "id": "388077b9-edd1-4ab9-9a3c-5e24b66346a8",
   "metadata": {},
   "outputs": [
    {
     "data": {
      "text/markdown": [
       "#### See [2023 Day 11](https://adventofcode.com/2023/day/11)."
      ],
      "text/plain": [
       "<IPython.core.display.Markdown object>"
      ]
     },
     "metadata": {},
     "output_type": "display_data"
    }
   ],
   "source": [
    "url = f\"https://adventofcode.com/{YEAR}/day/{DAY}\"\n",
    "display(Markdown(f\"#### See [{YEAR} Day {DAY}]({url}).\"))"
   ]
  },
  {
   "cell_type": "code",
   "execution_count": 133,
   "id": "ced1e284-733b-49e7-9154-18d54af53bdb",
   "metadata": {},
   "outputs": [],
   "source": [
    "data = get_data(year=YEAR, day=DAY)"
   ]
  },
  {
   "cell_type": "code",
   "execution_count": 134,
   "id": "97d3a4d3-b08a-4bff-bfb8-d37cc82a395d",
   "metadata": {},
   "outputs": [
    {
     "data": {
      "text/plain": [
       "['.........................#.........#..................#..............#.......#.....#........................#............#.....#...........#',\n",
       " '.............................................#.....................................................#........................................',\n",
       " '.......#............#..........#............................................................................................................',\n",
       " '.#................................................#........#.............................................#..............................#...',\n",
       " '................#.....................#.............................................................................#.......................']"
      ]
     },
     "execution_count": 134,
     "metadata": {},
     "output_type": "execute_result"
    }
   ],
   "source": [
    "data.splitlines()[:5]"
   ]
  },
  {
   "cell_type": "markdown",
   "id": "c644d7ff-3812-4bcf-b4a4-6feb40c40374",
   "metadata": {},
   "source": [
    "# Part A"
   ]
  },
  {
   "cell_type": "code",
   "execution_count": 135,
   "id": "b871c35c-b8cf-4b9f-84ce-456f133addd6",
   "metadata": {},
   "outputs": [],
   "source": [
    "# data = \"\"\"...#......\n",
    "# .......#..\n",
    "# #.........\n",
    "# ..........\n",
    "# ......#...\n",
    "# .#........\n",
    "# .........#\n",
    "# ..........\n",
    "# .......#..\n",
    "# #...#.....\n",
    "# \"\"\""
   ]
  },
  {
   "cell_type": "code",
   "execution_count": 136,
   "id": "c04adc38-8eec-427a-8058-2e935a226acb",
   "metadata": {},
   "outputs": [],
   "source": [
    "data = np.array([list(l) for l in data.splitlines()])"
   ]
  },
  {
   "cell_type": "code",
   "execution_count": 137,
   "id": "e92e7c13-5605-4903-93c7-7eb68ae2f6b9",
   "metadata": {},
   "outputs": [
    {
     "data": {
      "text/plain": [
       "array([['.', '.', '.', ..., '.', '.', '#'],\n",
       "       ['.', '.', '.', ..., '.', '.', '.'],\n",
       "       ['.', '.', '.', ..., '.', '.', '.'],\n",
       "       ...,\n",
       "       ['.', '.', '.', ..., '.', '.', '.'],\n",
       "       ['.', '.', '.', ..., '.', '.', '.'],\n",
       "       ['.', '.', '.', ..., '.', '.', '.']], dtype='<U1')"
      ]
     },
     "execution_count": 137,
     "metadata": {},
     "output_type": "execute_result"
    }
   ],
   "source": [
    "data"
   ]
  },
  {
   "cell_type": "code",
   "execution_count": 138,
   "id": "e5fc6266-91f4-4eb1-a600-a30f7f0ea165",
   "metadata": {},
   "outputs": [],
   "source": [
    "def expand_blank(m):\n",
    "    expand = []\n",
    "    for r in m:\n",
    "        expand.append(r)\n",
    "        if (r == '.').all():\n",
    "            expand.append(r)\n",
    "    return np.array(expand)\n",
    "\n",
    "expanded = expand_blank(expand_blank(data).T).T"
   ]
  },
  {
   "cell_type": "code",
   "execution_count": 139,
   "id": "356acf7b-e68c-4fa3-9173-b731dc8c9f76",
   "metadata": {},
   "outputs": [
    {
     "data": {
      "text/plain": [
       "array([['.', '.', '.', ..., '.', '.', '#'],\n",
       "       ['.', '.', '.', ..., '.', '.', '.'],\n",
       "       ['.', '.', '.', ..., '.', '.', '.'],\n",
       "       ...,\n",
       "       ['.', '.', '.', ..., '.', '.', '.'],\n",
       "       ['.', '.', '.', ..., '.', '.', '.'],\n",
       "       ['.', '.', '.', ..., '.', '.', '.']], dtype='<U1')"
      ]
     },
     "execution_count": 139,
     "metadata": {},
     "output_type": "execute_result"
    }
   ],
   "source": [
    "expanded"
   ]
  },
  {
   "cell_type": "code",
   "execution_count": null,
   "id": "6d7daaaa-9b69-4f6a-a8c8-ea8079dae2f6",
   "metadata": {},
   "outputs": [],
   "source": []
  },
  {
   "cell_type": "code",
   "execution_count": 140,
   "id": "9339231f-06de-46a8-9b39-540a4bebb65a",
   "metadata": {},
   "outputs": [],
   "source": [
    "galaxies = [np.array([a,b]) for a,b in zip(*np.where(expanded=='#'))]"
   ]
  },
  {
   "cell_type": "code",
   "execution_count": 141,
   "id": "3cda9afd-674e-4aa5-bcab-4d48717e95ce",
   "metadata": {},
   "outputs": [],
   "source": [
    "distances = np.zeros([len(galaxies)]*2)\n",
    "\n",
    "for i in range(len(galaxies)):\n",
    "    for j in range(i+1,len(galaxies)):\n",
    "        g1 = galaxies[i]\n",
    "        g2 = galaxies[j]\n",
    "        distances[i,j] = np.abs(g1 - g2).sum()\n",
    "\n",
    "total = distances.sum()"
   ]
  },
  {
   "cell_type": "code",
   "execution_count": 142,
   "id": "c79cd2a2-65c8-4ea6-83e9-2c0b12bfec96",
   "metadata": {},
   "outputs": [
    {
     "data": {
      "text/plain": [
       "9918828.0"
      ]
     },
     "execution_count": 142,
     "metadata": {},
     "output_type": "execute_result"
    }
   ],
   "source": [
    "total"
   ]
  },
  {
   "cell_type": "code",
   "execution_count": 143,
   "id": "50e12a9e-ffbc-485e-9724-79f97cd341f9",
   "metadata": {},
   "outputs": [
    {
     "name": "stderr",
     "output_type": "stream",
     "text": [
      "answer a: 9918828\n",
      "submitting for part b (part a is already completed)\n",
      "coerced float64 value 9918828.0 for 2023/11\n"
     ]
    },
    {
     "name": "stdout",
     "output_type": "stream",
     "text": [
      "aocd will not submit that answer. At 2023-12-11 00:22:05.423526-05:00 you've previously submitted 692506533832 and the server responded with:\n",
      "\u001b[32mThat's the right answer!  You are one gold star closer to restoring snow operations.You have completed Day 11! You can [Shareon\n",
      "  Twitter\n",
      "Mastodon] this victory or [Return to Your Advent Calendar].\u001b[0m\n",
      "It is certain that '9918828' is incorrect, because '9918828' != '692506533832'.\n"
     ]
    }
   ],
   "source": [
    "submit(total, year=YEAR, day=DAY)"
   ]
  },
  {
   "cell_type": "markdown",
   "id": "ba3abf71-91fd-4fa4-94d3-4cf7b59d923f",
   "metadata": {},
   "source": [
    "# Part B"
   ]
  },
  {
   "cell_type": "code",
   "execution_count": 144,
   "id": "50cd4fb8-91cd-4e19-9ca7-34bbdc4dab2c",
   "metadata": {},
   "outputs": [],
   "source": [
    "empty_rows = (data == '.').all(axis=1)\n",
    "\n",
    "empty_cols = (data == '.').all(axis=0)\n",
    "\n",
    "galaxies = [np.array([a,b]) for a,b in zip(*np.where(data=='#'))]\n",
    "\n",
    "distances = np.zeros([len(galaxies)]*2)\n",
    "empty = 1_000_000\n",
    "\n",
    "for i in range(len(galaxies)):\n",
    "    for j in range(i+1,len(galaxies)):\n",
    "        r1, c1 = galaxies[i]\n",
    "        r2, c2 = galaxies[j]\n",
    "        d=0\n",
    "        for r in range(min(r1,r2), max(r1,r2)):\n",
    "            if empty_rows[r]:\n",
    "               d += empty\n",
    "            else:\n",
    "               d += 1\n",
    "        for c in range(min(c1,c2), max(c1,c2)):\n",
    "            if empty_cols[c]:\n",
    "                d += empty\n",
    "            else:\n",
    "                d += 1\n",
    "        distances[i,j] = d\n",
    "\n",
    "total = distances.sum()"
   ]
  },
  {
   "cell_type": "code",
   "execution_count": 145,
   "id": "19d23345-8db8-41e3-a9e7-feac70308316",
   "metadata": {},
   "outputs": [
    {
     "data": {
      "text/plain": [
       "692506533832.0"
      ]
     },
     "execution_count": 145,
     "metadata": {},
     "output_type": "execute_result"
    }
   ],
   "source": [
    "total"
   ]
  },
  {
   "cell_type": "code",
   "execution_count": 120,
   "id": "41e9575d-c42d-4f85-8bf5-1693eb554028",
   "metadata": {},
   "outputs": [
    {
     "name": "stderr",
     "output_type": "stream",
     "text": [
      "answer a: 9918828\n",
      "submitting for part b (part a is already completed)\n",
      "coerced float64 value 692506533832.0 for 2023/11\n"
     ]
    },
    {
     "name": "stdout",
     "output_type": "stream",
     "text": [
      "\u001b[32mThat's the right answer!  You are one gold star closer to restoring snow operations.You have completed Day 11! You can [Shareon\n",
      "  Twitter\n",
      "Mastodon] this victory or [Return to Your Advent Calendar].\u001b[0m\n"
     ]
    },
    {
     "data": {
      "text/plain": [
       "<urllib3.response.HTTPResponse at 0x109806920>"
      ]
     },
     "execution_count": 120,
     "metadata": {},
     "output_type": "execute_result"
    }
   ],
   "source": [
    "submit(total, year=YEAR, day=DAY)"
   ]
  },
  {
   "cell_type": "code",
   "execution_count": null,
   "id": "bc341816-1163-4c5d-a585-04ab81b4d2d7",
   "metadata": {},
   "outputs": [],
   "source": []
  }
 ],
 "metadata": {
  "kernelspec": {
   "display_name": "Python 3 (ipykernel)",
   "language": "python",
   "name": "python3"
  },
  "language_info": {
   "codemirror_mode": {
    "name": "ipython",
    "version": 3
   },
   "file_extension": ".py",
   "mimetype": "text/x-python",
   "name": "python",
   "nbconvert_exporter": "python",
   "pygments_lexer": "ipython3",
   "version": "3.12.0"
  }
 },
 "nbformat": 4,
 "nbformat_minor": 5
}
