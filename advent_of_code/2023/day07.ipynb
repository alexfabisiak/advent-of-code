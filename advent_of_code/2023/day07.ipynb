{
 "cells": [
  {
   "cell_type": "code",
   "execution_count": 237,
   "id": "cca57e6d-5224-493a-a2a9-5e23bb5546c2",
   "metadata": {},
   "outputs": [],
   "source": [
    "from aocd import get_data, submit\n",
    "# from aocd.get import current_day\n",
    "\n",
    "from IPython.display import display\n",
    "from IPython.core.display import Markdown\n",
    "\n",
    "import re\n",
    "import numpy as np\n",
    "import math"
   ]
  },
  {
   "cell_type": "code",
   "execution_count": 238,
   "id": "e4d6b8a4-25ef-4630-8aa6-6c95c7a8be09",
   "metadata": {},
   "outputs": [],
   "source": [
    "DAY = 7\n",
    "YEAR = 2023"
   ]
  },
  {
   "cell_type": "code",
   "execution_count": 239,
   "id": "388077b9-edd1-4ab9-9a3c-5e24b66346a8",
   "metadata": {},
   "outputs": [
    {
     "data": {
      "text/markdown": [
       "#### See [2023 Day 7](https://adventofcode.com/2023/day/7)."
      ],
      "text/plain": [
       "<IPython.core.display.Markdown object>"
      ]
     },
     "metadata": {},
     "output_type": "display_data"
    }
   ],
   "source": [
    "url = f\"https://adventofcode.com/{YEAR}/day/{DAY}\"\n",
    "display(Markdown(f\"#### See [{YEAR} Day {DAY}]({url}).\"))"
   ]
  },
  {
   "cell_type": "code",
   "execution_count": 304,
   "id": "ced1e284-733b-49e7-9154-18d54af53bdb",
   "metadata": {},
   "outputs": [],
   "source": [
    "data = get_data(year=YEAR, day=DAY)"
   ]
  },
  {
   "cell_type": "code",
   "execution_count": 305,
   "id": "97d3a4d3-b08a-4bff-bfb8-d37cc82a395d",
   "metadata": {},
   "outputs": [
    {
     "data": {
      "text/plain": [
       "1000"
      ]
     },
     "execution_count": 305,
     "metadata": {},
     "output_type": "execute_result"
    }
   ],
   "source": [
    "len(data.splitlines())"
   ]
  },
  {
   "cell_type": "markdown",
   "id": "c644d7ff-3812-4bcf-b4a4-6feb40c40374",
   "metadata": {},
   "source": [
    "# Part A"
   ]
  },
  {
   "cell_type": "code",
   "execution_count": 306,
   "id": "4b8d371f-5fd4-4ae1-b06c-a68458c8c0e4",
   "metadata": {},
   "outputs": [],
   "source": [
    "# data = \"\"\"32T3K 765\n",
    "# T55J5 684\n",
    "# KK677 28\n",
    "# KTJJT 220\n",
    "# QQQJA 483\n",
    "# \"\"\""
   ]
  },
  {
   "cell_type": "code",
   "execution_count": 307,
   "id": "08d35b6e-a6e6-460f-9794-de2862f43a7c",
   "metadata": {},
   "outputs": [],
   "source": [
    "import heapq"
   ]
  },
  {
   "cell_type": "code",
   "execution_count": 308,
   "id": "d4127076-7d72-4156-ac46-59ff201d72a8",
   "metadata": {},
   "outputs": [],
   "source": [
    "def does_hand1_win(hand1, hand2):\n",
    "    counts1 = []\n",
    "    counts2 = []\n",
    "    for card in cards:\n",
    "        counts1.append(hand1.count(card))\n",
    "        counts2.append(hand2.count(card))\n",
    "\n",
    "    max1, sec1 = heapq.nlargest(2, counts1)\n",
    "    max2, sec2 = heapq.nlargest(2, counts2)\n",
    "\n",
    "    if max1 > max2:\n",
    "        return True\n",
    "    elif max2 > max1:\n",
    "        return False\n",
    "\n",
    "    if sec1 > sec2:\n",
    "        return True\n",
    "    elif sec2 > sec1:\n",
    "        return False\n",
    "\n",
    "    for i in range(5):\n",
    "        if values[hand1[i]] > values[hand2[i]]:\n",
    "            return True\n",
    "        elif values[hand2[i]] > values[hand1[i]]:\n",
    "            return False\n",
    "        else:\n",
    "            continue"
   ]
  },
  {
   "cell_type": "code",
   "execution_count": 309,
   "id": "773ccea0-11cf-431c-af79-3e3dac14349d",
   "metadata": {},
   "outputs": [],
   "source": [
    "hands = []\n",
    "bids = []\n",
    "for i, l in enumerate(data.splitlines()):\n",
    "    hand, bid = l.split()\n",
    "    hands.append(hand)\n",
    "    bids.append(int(bid))"
   ]
  },
  {
   "cell_type": "code",
   "execution_count": 310,
   "id": "ea5c083b-47d5-4eb0-94f0-65a3b9808787",
   "metadata": {},
   "outputs": [],
   "source": [
    "cards = \"A K Q J T 9 8 7 6 5 4 3 2\".split()\n",
    "\n",
    "values = {c: v for v,c in enumerate(reversed(cards))}"
   ]
  },
  {
   "cell_type": "code",
   "execution_count": 311,
   "id": "780c5227-8edd-4798-b11a-eb6097e86e1c",
   "metadata": {},
   "outputs": [
    {
     "data": {
      "text/plain": [
       "250602641.0"
      ]
     },
     "execution_count": 311,
     "metadata": {},
     "output_type": "execute_result"
    }
   ],
   "source": [
    "wins = np.zeros([len(hands),len(hands)])\n",
    "\n",
    "for i in range(len(hands)):\n",
    "    for j in range(i+1, len(hands)):\n",
    "        w = does_hand1_win(hands[i], hands[j])\n",
    "        wins[i,j] = w\n",
    "        wins[j,i] = 1-w\n",
    "\n",
    "ranks = wins.sum(axis=1) + 1\n",
    "total = sum(ranks * bids)\n",
    "total"
   ]
  },
  {
   "cell_type": "code",
   "execution_count": 132,
   "id": "50e12a9e-ffbc-485e-9724-79f97cd341f9",
   "metadata": {},
   "outputs": [
    {
     "name": "stderr",
     "output_type": "stream",
     "text": [
      "answer a: None\n",
      "submitting for part a\n",
      "coerced float64 value 250602641.0 for 2023/07\n"
     ]
    },
    {
     "name": "stdout",
     "output_type": "stream",
     "text": [
      "\u001b[32mThat's the right answer!  You are one gold star closer to restoring snow operations. [Continue to Part Two]\u001b[0m\n"
     ]
    },
    {
     "data": {
      "text/plain": [
       "<urllib3.response.HTTPResponse at 0x107663100>"
      ]
     },
     "execution_count": 132,
     "metadata": {},
     "output_type": "execute_result"
    }
   ],
   "source": [
    "submit(total, year=YEAR, day=DAY)"
   ]
  },
  {
   "cell_type": "markdown",
   "id": "ba3abf71-91fd-4fa4-94d3-4cf7b59d923f",
   "metadata": {},
   "source": [
    "# Part B"
   ]
  },
  {
   "cell_type": "code",
   "execution_count": 312,
   "id": "49d0987c-3711-4a4f-94da-26c952f48aad",
   "metadata": {},
   "outputs": [],
   "source": [
    "cards = \"A K Q T 9 8 7 6 5 4 3 2 J\".split()\n",
    "cards.reverse()\n",
    "\n",
    "values = {c: v for v,c in enumerate(cards)}"
   ]
  },
  {
   "cell_type": "code",
   "execution_count": 313,
   "id": "3f3fd549-160a-4075-a030-74372849b7d9",
   "metadata": {},
   "outputs": [],
   "source": [
    "hands = []\n",
    "bids = []\n",
    "for i, l in enumerate(data.splitlines()):\n",
    "    hand, bid = l.split()\n",
    "    hands.append(hand)\n",
    "    bids.append(int(bid))"
   ]
  },
  {
   "cell_type": "code",
   "execution_count": 314,
   "id": "3fa8c95a-5d9c-4502-9591-f7dcef3f5f3f",
   "metadata": {},
   "outputs": [],
   "source": [
    "def does_hand1_win(hand1, hand2):\n",
    "    counts1 = []\n",
    "    counts2 = []\n",
    "    for card in cards:\n",
    "        counts1.append(hand1.count(card))\n",
    "        counts2.append(hand2.count(card))\n",
    "\n",
    "    j1 = counts1.pop(0)\n",
    "    j2 = counts2.pop(0)\n",
    "\n",
    "    max1, sec1 = heapq.nlargest(2, counts1)\n",
    "    max2, sec2 = heapq.nlargest(2, counts2)\n",
    "\n",
    "    max1 += j1\n",
    "    max2 += j2\n",
    "\n",
    "    if max1 > max2:\n",
    "        return True\n",
    "    elif max2 > max1:\n",
    "        return False\n",
    "\n",
    "    if sec1 > sec2:\n",
    "        return True\n",
    "    elif sec2 > sec1:\n",
    "        return False\n",
    "\n",
    "    for i in range(5):\n",
    "        if values[hand1[i]] > values[hand2[i]]:\n",
    "            return True\n",
    "        elif values[hand2[i]] > values[hand1[i]]:\n",
    "            return False\n",
    "        else:\n",
    "            continue"
   ]
  },
  {
   "cell_type": "code",
   "execution_count": 315,
   "id": "d9b058f0",
   "metadata": {},
   "outputs": [
    {
     "data": {
      "text/plain": [
       "251037509.0"
      ]
     },
     "execution_count": 315,
     "metadata": {},
     "output_type": "execute_result"
    }
   ],
   "source": [
    "wins = np.zeros([len(hands),len(hands)])\n",
    "\n",
    "for i in range(len(hands)):\n",
    "    for j in range(i+1, len(hands)):\n",
    "        w = does_hand1_win(hands[i], hands[j])\n",
    "        wins[i,j] = w\n",
    "        wins[j,i] = 1-w\n",
    "\n",
    "ranks = wins.sum(axis=1) + 1\n",
    "total = sum(ranks * bids)\n",
    "total"
   ]
  },
  {
   "cell_type": "code",
   "execution_count": 156,
   "id": "41e9575d-c42d-4f85-8bf5-1693eb554028",
   "metadata": {},
   "outputs": [
    {
     "name": "stderr",
     "output_type": "stream",
     "text": [
      "answer a: 250602641\n",
      "submitting for part b (part a is already completed)\n",
      "coerced float64 value 251037509.0 for 2023/07\n"
     ]
    },
    {
     "name": "stdout",
     "output_type": "stream",
     "text": [
      "\u001b[32mThat's the right answer!  You are one gold star closer to restoring snow operations.You have completed Day 7! You can [Shareon\n",
      "  Twitter\n",
      "Mastodon] this victory or [Return to Your Advent Calendar].\u001b[0m\n"
     ]
    },
    {
     "data": {
      "text/plain": [
       "<urllib3.response.HTTPResponse at 0x107842d40>"
      ]
     },
     "execution_count": 156,
     "metadata": {},
     "output_type": "execute_result"
    }
   ],
   "source": [
    "submit(total, year=YEAR, day=DAY)"
   ]
  },
  {
   "cell_type": "markdown",
   "id": "02c256eb-f052-4bd1-b068-5f489e4d2443",
   "metadata": {},
   "source": [
    "# Pandas"
   ]
  },
  {
   "cell_type": "markdown",
   "id": "eca20a1c-20b0-49eb-a0b7-b63c70f21c2a",
   "metadata": {},
   "source": [
    "## Part 1"
   ]
  },
  {
   "cell_type": "code",
   "execution_count": 316,
   "id": "e0ca8569-b4bf-4df7-b724-ccf78b5f96c7",
   "metadata": {},
   "outputs": [],
   "source": [
    "import pandas as pd"
   ]
  },
  {
   "cell_type": "code",
   "execution_count": 317,
   "id": "40ebab8f-eb49-41e2-a490-33d600bd7ab1",
   "metadata": {},
   "outputs": [],
   "source": [
    "cards = \"A K Q J T 9 8 7 6 5 4 3 2\".split()\n",
    "cards.reverse()\n",
    "\n",
    "hands = []\n",
    "bids = []\n",
    "for i, l in enumerate(data.splitlines()):\n",
    "    hand, bid = l.split()\n",
    "    hands.append(hand)\n",
    "    bids.append(int(bid))"
   ]
  },
  {
   "cell_type": "code",
   "execution_count": 318,
   "id": "573f723a-e7bd-4934-b050-63d775d008db",
   "metadata": {},
   "outputs": [
    {
     "data": {
      "text/plain": [
       "250602641"
      ]
     },
     "execution_count": 318,
     "metadata": {},
     "output_type": "execute_result"
    }
   ],
   "source": [
    "df = pd.DataFrame({'hands':hands, 'bids':bids})\n",
    "for c in cards:\n",
    "    df[c] = df.hands.str.count(c)\n",
    "df['max'] = df[cards].max(axis=1)\n",
    "df['second'] = df.apply(lambda x: heapq.nlargest(2,x[cards])[1], axis=1)\n",
    "for i in range(5):\n",
    "    df[f'c{i}'] = pd.Categorical(df.hands.str[i], categories=list(cards), ordered=True)\n",
    "df = df.sort_values(['max','second', 'c0','c1','c2','c3','c4'], ascending=False).reset_index(drop=True)\n",
    "total = (df.bids * (len(df) - df.index)).sum()\n",
    "total"
   ]
  },
  {
   "cell_type": "markdown",
   "id": "9ddd42d2-9807-429e-8b4e-715035c016f7",
   "metadata": {},
   "source": [
    "## Part 2"
   ]
  },
  {
   "cell_type": "code",
   "execution_count": 319,
   "id": "6ad939b6-6cde-4cfb-9f8f-5a089d4c7506",
   "metadata": {},
   "outputs": [],
   "source": [
    "cards = \"A K Q T 9 8 7 6 5 4 3 2 J\".split()\n",
    "cards.reverse()\n",
    "\n",
    "hands = []\n",
    "bids = []\n",
    "for i, l in enumerate(data.splitlines()):\n",
    "    hand, bid = l.split()\n",
    "    hands.append(hand)\n",
    "    bids.append(int(bid))"
   ]
  },
  {
   "cell_type": "code",
   "execution_count": 320,
   "id": "83868691-460a-45ab-b1da-04bbc90ad196",
   "metadata": {},
   "outputs": [
    {
     "data": {
      "text/plain": [
       "251037509"
      ]
     },
     "execution_count": 320,
     "metadata": {},
     "output_type": "execute_result"
    }
   ],
   "source": [
    "df = pd.DataFrame({'hands':hands, 'bids':bids})\n",
    "for c in cards:\n",
    "    df[c] = df.hands.str.count(c)\n",
    "df['max'] = df[cards[1:]].max(axis=1)\n",
    "df['second'] = df.apply(lambda x: heapq.nlargest(2,x[cards[1:]])[1], axis=1)\n",
    "df['max'] += df['J']\n",
    "for i in range(5):\n",
    "    df[f'c{i}'] = pd.Categorical(df.hands.str[i], categories=list(cards), ordered=True)\n",
    "df = df.sort_values(['max','second', 'c0','c1','c2','c3','c4'], ascending=False).reset_index(drop=True)\n",
    "total = (df.bids * (len(df) - df.index)).sum()\n",
    "total"
   ]
  },
  {
   "cell_type": "code",
   "execution_count": null,
   "id": "496bfa28-19a4-42bb-8c7c-32673138e1ad",
   "metadata": {},
   "outputs": [],
   "source": []
  }
 ],
 "metadata": {
  "kernelspec": {
   "display_name": "Python 3 (ipykernel)",
   "language": "python",
   "name": "python3"
  },
  "language_info": {
   "codemirror_mode": {
    "name": "ipython",
    "version": 3
   },
   "file_extension": ".py",
   "mimetype": "text/x-python",
   "name": "python",
   "nbconvert_exporter": "python",
   "pygments_lexer": "ipython3",
   "version": "3.12.0"
  }
 },
 "nbformat": 4,
 "nbformat_minor": 5
}
