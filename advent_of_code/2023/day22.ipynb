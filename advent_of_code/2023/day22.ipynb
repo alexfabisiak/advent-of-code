{
 "cells": [
  {
   "cell_type": "code",
   "execution_count": 28,
   "id": "cca57e6d-5224-493a-a2a9-5e23bb5546c2",
   "metadata": {},
   "outputs": [],
   "source": [
    "from aocd import get_data, submit\n",
    "# from aocd.get import current_day\n",
    "\n",
    "from IPython.display import display\n",
    "from IPython.core.display import Markdown\n",
    "\n",
    "import math\n",
    "import numpy as np\n",
    "import re\n",
    "import sys"
   ]
  },
  {
   "cell_type": "code",
   "execution_count": 29,
   "id": "e4d6b8a4-25ef-4630-8aa6-6c95c7a8be09",
   "metadata": {},
   "outputs": [],
   "source": [
    "DAY = 22\n",
    "YEAR = 2023"
   ]
  },
  {
   "cell_type": "code",
   "execution_count": 30,
   "id": "388077b9-edd1-4ab9-9a3c-5e24b66346a8",
   "metadata": {},
   "outputs": [
    {
     "data": {
      "text/markdown": [
       "#### See [2023 Day 22](https://adventofcode.com/2023/day/22)."
      ],
      "text/plain": [
       "<IPython.core.display.Markdown object>"
      ]
     },
     "metadata": {},
     "output_type": "display_data"
    }
   ],
   "source": [
    "url = f\"https://adventofcode.com/{YEAR}/day/{DAY}\"\n",
    "display(Markdown(f\"#### See [{YEAR} Day {DAY}]({url}).\"))"
   ]
  },
  {
   "cell_type": "code",
   "execution_count": 272,
   "id": "ced1e284-733b-49e7-9154-18d54af53bdb",
   "metadata": {},
   "outputs": [],
   "source": [
    "data = get_data(year=YEAR, day=DAY)"
   ]
  },
  {
   "cell_type": "code",
   "execution_count": 273,
   "id": "97d3a4d3-b08a-4bff-bfb8-d37cc82a395d",
   "metadata": {},
   "outputs": [
    {
     "data": {
      "text/plain": [
       "['5,2,60~5,4,60',\n",
       " '2,8,48~2,8,49',\n",
       " '5,0,298~5,3,298',\n",
       " '4,4,170~4,7,170',\n",
       " '3,6,23~5,6,23']"
      ]
     },
     "execution_count": 273,
     "metadata": {},
     "output_type": "execute_result"
    }
   ],
   "source": [
    "data.splitlines()[:5]"
   ]
  },
  {
   "cell_type": "code",
   "execution_count": 274,
   "id": "62a82cc5-0473-438b-ad39-b011017a0e78",
   "metadata": {},
   "outputs": [
    {
     "data": {
      "text/plain": [
       "1455"
      ]
     },
     "execution_count": 274,
     "metadata": {},
     "output_type": "execute_result"
    }
   ],
   "source": [
    "len(data.splitlines())"
   ]
  },
  {
   "cell_type": "markdown",
   "id": "c644d7ff-3812-4bcf-b4a4-6feb40c40374",
   "metadata": {},
   "source": [
    "# Part A"
   ]
  },
  {
   "cell_type": "code",
   "execution_count": 235,
   "id": "b871c35c-b8cf-4b9f-84ce-456f133addd6",
   "metadata": {},
   "outputs": [],
   "source": [
    "data = \"\"\"1,0,1~1,2,1\n",
    "0,0,2~2,0,2\n",
    "0,2,3~2,2,3\n",
    "0,0,4~0,2,4\n",
    "2,0,5~2,2,5\n",
    "0,1,6~2,1,6\n",
    "1,1,8~1,1,9\n",
    "\"\"\""
   ]
  },
  {
   "cell_type": "code",
   "execution_count": 236,
   "id": "33d4bb97-7db3-4b50-afdf-c25e004d778b",
   "metadata": {},
   "outputs": [],
   "source": [
    "from itertools import product\n",
    "from copy import deepcopy"
   ]
  },
  {
   "cell_type": "code",
   "execution_count": 275,
   "id": "36fc7845-2539-433e-ba64-fdc048f68e44",
   "metadata": {},
   "outputs": [],
   "source": [
    "input_cubes = []\n",
    "for i, l in enumerate(data.splitlines()):\n",
    "    a,b = l.split('~')\n",
    "    start, end = (tuple(a.split(',')),tuple(b.split(',')))\n",
    "    c = set(product(*[list(range(int(a),int(b)+1)) for a,b in zip(start,end)]))\n",
    "    input_cubes.append(c)\n",
    "\n",
    "def drop(cubes, shortcircuit=False):\n",
    "    start_cubes = deepcopy(cubes)\n",
    "    while True:\n",
    "        for i,c in enumerate(cubes):\n",
    "            occupied = {x for xs in cubes[:i]+cubes[i+1:] for x in xs}\n",
    "            while True:\n",
    "                # print(c)\n",
    "                lower = {(x,y,z-1) for x,y,z in c}\n",
    "                h = min([z for x,y,z in lower])\n",
    "                if h < 1:\n",
    "                    break\n",
    "                if lower & occupied:\n",
    "                    break\n",
    "                cubes[i] = lower\n",
    "                if shortcircuit:\n",
    "                    return cubes\n",
    "                c = lower\n",
    "        if cubes == start_cubes:\n",
    "            break\n",
    "        else:\n",
    "            start_cubes = deepcopy(cubes)\n",
    "    return cubes"
   ]
  },
  {
   "cell_type": "code",
   "execution_count": 173,
   "id": "b6d3a48a-61e5-465a-991f-502fb582d035",
   "metadata": {},
   "outputs": [],
   "source": [
    "# %lprun -f drop drop(input_cubes)"
   ]
  },
  {
   "cell_type": "code",
   "execution_count": 174,
   "id": "3625cece-e95b-48be-829a-098d81891ae5",
   "metadata": {},
   "outputs": [
    {
     "name": "stdout",
     "output_type": "stream",
     "text": [
      "dropped\n"
     ]
    }
   ],
   "source": [
    "dropped = drop(input_cubes.copy())\n",
    "print('dropped')\n",
    "\n",
    "nuke = []\n",
    "for i, c in enumerate(dropped):\n",
    "    removed = dropped[:i] + dropped[i+1:]\n",
    "    if removed == drop(removed.copy(), shortcircuit=True):\n",
    "        nuke.append(i)"
   ]
  },
  {
   "cell_type": "code",
   "execution_count": 175,
   "id": "020aad98-800f-4646-bf98-e7d3ae05ae0f",
   "metadata": {},
   "outputs": [
    {
     "data": {
      "text/plain": [
       "505"
      ]
     },
     "execution_count": 175,
     "metadata": {},
     "output_type": "execute_result"
    }
   ],
   "source": [
    "total = len(nuke)\n",
    "total"
   ]
  },
  {
   "cell_type": "code",
   "execution_count": 176,
   "id": "50e12a9e-ffbc-485e-9724-79f97cd341f9",
   "metadata": {},
   "outputs": [
    {
     "name": "stderr",
     "output_type": "stream",
     "text": [
      "answer a: None\n",
      "submitting for part a\n"
     ]
    },
    {
     "name": "stdout",
     "output_type": "stream",
     "text": [
      "\u001b[32mThat's the right answer!  You are one gold star closer to restoring snow operations. [Continue to Part Two]\u001b[0m\n"
     ]
    },
    {
     "data": {
      "text/plain": [
       "<urllib3.response.HTTPResponse at 0x111f6fe80>"
      ]
     },
     "execution_count": 176,
     "metadata": {},
     "output_type": "execute_result"
    }
   ],
   "source": [
    "submit(total, year=YEAR, day=DAY)"
   ]
  },
  {
   "cell_type": "markdown",
   "id": "ba3abf71-91fd-4fa4-94d3-4cf7b59d923f",
   "metadata": {},
   "source": [
    "# Part B"
   ]
  },
  {
   "cell_type": "code",
   "execution_count": 276,
   "id": "8a9c6d96-4cdb-4663-a882-28f2ac82807e",
   "metadata": {},
   "outputs": [],
   "source": [
    "dropped = drop(input_cubes.copy())"
   ]
  },
  {
   "cell_type": "code",
   "execution_count": 320,
   "id": "aa6bc5f2-c0ba-4893-bc30-d62d1fafbd9c",
   "metadata": {},
   "outputs": [],
   "source": [
    "support = {}\n",
    "for i,a in enumerate(dropped):\n",
    "    d = set()\n",
    "    lower = {(x,y,z-1) for x,y,z in a}\n",
    "    for j,b in enumerate(dropped):\n",
    "        if (i != j) and (lower & b):\n",
    "            d.add(j)\n",
    "    support[i] = d"
   ]
  },
  {
   "cell_type": "code",
   "execution_count": 335,
   "id": "7e85ddab-7fed-4975-bb6b-91cfd979e78a",
   "metadata": {},
   "outputs": [],
   "source": [
    "total = 0\n",
    "for block, _ in support.items():\n",
    "    fallen = set([block])\n",
    "    prev_fallen = fallen.copy()\n",
    "    while True:\n",
    "        for a,b in support.items():\n",
    "            if block != a and b and b <= fallen:\n",
    "                fallen.add(a)\n",
    "        if fallen == prev_fallen:\n",
    "            break\n",
    "        else:\n",
    "            prev_fallen = fallen.copy()\n",
    "    total += len(fallen)-1"
   ]
  },
  {
   "cell_type": "code",
   "execution_count": 336,
   "id": "2aa729cf-33d7-424c-8657-569bd5bec3fd",
   "metadata": {
    "scrolled": true
   },
   "outputs": [
    {
     "data": {
      "text/plain": [
       "71002"
      ]
     },
     "execution_count": 336,
     "metadata": {},
     "output_type": "execute_result"
    }
   ],
   "source": [
    "total"
   ]
  },
  {
   "cell_type": "code",
   "execution_count": 294,
   "id": "41e9575d-c42d-4f85-8bf5-1693eb554028",
   "metadata": {},
   "outputs": [
    {
     "name": "stderr",
     "output_type": "stream",
     "text": [
      "answer a: 505\n",
      "submitting for part b (part a is already completed)\n"
     ]
    },
    {
     "name": "stdout",
     "output_type": "stream",
     "text": [
      "\u001b[32mThat's the right answer!  You are one gold star closer to restoring snow operations.You have completed Day 22! You can [Shareon\n",
      "  Twitter\n",
      "Mastodon] this victory or [Return to Your Advent Calendar].\u001b[0m\n"
     ]
    },
    {
     "data": {
      "text/plain": [
       "<urllib3.response.HTTPResponse at 0x112586cb0>"
      ]
     },
     "execution_count": 294,
     "metadata": {},
     "output_type": "execute_result"
    }
   ],
   "source": [
    "submit(total, year=YEAR, day=DAY)"
   ]
  }
 ],
 "metadata": {
  "kernelspec": {
   "display_name": "Python 3 (ipykernel)",
   "language": "python",
   "name": "python3"
  },
  "language_info": {
   "codemirror_mode": {
    "name": "ipython",
    "version": 3
   },
   "file_extension": ".py",
   "mimetype": "text/x-python",
   "name": "python",
   "nbconvert_exporter": "python",
   "pygments_lexer": "ipython3",
   "version": "3.12.0"
  }
 },
 "nbformat": 4,
 "nbformat_minor": 5
}
