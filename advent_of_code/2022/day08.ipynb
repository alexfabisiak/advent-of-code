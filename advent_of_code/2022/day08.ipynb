{
 "cells": [
  {
   "cell_type": "code",
   "execution_count": 1,
   "id": "cca57e6d-5224-493a-a2a9-5e23bb5546c2",
   "metadata": {},
   "outputs": [
    {
     "name": "stderr",
     "output_type": "stream",
     "text": [
      "current_day is only available in December (EST)\n"
     ]
    }
   ],
   "source": [
    "from aocd import get_data, submit\n",
    "# from aocd.get import current_day\n",
    "\n",
    "from IPython.display import display\n",
    "from IPython.core.display import Markdown"
   ]
  },
  {
   "cell_type": "code",
   "execution_count": 2,
   "id": "e4d6b8a4-25ef-4630-8aa6-6c95c7a8be09",
   "metadata": {},
   "outputs": [],
   "source": [
    "DAY = 8\n",
    "YEAR = 2022"
   ]
  },
  {
   "cell_type": "code",
   "execution_count": 3,
   "id": "388077b9-edd1-4ab9-9a3c-5e24b66346a8",
   "metadata": {},
   "outputs": [
    {
     "data": {
      "text/markdown": [
       "#### See [2022 Day 8](https://adventofcode.com/2022/day/8)."
      ],
      "text/plain": [
       "<IPython.core.display.Markdown object>"
      ]
     },
     "metadata": {},
     "output_type": "display_data"
    }
   ],
   "source": [
    "url = f\"https://adventofcode.com/{YEAR}/day/{DAY}\"\n",
    "display(Markdown(f\"#### See [{YEAR} Day {DAY}]({url}).\"))"
   ]
  },
  {
   "cell_type": "code",
   "execution_count": 4,
   "id": "ced1e284-733b-49e7-9154-18d54af53bdb",
   "metadata": {},
   "outputs": [],
   "source": [
    "data = get_data(year=YEAR, day=DAY)"
   ]
  },
  {
   "cell_type": "code",
   "execution_count": 7,
   "id": "97d3a4d3-b08a-4bff-bfb8-d37cc82a395d",
   "metadata": {},
   "outputs": [
    {
     "data": {
      "text/plain": [
       "['222112212213012301211134200002032424301142102231553514443201341400212230204230401120330131220022210',\n",
       " '102112111222233101031402012403201222213455312422432144422311112420034421043440034112120031011001111',\n",
       " '102122223023130331231203443334122242323322135341452245355543411453442102413422113120120032330210022',\n",
       " '110001231100011332234413013213045445233212225343233154553335222544334133331211032334110100233102201',\n",
       " '112120312023213203233203304022134355314211535351534544145442243315233432344112114414123111203320020']"
      ]
     },
     "execution_count": 7,
     "metadata": {},
     "output_type": "execute_result"
    }
   ],
   "source": [
    "data.splitlines()[:5]"
   ]
  },
  {
   "cell_type": "markdown",
   "id": "c644d7ff-3812-4bcf-b4a4-6feb40c40374",
   "metadata": {},
   "source": [
    "# Part A"
   ]
  },
  {
   "cell_type": "code",
   "execution_count": 59,
   "id": "b871c35c-b8cf-4b9f-84ce-456f133addd6",
   "metadata": {},
   "outputs": [
    {
     "data": {
      "text/plain": [
       "array([[2, 2, 2, ..., 2, 1, 0],\n",
       "       [1, 0, 2, ..., 1, 1, 1],\n",
       "       [1, 0, 2, ..., 0, 2, 2],\n",
       "       ...,\n",
       "       [2, 0, 1, ..., 1, 1, 1],\n",
       "       [2, 0, 2, ..., 0, 2, 2],\n",
       "       [2, 1, 0, ..., 0, 1, 1]])"
      ]
     },
     "execution_count": 59,
     "metadata": {},
     "output_type": "execute_result"
    }
   ],
   "source": [
    "import numpy as np\n",
    "forest = np.array([list(l) for l in data.splitlines()]).astype(int)\n",
    "forest"
   ]
  },
  {
   "cell_type": "code",
   "execution_count": 35,
   "id": "ab702009-9961-4cd7-b83f-391622b539bb",
   "metadata": {},
   "outputs": [
    {
     "data": {
      "text/plain": [
       "array([[1, 1, 1, ..., 1, 1, 1],\n",
       "       [1, 0, 1, ..., 0, 0, 1],\n",
       "       [1, 0, 1, ..., 0, 1, 1],\n",
       "       ...,\n",
       "       [1, 0, 0, ..., 1, 0, 1],\n",
       "       [1, 0, 1, ..., 0, 1, 1],\n",
       "       [1, 1, 1, ..., 1, 1, 1]])"
      ]
     },
     "execution_count": 35,
     "metadata": {},
     "output_type": "execute_result"
    }
   ],
   "source": [
    "visible = np.zeros_like(forest)\n",
    "\n",
    "n_row, n_col = forest.shape\n",
    "\n",
    "for r in range(n_row):\n",
    "    max_height = -1\n",
    "    for c in range(n_col):\n",
    "        if forest[r,c] > max_height:\n",
    "            visible[r,c] = 1\n",
    "            max_height = forest[r,c]\n",
    "\n",
    "    max_height = -1\n",
    "    for c in reversed(range(n_col)):\n",
    "        if forest[r,c] > max_height:\n",
    "            visible[r,c] = 1\n",
    "            max_height = forest[r,c]\n",
    "\n",
    "for c in range(n_col):\n",
    "    max_height = -1\n",
    "    for r in range(n_row):\n",
    "        if forest[r,c] > max_height:\n",
    "            visible[r,c] = 1\n",
    "            max_height = forest[r,c]\n",
    "\n",
    "    max_height = -1\n",
    "    for r in reversed(range(n_row)):\n",
    "        if forest[r,c] > max_height:\n",
    "            visible[r,c] = 1\n",
    "            max_height = forest[r,c]\n",
    "\n",
    "visible"
   ]
  },
  {
   "cell_type": "code",
   "execution_count": 37,
   "id": "f883d151-fcd9-4628-9752-eeacba5be7d7",
   "metadata": {},
   "outputs": [
    {
     "data": {
      "text/plain": [
       "1798"
      ]
     },
     "execution_count": 37,
     "metadata": {},
     "output_type": "execute_result"
    }
   ],
   "source": [
    "n_visible = np.sum(visible)\n",
    "n_visible"
   ]
  },
  {
   "cell_type": "code",
   "execution_count": 38,
   "id": "50e12a9e-ffbc-485e-9724-79f97cd341f9",
   "metadata": {},
   "outputs": [
    {
     "name": "stderr",
     "output_type": "stream",
     "text": [
      "answer a: None\n",
      "submitting for part a\n",
      "coerced int64 value 1798 for 2022/08\n"
     ]
    },
    {
     "name": "stdout",
     "output_type": "stream",
     "text": [
      "\u001b[32mThat's the right answer!  You are one gold star closer to collecting enough star fruit. [Continue to Part Two]\u001b[0m\n"
     ]
    },
    {
     "data": {
      "text/plain": [
       "<urllib3.response.HTTPResponse at 0x10d1a0640>"
      ]
     },
     "execution_count": 38,
     "metadata": {},
     "output_type": "execute_result"
    }
   ],
   "source": [
    "submit(n_visible, year=YEAR, day=DAY)"
   ]
  },
  {
   "cell_type": "markdown",
   "id": "ba3abf71-91fd-4fa4-94d3-4cf7b59d923f",
   "metadata": {},
   "source": [
    "# Part B"
   ]
  },
  {
   "cell_type": "code",
   "execution_count": 58,
   "id": "49d0987c-3711-4a4f-94da-26c952f48aad",
   "metadata": {},
   "outputs": [],
   "source": [
    "# forest = np.array(\n",
    "#     [[3,0,3,7,3],\n",
    "# [2,5,5,1,2],\n",
    "# [6,5,3,3,2],\n",
    "# [3,3,5,4,9],\n",
    "# [3,5,3,9,0],]\n",
    "# )\n",
    "# forest"
   ]
  },
  {
   "cell_type": "code",
   "execution_count": 62,
   "id": "35b06b97-90f1-4655-a322-6275829d255a",
   "metadata": {},
   "outputs": [
    {
     "data": {
      "text/plain": [
       "array([[ 0,  0,  0, ...,  0,  0,  0],\n",
       "       [ 0,  1,  6, ...,  2,  1,  0],\n",
       "       [ 0,  1,  8, ...,  1, 16,  0],\n",
       "       ...,\n",
       "       [ 0,  1,  2, ..., 16,  2,  0],\n",
       "       [ 0,  1, 32, ...,  1,  9,  0],\n",
       "       [ 0,  0,  0, ...,  0,  0,  0]])"
      ]
     },
     "execution_count": 62,
     "metadata": {},
     "output_type": "execute_result"
    }
   ],
   "source": [
    "scenic_score = np.zeros_like(forest)\n",
    "\n",
    "n_row, n_col = forest.shape\n",
    "\n",
    "for r in range(n_row):\n",
    "    for c in range(n_col):\n",
    "        h = forest[r,c]\n",
    "\n",
    "        left = 0\n",
    "        for i in range(1,n_col):\n",
    "            if c-i < 0:\n",
    "                break\n",
    "            left += 1\n",
    "            if forest[r,c-i] >= h:\n",
    "                break\n",
    "\n",
    "        right = 0\n",
    "        for i in range(1,n_col):\n",
    "            if c+i >= n_col:\n",
    "                break\n",
    "            right += 1\n",
    "            if forest[r,c+i] >= h:\n",
    "                break\n",
    "\n",
    "        up = 0\n",
    "        for i in range(1,n_row):\n",
    "            if r-i < 0:\n",
    "                break\n",
    "            up += 1\n",
    "            if forest[r-i,c] >= h:\n",
    "                break\n",
    "\n",
    "        down = 0\n",
    "        for i in range(1,n_row):\n",
    "            if r+i >= n_row:\n",
    "                break\n",
    "            down += 1\n",
    "            if forest[r+i,c] >= h:\n",
    "                break\n",
    "\n",
    "        scenic_score[r,c] = left * right * up * down\n",
    "scenic_score"
   ]
  },
  {
   "cell_type": "code",
   "execution_count": 63,
   "id": "1bc7b63a-3a42-41a5-99e4-347a15adc2c0",
   "metadata": {},
   "outputs": [],
   "source": [
    "best = np.max(scenic_score)"
   ]
  },
  {
   "cell_type": "code",
   "execution_count": 64,
   "id": "41e9575d-c42d-4f85-8bf5-1693eb554028",
   "metadata": {},
   "outputs": [
    {
     "name": "stderr",
     "output_type": "stream",
     "text": [
      "answer a: 1798\n",
      "submitting for part b (part a is already completed)\n",
      "coerced int64 value 259308 for 2022/08\n"
     ]
    },
    {
     "name": "stdout",
     "output_type": "stream",
     "text": [
      "\u001b[32mThat's the right answer!  You are one gold star closer to collecting enough star fruit.You have completed Day 8! You can [Shareon\n",
      "  Twitter\n",
      "Mastodon] this victory or [Return to Your Advent Calendar].\u001b[0m\n"
     ]
    },
    {
     "data": {
      "text/plain": [
       "<urllib3.response.HTTPResponse at 0x10d245060>"
      ]
     },
     "execution_count": 64,
     "metadata": {},
     "output_type": "execute_result"
    }
   ],
   "source": [
    "submit(best, year=YEAR, day=DAY)"
   ]
  },
  {
   "cell_type": "code",
   "execution_count": null,
   "id": "bc341816-1163-4c5d-a585-04ab81b4d2d7",
   "metadata": {},
   "outputs": [],
   "source": []
  }
 ],
 "metadata": {
  "kernelspec": {
   "display_name": "Python 3 (ipykernel)",
   "language": "python",
   "name": "python3"
  },
  "language_info": {
   "codemirror_mode": {
    "name": "ipython",
    "version": 3
   },
   "file_extension": ".py",
   "mimetype": "text/x-python",
   "name": "python",
   "nbconvert_exporter": "python",
   "pygments_lexer": "ipython3",
   "version": "3.12.0"
  }
 },
 "nbformat": 4,
 "nbformat_minor": 5
}
