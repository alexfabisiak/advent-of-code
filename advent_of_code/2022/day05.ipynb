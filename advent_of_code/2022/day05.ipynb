{
 "cells": [
  {
   "cell_type": "code",
   "execution_count": 1,
   "id": "cca57e6d-5224-493a-a2a9-5e23bb5546c2",
   "metadata": {},
   "outputs": [
    {
     "name": "stderr",
     "output_type": "stream",
     "text": [
      "current_day is only available in December (EST)\n"
     ]
    }
   ],
   "source": [
    "from aocd import get_data, submit\n",
    "# from aocd.get import current_day\n",
    "\n",
    "from IPython.display import display\n",
    "from IPython.core.display import Markdown"
   ]
  },
  {
   "cell_type": "code",
   "execution_count": 2,
   "id": "e4d6b8a4-25ef-4630-8aa6-6c95c7a8be09",
   "metadata": {},
   "outputs": [],
   "source": [
    "DAY = 5\n",
    "YEAR = 2022"
   ]
  },
  {
   "cell_type": "code",
   "execution_count": 3,
   "id": "388077b9-edd1-4ab9-9a3c-5e24b66346a8",
   "metadata": {},
   "outputs": [
    {
     "data": {
      "text/markdown": [
       "#### See [2022 Day 5](https://adventofcode.com/2022/day/5)."
      ],
      "text/plain": [
       "<IPython.core.display.Markdown object>"
      ]
     },
     "metadata": {},
     "output_type": "display_data"
    }
   ],
   "source": [
    "url = f\"https://adventofcode.com/{YEAR}/day/{DAY}\"\n",
    "display(Markdown(f\"#### See [{YEAR} Day {DAY}]({url}).\"))"
   ]
  },
  {
   "cell_type": "code",
   "execution_count": 70,
   "id": "ced1e284-733b-49e7-9154-18d54af53bdb",
   "metadata": {},
   "outputs": [],
   "source": [
    "data = get_data(year=YEAR, day=DAY).splitlines()"
   ]
  },
  {
   "cell_type": "code",
   "execution_count": 71,
   "id": "97d3a4d3-b08a-4bff-bfb8-d37cc82a395d",
   "metadata": {},
   "outputs": [
    {
     "data": {
      "text/plain": [
       "['    [V] [G]             [H]        ',\n",
       " '[Z] [H] [Z]         [T] [S]        ',\n",
       " '[P] [D] [F]         [B] [V] [Q]    ',\n",
       " '[B] [M] [V] [N]     [F] [D] [N]    ',\n",
       " '[Q] [Q] [D] [F]     [Z] [Z] [P] [M]',\n",
       " '[M] [Z] [R] [D] [Q] [V] [T] [F] [R]',\n",
       " '[D] [L] [H] [G] [F] [Q] [M] [G] [W]',\n",
       " '[N] [C] [Q] [H] [N] [D] [Q] [M] [B]',\n",
       " ' 1   2   3   4   5   6   7   8   9 ',\n",
       " '',\n",
       " 'move 3 from 2 to 5',\n",
       " 'move 2 from 9 to 6',\n",
       " 'move 4 from 7 to 1',\n",
       " 'move 7 from 3 to 4',\n",
       " 'move 2 from 9 to 8']"
      ]
     },
     "execution_count": 71,
     "metadata": {},
     "output_type": "execute_result"
    }
   ],
   "source": [
    "data[:15]"
   ]
  },
  {
   "cell_type": "markdown",
   "id": "c644d7ff-3812-4bcf-b4a4-6feb40c40374",
   "metadata": {},
   "source": [
    "# Part A"
   ]
  },
  {
   "cell_type": "code",
   "execution_count": 129,
   "id": "d85851df-a358-4f7f-a290-6a6be07e78b6",
   "metadata": {},
   "outputs": [],
   "source": [
    "for i,r in enumerate(data):\n",
    "    if r == \"\":\n",
    "        break"
   ]
  },
  {
   "cell_type": "code",
   "execution_count": 130,
   "id": "c476dfef-7d73-49f9-be44-b5c2348f9878",
   "metadata": {},
   "outputs": [
    {
     "data": {
      "text/plain": [
       "9"
      ]
     },
     "execution_count": 130,
     "metadata": {},
     "output_type": "execute_result"
    }
   ],
   "source": [
    "num_stacks = max([int(i) for i in data[i-1].replace(' ','')])\n",
    "num_stacks"
   ]
  },
  {
   "cell_type": "code",
   "execution_count": 131,
   "id": "d96e82d2-8a46-4be3-9b7c-8df8be375b71",
   "metadata": {},
   "outputs": [
    {
     "data": {
      "text/plain": [
       "['    [V] [G]             [H]        ',\n",
       " '[Z] [H] [Z]         [T] [S]        ',\n",
       " '[P] [D] [F]         [B] [V] [Q]    ',\n",
       " '[B] [M] [V] [N]     [F] [D] [N]    ',\n",
       " '[Q] [Q] [D] [F]     [Z] [Z] [P] [M]',\n",
       " '[M] [Z] [R] [D] [Q] [V] [T] [F] [R]',\n",
       " '[D] [L] [H] [G] [F] [Q] [M] [G] [W]',\n",
       " '[N] [C] [Q] [H] [N] [D] [Q] [M] [B]']"
      ]
     },
     "execution_count": 131,
     "metadata": {},
     "output_type": "execute_result"
    }
   ],
   "source": [
    "positions = data[:i-1]\n",
    "positions"
   ]
  },
  {
   "cell_type": "code",
   "execution_count": 132,
   "id": "cc7b468c-282e-460b-b0c4-9ed675530f76",
   "metadata": {},
   "outputs": [
    {
     "data": {
      "text/plain": [
       "['move 3 from 2 to 5',\n",
       " 'move 2 from 9 to 6',\n",
       " 'move 4 from 7 to 1',\n",
       " 'move 7 from 3 to 4',\n",
       " 'move 2 from 9 to 8']"
      ]
     },
     "execution_count": 132,
     "metadata": {},
     "output_type": "execute_result"
    }
   ],
   "source": [
    "moves = data[i+1:]\n",
    "moves[:5]"
   ]
  },
  {
   "cell_type": "code",
   "execution_count": 133,
   "id": "b871c35c-b8cf-4b9f-84ce-456f133addd6",
   "metadata": {},
   "outputs": [
    {
     "data": {
      "text/plain": [
       "[['N', 'D', 'M', 'Q', 'B', 'P', 'Z'],\n",
       " ['C', 'L', 'Z', 'Q', 'M', 'D', 'H', 'V'],\n",
       " ['Q', 'H', 'R', 'D', 'V', 'F', 'Z', 'G'],\n",
       " ['H', 'G', 'D', 'F', 'N'],\n",
       " ['N', 'F', 'Q'],\n",
       " ['D', 'Q', 'V', 'Z', 'F', 'B', 'T'],\n",
       " ['Q', 'M', 'T', 'Z', 'D', 'V', 'S', 'H'],\n",
       " ['M', 'G', 'F', 'P', 'N', 'Q'],\n",
       " ['B', 'W', 'R', 'M']]"
      ]
     },
     "execution_count": 133,
     "metadata": {},
     "output_type": "execute_result"
    }
   ],
   "source": [
    "stacks = [[] for i in range(num_stacks)]\n",
    "\n",
    "for r in reversed(positions):\n",
    "    for i in range(num_stacks):\n",
    "        c = r[i*4+1]\n",
    "        if c != ' ':\n",
    "            stacks[i].append(c)\n",
    "stacks"
   ]
  },
  {
   "cell_type": "code",
   "execution_count": 134,
   "id": "b30943c1-11ab-44bb-b594-68e02d1414d1",
   "metadata": {},
   "outputs": [],
   "source": [
    "for move in moves:\n",
    "    n, origin, dest = re.findall(r'\\d+',move)\n",
    "    n = int(n)\n",
    "    origin = int(origin)\n",
    "    dest = int(dest)\n",
    "    for _ in range(n):\n",
    "        b = stacks[origin-1].pop()\n",
    "        stacks[dest-1].append(b)"
   ]
  },
  {
   "cell_type": "code",
   "execution_count": 135,
   "id": "0b9cac45-6817-4b83-acbe-7f5e5898623e",
   "metadata": {},
   "outputs": [
    {
     "data": {
      "text/plain": [
       "'QGTHFZBHV'"
      ]
     },
     "execution_count": 135,
     "metadata": {},
     "output_type": "execute_result"
    }
   ],
   "source": [
    "ans = ''.join([s[-1] for s in stacks])\n",
    "ans"
   ]
  },
  {
   "cell_type": "code",
   "execution_count": 104,
   "id": "50e12a9e-ffbc-485e-9724-79f97cd341f9",
   "metadata": {},
   "outputs": [
    {
     "name": "stderr",
     "output_type": "stream",
     "text": [
      "answer a: None\n",
      "submitting for part a\n"
     ]
    },
    {
     "name": "stdout",
     "output_type": "stream",
     "text": [
      "\u001b[32mThat's the right answer!  You are one gold star closer to collecting enough star fruit. [Continue to Part Two]\u001b[0m\n"
     ]
    },
    {
     "data": {
      "text/plain": [
       "<urllib3.response.HTTPResponse at 0x107248d90>"
      ]
     },
     "execution_count": 104,
     "metadata": {},
     "output_type": "execute_result"
    }
   ],
   "source": [
    "submit(ans, year=YEAR, day=DAY)"
   ]
  },
  {
   "cell_type": "markdown",
   "id": "ba3abf71-91fd-4fa4-94d3-4cf7b59d923f",
   "metadata": {},
   "source": [
    "# Part B"
   ]
  },
  {
   "cell_type": "code",
   "execution_count": 136,
   "id": "49d0987c-3711-4a4f-94da-26c952f48aad",
   "metadata": {},
   "outputs": [
    {
     "data": {
      "text/plain": [
       "[['N', 'D', 'M', 'Q', 'B', 'P', 'Z'],\n",
       " ['C', 'L', 'Z', 'Q', 'M', 'D', 'H', 'V'],\n",
       " ['Q', 'H', 'R', 'D', 'V', 'F', 'Z', 'G'],\n",
       " ['H', 'G', 'D', 'F', 'N'],\n",
       " ['N', 'F', 'Q'],\n",
       " ['D', 'Q', 'V', 'Z', 'F', 'B', 'T'],\n",
       " ['Q', 'M', 'T', 'Z', 'D', 'V', 'S', 'H'],\n",
       " ['M', 'G', 'F', 'P', 'N', 'Q'],\n",
       " ['B', 'W', 'R', 'M']]"
      ]
     },
     "execution_count": 136,
     "metadata": {},
     "output_type": "execute_result"
    }
   ],
   "source": [
    "stacks = [[] for i in range(num_stacks)]\n",
    "\n",
    "for r in reversed(positions):\n",
    "    for i in range(num_stacks):\n",
    "        c = r[i*4+1]\n",
    "        if c != ' ':\n",
    "            stacks[i].append(c)\n",
    "stacks"
   ]
  },
  {
   "cell_type": "code",
   "execution_count": 137,
   "id": "0f8f927e-af78-411d-9488-28028d6130fa",
   "metadata": {},
   "outputs": [],
   "source": [
    "for move in moves:\n",
    "    n, origin, dest = re.findall(r'\\d+',move)\n",
    "    n = int(n)\n",
    "    origin = int(origin)\n",
    "    dest = int(dest)\n",
    "    moving = stacks[origin-1][-n:]\n",
    "    stacks[origin-1] = stacks[origin-1][:-n]\n",
    "    stacks[dest-1] += moving\n"
   ]
  },
  {
   "cell_type": "code",
   "execution_count": 138,
   "id": "bc3a50c0-4df7-4f68-ab89-52956d892697",
   "metadata": {},
   "outputs": [
    {
     "data": {
      "text/plain": [
       "[['M'],\n",
       " ['R', 'P', 'H', 'G'],\n",
       " ['N', 'H', 'F', 'D'],\n",
       " ['M'],\n",
       " ['P'],\n",
       " ['Z', 'S'],\n",
       " ['D',\n",
       "  'Z',\n",
       "  'C',\n",
       "  'D',\n",
       "  'F',\n",
       "  'V',\n",
       "  'R',\n",
       "  'D',\n",
       "  'M',\n",
       "  'D',\n",
       "  'Z',\n",
       "  'B',\n",
       "  'V',\n",
       "  'D',\n",
       "  'Q',\n",
       "  'W',\n",
       "  'Q',\n",
       "  'Q',\n",
       "  'F',\n",
       "  'N',\n",
       "  'B',\n",
       "  'V',\n",
       "  'F',\n",
       "  'F',\n",
       "  'Z'],\n",
       " ['L', 'M', 'V', 'Q', 'Q', 'B', 'T', 'N', 'G', 'H', 'G', 'N', 'Q', 'H', 'T'],\n",
       " ['Z', 'Q', 'M']]"
      ]
     },
     "execution_count": 138,
     "metadata": {},
     "output_type": "execute_result"
    }
   ],
   "source": [
    "stacks"
   ]
  },
  {
   "cell_type": "code",
   "execution_count": 139,
   "id": "89b69a7e-2057-4baf-b36d-05484e4c307e",
   "metadata": {},
   "outputs": [
    {
     "data": {
      "text/plain": [
       "'MGDMPSZTM'"
      ]
     },
     "execution_count": 139,
     "metadata": {},
     "output_type": "execute_result"
    }
   ],
   "source": [
    "ans = ''.join([s[-1] for s in stacks])\n",
    "ans"
   ]
  },
  {
   "cell_type": "code",
   "execution_count": 128,
   "id": "41e9575d-c42d-4f85-8bf5-1693eb554028",
   "metadata": {},
   "outputs": [
    {
     "name": "stderr",
     "output_type": "stream",
     "text": [
      "answer a: QGTHFZBHV\n",
      "submitting for part b (part a is already completed)\n"
     ]
    },
    {
     "name": "stdout",
     "output_type": "stream",
     "text": [
      "\u001b[32mThat's the right answer!  You are one gold star closer to collecting enough star fruit.You have completed Day 5! You can [Shareon\n",
      "  Twitter\n",
      "Mastodon] this victory or [Return to Your Advent Calendar].\u001b[0m\n"
     ]
    },
    {
     "data": {
      "text/plain": [
       "<urllib3.response.HTTPResponse at 0x10724f8b0>"
      ]
     },
     "execution_count": 128,
     "metadata": {},
     "output_type": "execute_result"
    }
   ],
   "source": [
    "submit(ans, year=YEAR, day=DAY)"
   ]
  },
  {
   "cell_type": "code",
   "execution_count": null,
   "id": "882fcb38-93e5-483e-a2e7-126c18f25a48",
   "metadata": {},
   "outputs": [],
   "source": []
  }
 ],
 "metadata": {
  "kernelspec": {
   "display_name": "Python 3 (ipykernel)",
   "language": "python",
   "name": "python3"
  },
  "language_info": {
   "codemirror_mode": {
    "name": "ipython",
    "version": 3
   },
   "file_extension": ".py",
   "mimetype": "text/x-python",
   "name": "python",
   "nbconvert_exporter": "python",
   "pygments_lexer": "ipython3",
   "version": "3.12.0"
  }
 },
 "nbformat": 4,
 "nbformat_minor": 5
}
