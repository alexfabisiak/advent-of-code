{
 "cells": [
  {
   "cell_type": "code",
   "execution_count": 19,
   "id": "cca57e6d-5224-493a-a2a9-5e23bb5546c2",
   "metadata": {},
   "outputs": [
    {
     "name": "stderr",
     "output_type": "stream",
     "text": [
      "current_day is only available in December (EST)\n"
     ]
    }
   ],
   "source": [
    "from aocd import get_data, submit\n",
    "# from aocd.get import current_day\n",
    "\n",
    "from IPython.display import display\n",
    "from IPython.core.display import Markdown"
   ]
  },
  {
   "cell_type": "code",
   "execution_count": 20,
   "id": "e4d6b8a4-25ef-4630-8aa6-6c95c7a8be09",
   "metadata": {},
   "outputs": [],
   "source": [
    "DAY = 1\n",
    "YEAR = 2022"
   ]
  },
  {
   "cell_type": "code",
   "execution_count": 21,
   "id": "388077b9-edd1-4ab9-9a3c-5e24b66346a8",
   "metadata": {},
   "outputs": [
    {
     "data": {
      "text/markdown": [
       "#### See [2022 Day 1](https://adventofcode.com/2022/day/1)."
      ],
      "text/plain": [
       "<IPython.core.display.Markdown object>"
      ]
     },
     "metadata": {},
     "output_type": "display_data"
    }
   ],
   "source": [
    "day_link = f\"#### See [{YEAR} Day {DAY}](https://adventofcode.com/{YEAR}/day/{DAY}).\"\n",
    "display(Markdown(day_link))"
   ]
  },
  {
   "cell_type": "code",
   "execution_count": 22,
   "id": "ced1e284-733b-49e7-9154-18d54af53bdb",
   "metadata": {},
   "outputs": [],
   "source": [
    "data = get_data(year=YEAR, day=DAY)"
   ]
  },
  {
   "cell_type": "code",
   "execution_count": 23,
   "id": "17e0186d-816d-4868-85dd-92a35a4811b2",
   "metadata": {},
   "outputs": [
    {
     "name": "stdout",
     "output_type": "stream",
     "text": [
      "70764\n",
      "203905\n"
     ]
    }
   ],
   "source": [
    "totals = []\n",
    "elf_sum = 0\n",
    "\n",
    "for d in data.splitlines():\n",
    "    if d == '':\n",
    "        totals.append(elf_sum)\n",
    "        elf_sum = 0\n",
    "    else:\n",
    "        elf_sum += int(d)\n",
    "\n",
    "totals.sort(reverse=True)\n",
    "print(totals[0])\n",
    "print(sum(totals[:3]))"
   ]
  },
  {
   "cell_type": "code",
   "execution_count": 24,
   "id": "50e12a9e-ffbc-485e-9724-79f97cd341f9",
   "metadata": {},
   "outputs": [
    {
     "name": "stderr",
     "output_type": "stream",
     "text": [
      "answer a: 70764\n",
      "submitting for part b (part a is already completed)\n"
     ]
    },
    {
     "ename": "AocdError",
     "evalue": "cowardly refusing to submit 70764 for part b, because that was the answer for part a",
     "output_type": "error",
     "traceback": [
      "\u001b[0;31m---------------------------------------------------------------------------\u001b[0m",
      "\u001b[0;31mAocdError\u001b[0m                                 Traceback (most recent call last)",
      "Cell \u001b[0;32mIn[24], line 1\u001b[0m\n\u001b[0;32m----> 1\u001b[0m \u001b[43msubmit\u001b[49m\u001b[43m(\u001b[49m\u001b[38;5;241;43m70764\u001b[39;49m\u001b[43m,\u001b[49m\u001b[43m \u001b[49m\u001b[43myear\u001b[49m\u001b[38;5;241;43m=\u001b[39;49m\u001b[43mYEAR\u001b[49m\u001b[43m,\u001b[49m\u001b[43m \u001b[49m\u001b[43mday\u001b[49m\u001b[38;5;241;43m=\u001b[39;49m\u001b[43mDAY\u001b[49m\u001b[43m)\u001b[49m\n",
      "File \u001b[0;32m~/Library/Caches/pypoetry/virtualenvs/advent-of-code-DXdkk4dA-py3.12/lib/python3.12/site-packages/aocd/post.py:57\u001b[0m, in \u001b[0;36msubmit\u001b[0;34m(answer, part, day, year, session, reopen, quiet)\u001b[0m\n\u001b[1;32m     55\u001b[0m         log\u001b[38;5;241m.\u001b[39mwarning(\u001b[38;5;124m\"\u001b[39m\u001b[38;5;124msubmitting for part b (part a is already completed)\u001b[39m\u001b[38;5;124m\"\u001b[39m)\n\u001b[1;32m     56\u001b[0m         part \u001b[38;5;241m=\u001b[39m \u001b[38;5;124m\"\u001b[39m\u001b[38;5;124mb\u001b[39m\u001b[38;5;124m\"\u001b[39m\n\u001b[0;32m---> 57\u001b[0m response \u001b[38;5;241m=\u001b[39m \u001b[43mpuzzle\u001b[49m\u001b[38;5;241;43m.\u001b[39;49m\u001b[43m_submit\u001b[49m\u001b[43m(\u001b[49m\u001b[43mvalue\u001b[49m\u001b[38;5;241;43m=\u001b[39;49m\u001b[43manswer\u001b[49m\u001b[43m,\u001b[49m\u001b[43m \u001b[49m\u001b[43mpart\u001b[49m\u001b[38;5;241;43m=\u001b[39;49m\u001b[43mpart\u001b[49m\u001b[43m,\u001b[49m\u001b[43m \u001b[49m\u001b[43mreopen\u001b[49m\u001b[38;5;241;43m=\u001b[39;49m\u001b[43mreopen\u001b[49m\u001b[43m,\u001b[49m\u001b[43m \u001b[49m\u001b[43mquiet\u001b[49m\u001b[38;5;241;43m=\u001b[39;49m\u001b[43mquiet\u001b[49m\u001b[43m)\u001b[49m\n\u001b[1;32m     58\u001b[0m \u001b[38;5;28;01mreturn\u001b[39;00m response\n",
      "File \u001b[0;32m~/Library/Caches/pypoetry/virtualenvs/advent-of-code-DXdkk4dA-py3.12/lib/python3.12/site-packages/aocd/models.py:508\u001b[0m, in \u001b[0;36mPuzzle._submit\u001b[0;34m(self, value, part, reopen, quiet)\u001b[0m\n\u001b[1;32m    506\u001b[0m     \u001b[38;5;28;01mreturn\u001b[39;00m\n\u001b[1;32m    507\u001b[0m \u001b[38;5;28;01mif\u001b[39;00m part \u001b[38;5;241m==\u001b[39m \u001b[38;5;124m\"\u001b[39m\u001b[38;5;124mb\u001b[39m\u001b[38;5;124m\"\u001b[39m \u001b[38;5;129;01mand\u001b[39;00m value \u001b[38;5;241m==\u001b[39m \u001b[38;5;28mgetattr\u001b[39m(\u001b[38;5;28mself\u001b[39m, \u001b[38;5;124m\"\u001b[39m\u001b[38;5;124manswer_a\u001b[39m\u001b[38;5;124m\"\u001b[39m, \u001b[38;5;28;01mNone\u001b[39;00m):\n\u001b[0;32m--> 508\u001b[0m     \u001b[38;5;28;01mraise\u001b[39;00m AocdError(\n\u001b[1;32m    509\u001b[0m         \u001b[38;5;124mf\u001b[39m\u001b[38;5;124m\"\u001b[39m\u001b[38;5;124mcowardly refusing to submit \u001b[39m\u001b[38;5;132;01m{\u001b[39;00mvalue\u001b[38;5;132;01m}\u001b[39;00m\u001b[38;5;124m for part b, \u001b[39m\u001b[38;5;124m\"\u001b[39m\n\u001b[1;32m    510\u001b[0m         \u001b[38;5;124m\"\u001b[39m\u001b[38;5;124mbecause that was the answer for part a\u001b[39m\u001b[38;5;124m\"\u001b[39m\n\u001b[1;32m    511\u001b[0m     )\n\u001b[1;32m    512\u001b[0m url \u001b[38;5;241m=\u001b[39m \u001b[38;5;28mself\u001b[39m\u001b[38;5;241m.\u001b[39msubmit_url\n\u001b[1;32m    513\u001b[0m check_guess \u001b[38;5;241m=\u001b[39m \u001b[38;5;28mself\u001b[39m\u001b[38;5;241m.\u001b[39m_check_already_solved(value, part)\n",
      "\u001b[0;31mAocdError\u001b[0m: cowardly refusing to submit 70764 for part b, because that was the answer for part a"
     ]
    }
   ],
   "source": [
    "submit(70764, year=YEAR, day=DAY)"
   ]
  },
  {
   "cell_type": "code",
   "execution_count": 25,
   "id": "41e9575d-c42d-4f85-8bf5-1693eb554028",
   "metadata": {},
   "outputs": [
    {
     "name": "stderr",
     "output_type": "stream",
     "text": [
      "answer a: 70764\n",
      "submitting for part b (part a is already completed)\n"
     ]
    },
    {
     "name": "stdout",
     "output_type": "stream",
     "text": [
      "Part b already solved with same answer: 203905\n"
     ]
    }
   ],
   "source": [
    "submit(203905, year=YEAR, day=DAY)"
   ]
  },
  {
   "cell_type": "code",
   "execution_count": null,
   "id": "bc341816-1163-4c5d-a585-04ab81b4d2d7",
   "metadata": {},
   "outputs": [],
   "source": []
  }
 ],
 "metadata": {
  "kernelspec": {
   "display_name": "Python 3 (ipykernel)",
   "language": "python",
   "name": "python3"
  },
  "language_info": {
   "codemirror_mode": {
    "name": "ipython",
    "version": 3
   },
   "file_extension": ".py",
   "mimetype": "text/x-python",
   "name": "python",
   "nbconvert_exporter": "python",
   "pygments_lexer": "ipython3",
   "version": "3.12.0"
  }
 },
 "nbformat": 4,
 "nbformat_minor": 5
}
