{
 "cells": [
  {
   "cell_type": "code",
   "execution_count": 1,
   "id": "cca57e6d-5224-493a-a2a9-5e23bb5546c2",
   "metadata": {},
   "outputs": [
    {
     "name": "stderr",
     "output_type": "stream",
     "text": [
      "current_day is only available in December (EST)\n"
     ]
    }
   ],
   "source": [
    "from aocd import get_data, submit\n",
    "# from aocd.get import current_day\n",
    "\n",
    "from IPython.display import display\n",
    "from IPython.core.display import Markdown"
   ]
  },
  {
   "cell_type": "code",
   "execution_count": 2,
   "id": "e4d6b8a4-25ef-4630-8aa6-6c95c7a8be09",
   "metadata": {},
   "outputs": [],
   "source": [
    "DAY = 2\n",
    "YEAR = 2022"
   ]
  },
  {
   "cell_type": "code",
   "execution_count": 10,
   "id": "388077b9-edd1-4ab9-9a3c-5e24b66346a8",
   "metadata": {},
   "outputs": [
    {
     "data": {
      "text/markdown": [
       "#### See [2022 Day 2](https://adventofcode.com/2022/day/2)."
      ],
      "text/plain": [
       "<IPython.core.display.Markdown object>"
      ]
     },
     "metadata": {},
     "output_type": "display_data"
    }
   ],
   "source": [
    "url = f\"https://adventofcode.com/{YEAR}/day/{DAY}\"\n",
    "display(Markdown(f\"#### See [{YEAR} Day {DAY}]({url}).\"))"
   ]
  },
  {
   "cell_type": "code",
   "execution_count": 4,
   "id": "ced1e284-733b-49e7-9154-18d54af53bdb",
   "metadata": {},
   "outputs": [],
   "source": [
    "data = get_data(year=YEAR, day=DAY)"
   ]
  },
  {
   "cell_type": "code",
   "execution_count": 6,
   "id": "97d3a4d3-b08a-4bff-bfb8-d37cc82a395d",
   "metadata": {},
   "outputs": [
    {
     "data": {
      "text/plain": [
       "['A X', 'A X', 'A Z', 'B X', 'A X']"
      ]
     },
     "execution_count": 6,
     "metadata": {},
     "output_type": "execute_result"
    }
   ],
   "source": [
    "data.splitlines()[:5]"
   ]
  },
  {
   "cell_type": "markdown",
   "id": "c644d7ff-3812-4bcf-b4a4-6feb40c40374",
   "metadata": {},
   "source": [
    "# Part A"
   ]
  },
  {
   "cell_type": "code",
   "execution_count": 26,
   "id": "b56b1589-54a2-4aa1-9a2e-23e11948ae60",
   "metadata": {},
   "outputs": [],
   "source": [
    "MY_MAP = {'X': 'R', 'Y': 'P', 'Z': 'S'}\n",
    "OP_MAP = {'A': 'R', 'B': 'P', 'C': 'S'}\n",
    "MATCHUPS = {\n",
    "    ('R','R'): 'draw',\n",
    "    ('R','P'): 'lose',\n",
    "    ('R','S'): 'win',\n",
    "    ('P','R'): 'win',\n",
    "    ('P','P'): 'draw',\n",
    "    ('P','S'): 'lose',\n",
    "    ('S','R'): 'lose',\n",
    "    ('S','P'): 'win',\n",
    "    ('S','S'): 'draw',\n",
    "}\n",
    "\n",
    "MY_PLAY_POINTS = {'R': 1, 'P': 2, 'S': 3}\n",
    "OUTCOME_POINTS = {'lose': 0, 'draw':3, 'win': 6}"
   ]
  },
  {
   "cell_type": "code",
   "execution_count": 30,
   "id": "b72056d0-e8e3-40a7-aa52-788957ab4564",
   "metadata": {},
   "outputs": [
    {
     "name": "stdout",
     "output_type": "stream",
     "text": [
      "10816\n"
     ]
    }
   ],
   "source": [
    "score = 0\n",
    "\n",
    "for l in data.splitlines():\n",
    "    op, me = l.split(' ')\n",
    "    op = OP_MAP[op]\n",
    "    me = MY_MAP[me]\n",
    "    score += MY_PLAY_POINTS[me]\n",
    "    score += OUTCOME_POINTS[MATCHUPS[(me, op)]]\n",
    "print(score)"
   ]
  },
  {
   "cell_type": "code",
   "execution_count": 31,
   "id": "50e12a9e-ffbc-485e-9724-79f97cd341f9",
   "metadata": {},
   "outputs": [
    {
     "name": "stderr",
     "output_type": "stream",
     "text": [
      "answer a: None\n",
      "submitting for part a\n"
     ]
    },
    {
     "name": "stdout",
     "output_type": "stream",
     "text": [
      "\u001b[32mThat's the right answer!  You are one gold star closer to collecting enough star fruit. [Continue to Part Two]\u001b[0m\n"
     ]
    },
    {
     "data": {
      "text/plain": [
       "<urllib3.response.HTTPResponse at 0x1123dc5e0>"
      ]
     },
     "execution_count": 31,
     "metadata": {},
     "output_type": "execute_result"
    }
   ],
   "source": [
    "submit(score, year=YEAR, day=DAY)"
   ]
  },
  {
   "cell_type": "markdown",
   "id": "ba3abf71-91fd-4fa4-94d3-4cf7b59d923f",
   "metadata": {},
   "source": [
    "# Part B"
   ]
  },
  {
   "cell_type": "code",
   "execution_count": 48,
   "id": "5c6e62d0-df74-4202-b58f-d83362192e13",
   "metadata": {},
   "outputs": [
    {
     "data": {
      "text/plain": [
       "{('R', 'draw'): 'R',\n",
       " ('P', 'lose'): 'R',\n",
       " ('S', 'win'): 'R',\n",
       " ('R', 'win'): 'P',\n",
       " ('P', 'draw'): 'P',\n",
       " ('S', 'lose'): 'P',\n",
       " ('R', 'lose'): 'S',\n",
       " ('P', 'win'): 'S',\n",
       " ('S', 'draw'): 'S'}"
      ]
     },
     "execution_count": 48,
     "metadata": {},
     "output_type": "execute_result"
    }
   ],
   "source": [
    "OUTCOME_MAP = {'X': 'lose', 'Y': 'draw', 'Z': 'win'}\n",
    "MY_PLAY = {(a[1],b):a[0] for a,b in MATCHUPS.items()}\n",
    "MY_PLAY"
   ]
  },
  {
   "cell_type": "code",
   "execution_count": 51,
   "id": "187a294f-9396-4fb5-b29e-3c61a283bb38",
   "metadata": {},
   "outputs": [
    {
     "name": "stdout",
     "output_type": "stream",
     "text": [
      "11657\n"
     ]
    }
   ],
   "source": [
    "score = 0\n",
    "\n",
    "for l in data.splitlines():\n",
    "    # print(l)\n",
    "    op, outcome = l.split(' ')\n",
    "    op = OP_MAP[op]\n",
    "    outcome = OUTCOME_MAP[outcome]\n",
    "    me = MY_PLAY[(op, outcome)]\n",
    "    # print(op, me, outcome)\n",
    "    score += MY_PLAY_POINTS[me]\n",
    "    score += OUTCOME_POINTS[outcome]\n",
    "print(score)"
   ]
  },
  {
   "cell_type": "code",
   "execution_count": 52,
   "id": "41e9575d-c42d-4f85-8bf5-1693eb554028",
   "metadata": {},
   "outputs": [
    {
     "name": "stderr",
     "output_type": "stream",
     "text": [
      "answer a: 10816\n",
      "submitting for part b (part a is already completed)\n"
     ]
    },
    {
     "name": "stdout",
     "output_type": "stream",
     "text": [
      "\u001b[32mThat's the right answer!  You are one gold star closer to collecting enough star fruit.You have completed Day 2! You can [Shareon\n",
      "  Twitter\n",
      "Mastodon] this victory or [Return to Your Advent Calendar].\u001b[0m\n"
     ]
    },
    {
     "data": {
      "text/plain": [
       "<urllib3.response.HTTPResponse at 0x1123e5750>"
      ]
     },
     "execution_count": 52,
     "metadata": {},
     "output_type": "execute_result"
    }
   ],
   "source": [
    "submit(score, year=YEAR, day=DAY)"
   ]
  },
  {
   "cell_type": "code",
   "execution_count": null,
   "id": "bc341816-1163-4c5d-a585-04ab81b4d2d7",
   "metadata": {},
   "outputs": [],
   "source": []
  }
 ],
 "metadata": {
  "kernelspec": {
   "display_name": "Python 3 (ipykernel)",
   "language": "python",
   "name": "python3"
  },
  "language_info": {
   "codemirror_mode": {
    "name": "ipython",
    "version": 3
   },
   "file_extension": ".py",
   "mimetype": "text/x-python",
   "name": "python",
   "nbconvert_exporter": "python",
   "pygments_lexer": "ipython3",
   "version": "3.12.0"
  }
 },
 "nbformat": 4,
 "nbformat_minor": 5
}
