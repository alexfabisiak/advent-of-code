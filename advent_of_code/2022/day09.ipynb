{
 "cells": [
  {
   "cell_type": "code",
   "execution_count": 1,
   "id": "cca57e6d-5224-493a-a2a9-5e23bb5546c2",
   "metadata": {},
   "outputs": [
    {
     "name": "stderr",
     "output_type": "stream",
     "text": [
      "current_day is only available in December (EST)\n"
     ]
    }
   ],
   "source": [
    "from aocd import get_data, submit\n",
    "# from aocd.get import current_day\n",
    "\n",
    "from IPython.display import display\n",
    "from IPython.core.display import Markdown"
   ]
  },
  {
   "cell_type": "code",
   "execution_count": 2,
   "id": "e4d6b8a4-25ef-4630-8aa6-6c95c7a8be09",
   "metadata": {},
   "outputs": [],
   "source": [
    "DAY = 9\n",
    "YEAR = 2022"
   ]
  },
  {
   "cell_type": "code",
   "execution_count": 3,
   "id": "388077b9-edd1-4ab9-9a3c-5e24b66346a8",
   "metadata": {},
   "outputs": [
    {
     "data": {
      "text/markdown": [
       "#### See [2022 Day 9](https://adventofcode.com/2022/day/9)."
      ],
      "text/plain": [
       "<IPython.core.display.Markdown object>"
      ]
     },
     "metadata": {},
     "output_type": "display_data"
    }
   ],
   "source": [
    "url = f\"https://adventofcode.com/{YEAR}/day/{DAY}\"\n",
    "display(Markdown(f\"#### See [{YEAR} Day {DAY}]({url}).\"))"
   ]
  },
  {
   "cell_type": "code",
   "execution_count": 4,
   "id": "ced1e284-733b-49e7-9154-18d54af53bdb",
   "metadata": {},
   "outputs": [],
   "source": [
    "data = get_data(year=YEAR, day=DAY)"
   ]
  },
  {
   "cell_type": "code",
   "execution_count": 5,
   "id": "97d3a4d3-b08a-4bff-bfb8-d37cc82a395d",
   "metadata": {},
   "outputs": [
    {
     "data": {
      "text/plain": [
       "['R 1', 'D 1', 'L 1', 'D 1', 'R 2']"
      ]
     },
     "execution_count": 5,
     "metadata": {},
     "output_type": "execute_result"
    }
   ],
   "source": [
    "data.splitlines()[:5]"
   ]
  },
  {
   "cell_type": "markdown",
   "id": "c644d7ff-3812-4bcf-b4a4-6feb40c40374",
   "metadata": {},
   "source": [
    "# Part A"
   ]
  },
  {
   "cell_type": "code",
   "execution_count": 32,
   "id": "460ff887-3a25-4327-b029-c8a23bcfbe2f",
   "metadata": {},
   "outputs": [],
   "source": [
    "start = (0, 0)\n",
    "head = start\n",
    "tail = head\n",
    "\n",
    "tail_trail = []\n",
    "\n",
    "for move in data.splitlines():\n",
    "    d, n = move.split(' ')\n",
    "    n = int(n)\n",
    "    for _ in range(n):\n",
    "        # Move head\n",
    "        match d:\n",
    "            case 'R':\n",
    "                head = (head[0], head[1]+1)\n",
    "            case 'L':\n",
    "                head = (head[0], head[1]-1)\n",
    "            case 'U':\n",
    "                head = (head[0]-1, head[1])\n",
    "            case 'D':\n",
    "                head = (head[0]+1, head[1])\n",
    "\n",
    "        # Move tail\n",
    "        if tail[0] + 1 < head[0]:\n",
    "            if tail[1] == head[1]:\n",
    "                tail = (tail[0] + 1, tail[1])\n",
    "            elif tail[1] < head[1]:\n",
    "                tail = (tail[0] + 1, tail[1] + 1)\n",
    "            elif tail[1] > head[1]:\n",
    "                tail = (tail[0] + 1, tail[1] - 1)\n",
    "        elif head[0] < tail[0] - 1:\n",
    "            if tail[1] == head[1]:\n",
    "                tail = (tail[0] - 1, tail[1])\n",
    "            elif tail[1] < head[1]:\n",
    "                tail = (tail[0] - 1, tail[1] + 1)\n",
    "            elif tail[1] > head[1]:\n",
    "                tail = (tail[0] - 1, tail[1] - 1)\n",
    "        elif tail[1] + 1 < head[1]:\n",
    "            if tail[0] == head[0]:\n",
    "                tail = (tail[0], tail[1] + 1)\n",
    "            elif tail[0] < head[0]:\n",
    "                tail = (tail[0] + 1, tail[1] + 1)\n",
    "            elif tail[0] > head[0]:\n",
    "                tail = (tail[0] - 1, tail[1] + 1)\n",
    "        elif head[1] < tail[1] - 1:\n",
    "            if tail[0] == head[0]:\n",
    "                tail = (tail[0], tail[1] - 1)\n",
    "            elif tail[0] < head[0]:\n",
    "                tail = (tail[0] + 1, tail[1] - 1)\n",
    "            elif tail[0] > head[0]:\n",
    "                tail = (tail[0] - 1, tail[1] - 1)\n",
    "        \n",
    "        tail_trail.append(tail)\n",
    "n_visit = len(set(tail_trail))"
   ]
  },
  {
   "cell_type": "code",
   "execution_count": 33,
   "id": "50e12a9e-ffbc-485e-9724-79f97cd341f9",
   "metadata": {},
   "outputs": [
    {
     "name": "stderr",
     "output_type": "stream",
     "text": [
      "answer a: None\n",
      "submitting for part a\n"
     ]
    },
    {
     "name": "stdout",
     "output_type": "stream",
     "text": [
      "\u001b[32mThat's the right answer!  You are one gold star closer to collecting enough star fruit. [Continue to Part Two]\u001b[0m\n"
     ]
    },
    {
     "data": {
      "text/plain": [
       "<urllib3.response.HTTPResponse at 0x10b373d90>"
      ]
     },
     "execution_count": 33,
     "metadata": {},
     "output_type": "execute_result"
    }
   ],
   "source": [
    "submit(n_visit, year=YEAR, day=DAY)"
   ]
  },
  {
   "cell_type": "markdown",
   "id": "ba3abf71-91fd-4fa4-94d3-4cf7b59d923f",
   "metadata": {},
   "source": [
    "# Part B"
   ]
  },
  {
   "cell_type": "code",
   "execution_count": null,
   "id": "49d0987c-3711-4a4f-94da-26c952f48aad",
   "metadata": {},
   "outputs": [],
   "source": []
  },
  {
   "cell_type": "code",
   "execution_count": null,
   "id": "41e9575d-c42d-4f85-8bf5-1693eb554028",
   "metadata": {},
   "outputs": [],
   "source": [
    "submit(total, year=YEAR, day=DAY)"
   ]
  },
  {
   "cell_type": "code",
   "execution_count": null,
   "id": "bc341816-1163-4c5d-a585-04ab81b4d2d7",
   "metadata": {},
   "outputs": [],
   "source": []
  }
 ],
 "metadata": {
  "kernelspec": {
   "display_name": "Python 3 (ipykernel)",
   "language": "python",
   "name": "python3"
  },
  "language_info": {
   "codemirror_mode": {
    "name": "ipython",
    "version": 3
   },
   "file_extension": ".py",
   "mimetype": "text/x-python",
   "name": "python",
   "nbconvert_exporter": "python",
   "pygments_lexer": "ipython3",
   "version": "3.12.0"
  }
 },
 "nbformat": 4,
 "nbformat_minor": 5
}
